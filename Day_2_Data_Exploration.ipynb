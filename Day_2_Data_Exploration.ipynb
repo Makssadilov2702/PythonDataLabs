{
 "cells": [
  {
   "cell_type": "code",
   "execution_count": 1,
   "id": "563c2b22",
   "metadata": {},
   "outputs": [],
   "source": [
    "import pandas as pd\n",
    "\n",
    "# Загрузка данных\n",
    "df = pd.read_csv('Sleep_Health_Lifestyle_preprocessed.csv')\n",
    "\n",
    "# Примеры фильтрации:\n",
    "high_sleep_quality = df[df['Quality of Sleep'] >= 8]  # Люди с высоким качеством сна\n",
    "high_stress = df[df['Stress Level'] > 6]             # Группа с высоким стрессом\n",
    "doctors = df[df['Occupation_Code'] == 1]             # Только врачи (если 1 = 'Doctor')"
   ]
  },
  {
   "cell_type": "code",
   "execution_count": 6,
   "id": "b8a93029",
   "metadata": {},
   "outputs": [
    {
     "name": "stdout",
     "output_type": "stream",
     "text": [
      "\n",
      "2. Информация о данных:\n",
      "<class 'pandas.core.frame.DataFrame'>\n",
      "RangeIndex: 374 entries, 0 to 373\n",
      "Data columns (total 15 columns):\n",
      " #   Column                   Non-Null Count  Dtype\n",
      "---  ------                   --------------  -----\n",
      " 0   Person ID                374 non-null    int64\n",
      " 1   Age                      374 non-null    int64\n",
      " 2   Sleep Duration           374 non-null    int64\n",
      " 3   Quality of Sleep         374 non-null    int64\n",
      " 4   Physical Activity Level  374 non-null    int64\n",
      " 5   Stress Level             374 non-null    int64\n",
      " 6   Heart Rate               374 non-null    int64\n",
      " 7   Daily Steps              374 non-null    int64\n",
      " 8   Systolic_BP              374 non-null    int64\n",
      " 9   Diastolic_BP             374 non-null    int64\n",
      " 10  Gender_Code              374 non-null    int64\n",
      " 11  BMI_Code                 374 non-null    int64\n",
      " 12  Occupation_Code          374 non-null    int64\n",
      " 13  Has_Sleep_Disorder       374 non-null    int64\n",
      " 14  Sleep_Disorder_Code      374 non-null    int64\n",
      "dtypes: int64(15)\n",
      "memory usage: 44.0 KB\n"
     ]
    },
    {
     "data": {
      "text/plain": [
       "None"
      ]
     },
     "metadata": {},
     "output_type": "display_data"
    }
   ],
   "source": [
    "print(\"\\n2. Информация о данных:\")\n",
    "display(df.info())"
   ]
  },
  {
   "cell_type": "code",
   "execution_count": 3,
   "id": "42950c05",
   "metadata": {},
   "outputs": [
    {
     "name": "stdout",
     "output_type": "stream",
     "text": [
      "Люди с высоким качеством сна (>=8):\n"
     ]
    },
    {
     "data": {
      "application/vnd.microsoft.datawrangler.viewer.v0+json": {
       "columns": [
        {
         "name": "index",
         "rawType": "int64",
         "type": "integer"
        },
        {
         "name": "Person ID",
         "rawType": "int64",
         "type": "integer"
        },
        {
         "name": "Age",
         "rawType": "int64",
         "type": "integer"
        },
        {
         "name": "Sleep Duration",
         "rawType": "int64",
         "type": "integer"
        },
        {
         "name": "Quality of Sleep",
         "rawType": "int64",
         "type": "integer"
        },
        {
         "name": "Physical Activity Level",
         "rawType": "int64",
         "type": "integer"
        },
        {
         "name": "Stress Level",
         "rawType": "int64",
         "type": "integer"
        },
        {
         "name": "Heart Rate",
         "rawType": "int64",
         "type": "integer"
        },
        {
         "name": "Daily Steps",
         "rawType": "int64",
         "type": "integer"
        },
        {
         "name": "Systolic_BP",
         "rawType": "int64",
         "type": "integer"
        },
        {
         "name": "Diastolic_BP",
         "rawType": "int64",
         "type": "integer"
        },
        {
         "name": "Gender_Code",
         "rawType": "int64",
         "type": "integer"
        },
        {
         "name": "BMI_Code",
         "rawType": "int64",
         "type": "integer"
        },
        {
         "name": "Occupation_Code",
         "rawType": "int64",
         "type": "integer"
        },
        {
         "name": "Has_Sleep_Disorder",
         "rawType": "int64",
         "type": "integer"
        },
        {
         "name": "Sleep_Disorder_Code",
         "rawType": "int64",
         "type": "integer"
        }
       ],
       "ref": "dff33134-6cc9-4d7f-9e5c-1e3c65aa8326",
       "rows": [
        [
         "32",
         "33",
         "31",
         "7",
         "8",
         "75",
         "4",
         "69",
         "6800",
         "117",
         "76",
         "1",
         "0",
         "5",
         "0",
         "0"
        ],
        [
         "50",
         "51",
         "32",
         "7",
         "8",
         "45",
         "3",
         "70",
         "8000",
         "120",
         "80",
         "0",
         "0",
         "2",
         "0",
         "0"
        ],
        [
         "51",
         "52",
         "32",
         "7",
         "8",
         "45",
         "3",
         "70",
         "8000",
         "120",
         "80",
         "0",
         "0",
         "2",
         "0",
         "0"
        ],
        [
         "66",
         "67",
         "32",
         "7",
         "8",
         "50",
         "6",
         "68",
         "7000",
         "118",
         "76",
         "0",
         "0",
         "0",
         "0",
         "0"
        ],
        [
         "84",
         "85",
         "35",
         "7",
         "8",
         "60",
         "5",
         "70",
         "8000",
         "120",
         "80",
         "0",
         "0",
         "9",
         "0",
         "0"
        ]
       ],
       "shape": {
        "columns": 15,
        "rows": 5
       }
      },
      "text/html": [
       "<div>\n",
       "<style scoped>\n",
       "    .dataframe tbody tr th:only-of-type {\n",
       "        vertical-align: middle;\n",
       "    }\n",
       "\n",
       "    .dataframe tbody tr th {\n",
       "        vertical-align: top;\n",
       "    }\n",
       "\n",
       "    .dataframe thead th {\n",
       "        text-align: right;\n",
       "    }\n",
       "</style>\n",
       "<table border=\"1\" class=\"dataframe\">\n",
       "  <thead>\n",
       "    <tr style=\"text-align: right;\">\n",
       "      <th></th>\n",
       "      <th>Person ID</th>\n",
       "      <th>Age</th>\n",
       "      <th>Sleep Duration</th>\n",
       "      <th>Quality of Sleep</th>\n",
       "      <th>Physical Activity Level</th>\n",
       "      <th>Stress Level</th>\n",
       "      <th>Heart Rate</th>\n",
       "      <th>Daily Steps</th>\n",
       "      <th>Systolic_BP</th>\n",
       "      <th>Diastolic_BP</th>\n",
       "      <th>Gender_Code</th>\n",
       "      <th>BMI_Code</th>\n",
       "      <th>Occupation_Code</th>\n",
       "      <th>Has_Sleep_Disorder</th>\n",
       "      <th>Sleep_Disorder_Code</th>\n",
       "    </tr>\n",
       "  </thead>\n",
       "  <tbody>\n",
       "    <tr>\n",
       "      <th>32</th>\n",
       "      <td>33</td>\n",
       "      <td>31</td>\n",
       "      <td>7</td>\n",
       "      <td>8</td>\n",
       "      <td>75</td>\n",
       "      <td>4</td>\n",
       "      <td>69</td>\n",
       "      <td>6800</td>\n",
       "      <td>117</td>\n",
       "      <td>76</td>\n",
       "      <td>1</td>\n",
       "      <td>0</td>\n",
       "      <td>5</td>\n",
       "      <td>0</td>\n",
       "      <td>0</td>\n",
       "    </tr>\n",
       "    <tr>\n",
       "      <th>50</th>\n",
       "      <td>51</td>\n",
       "      <td>32</td>\n",
       "      <td>7</td>\n",
       "      <td>8</td>\n",
       "      <td>45</td>\n",
       "      <td>3</td>\n",
       "      <td>70</td>\n",
       "      <td>8000</td>\n",
       "      <td>120</td>\n",
       "      <td>80</td>\n",
       "      <td>0</td>\n",
       "      <td>0</td>\n",
       "      <td>2</td>\n",
       "      <td>0</td>\n",
       "      <td>0</td>\n",
       "    </tr>\n",
       "    <tr>\n",
       "      <th>51</th>\n",
       "      <td>52</td>\n",
       "      <td>32</td>\n",
       "      <td>7</td>\n",
       "      <td>8</td>\n",
       "      <td>45</td>\n",
       "      <td>3</td>\n",
       "      <td>70</td>\n",
       "      <td>8000</td>\n",
       "      <td>120</td>\n",
       "      <td>80</td>\n",
       "      <td>0</td>\n",
       "      <td>0</td>\n",
       "      <td>2</td>\n",
       "      <td>0</td>\n",
       "      <td>0</td>\n",
       "    </tr>\n",
       "    <tr>\n",
       "      <th>66</th>\n",
       "      <td>67</td>\n",
       "      <td>32</td>\n",
       "      <td>7</td>\n",
       "      <td>8</td>\n",
       "      <td>50</td>\n",
       "      <td>6</td>\n",
       "      <td>68</td>\n",
       "      <td>7000</td>\n",
       "      <td>118</td>\n",
       "      <td>76</td>\n",
       "      <td>0</td>\n",
       "      <td>0</td>\n",
       "      <td>0</td>\n",
       "      <td>0</td>\n",
       "      <td>0</td>\n",
       "    </tr>\n",
       "    <tr>\n",
       "      <th>84</th>\n",
       "      <td>85</td>\n",
       "      <td>35</td>\n",
       "      <td>7</td>\n",
       "      <td>8</td>\n",
       "      <td>60</td>\n",
       "      <td>5</td>\n",
       "      <td>70</td>\n",
       "      <td>8000</td>\n",
       "      <td>120</td>\n",
       "      <td>80</td>\n",
       "      <td>0</td>\n",
       "      <td>0</td>\n",
       "      <td>9</td>\n",
       "      <td>0</td>\n",
       "      <td>0</td>\n",
       "    </tr>\n",
       "  </tbody>\n",
       "</table>\n",
       "</div>"
      ],
      "text/plain": [
       "    Person ID  Age  Sleep Duration  Quality of Sleep  Physical Activity Level  \\\n",
       "32         33   31               7                 8                       75   \n",
       "50         51   32               7                 8                       45   \n",
       "51         52   32               7                 8                       45   \n",
       "66         67   32               7                 8                       50   \n",
       "84         85   35               7                 8                       60   \n",
       "\n",
       "    Stress Level  Heart Rate  Daily Steps  Systolic_BP  Diastolic_BP  \\\n",
       "32             4          69         6800          117            76   \n",
       "50             3          70         8000          120            80   \n",
       "51             3          70         8000          120            80   \n",
       "66             6          68         7000          118            76   \n",
       "84             5          70         8000          120            80   \n",
       "\n",
       "    Gender_Code  BMI_Code  Occupation_Code  Has_Sleep_Disorder  \\\n",
       "32            1         0                5                   0   \n",
       "50            0         0                2                   0   \n",
       "51            0         0                2                   0   \n",
       "66            0         0                0                   0   \n",
       "84            0         0                9                   0   \n",
       "\n",
       "    Sleep_Disorder_Code  \n",
       "32                    0  \n",
       "50                    0  \n",
       "51                    0  \n",
       "66                    0  \n",
       "84                    0  "
      ]
     },
     "metadata": {},
     "output_type": "display_data"
    },
    {
     "name": "stdout",
     "output_type": "stream",
     "text": [
      "\n",
      "Группа с высоким стрессом (>6):\n"
     ]
    },
    {
     "data": {
      "application/vnd.microsoft.datawrangler.viewer.v0+json": {
       "columns": [
        {
         "name": "index",
         "rawType": "int64",
         "type": "integer"
        },
        {
         "name": "Person ID",
         "rawType": "int64",
         "type": "integer"
        },
        {
         "name": "Age",
         "rawType": "int64",
         "type": "integer"
        },
        {
         "name": "Sleep Duration",
         "rawType": "int64",
         "type": "integer"
        },
        {
         "name": "Quality of Sleep",
         "rawType": "int64",
         "type": "integer"
        },
        {
         "name": "Physical Activity Level",
         "rawType": "int64",
         "type": "integer"
        },
        {
         "name": "Stress Level",
         "rawType": "int64",
         "type": "integer"
        },
        {
         "name": "Heart Rate",
         "rawType": "int64",
         "type": "integer"
        },
        {
         "name": "Daily Steps",
         "rawType": "int64",
         "type": "integer"
        },
        {
         "name": "Systolic_BP",
         "rawType": "int64",
         "type": "integer"
        },
        {
         "name": "Diastolic_BP",
         "rawType": "int64",
         "type": "integer"
        },
        {
         "name": "Gender_Code",
         "rawType": "int64",
         "type": "integer"
        },
        {
         "name": "BMI_Code",
         "rawType": "int64",
         "type": "integer"
        },
        {
         "name": "Occupation_Code",
         "rawType": "int64",
         "type": "integer"
        },
        {
         "name": "Has_Sleep_Disorder",
         "rawType": "int64",
         "type": "integer"
        },
        {
         "name": "Sleep_Disorder_Code",
         "rawType": "int64",
         "type": "integer"
        }
       ],
       "ref": "29b5950c-21a6-4fe7-84c5-028cdfae5104",
       "rows": [
        [
         "1",
         "2",
         "28",
         "6",
         "6",
         "60",
         "8",
         "75",
         "10000",
         "125",
         "80",
         "0",
         "0",
         "1",
         "0",
         "0"
        ],
        [
         "2",
         "3",
         "28",
         "6",
         "6",
         "60",
         "8",
         "75",
         "10000",
         "125",
         "80",
         "0",
         "0",
         "1",
         "0",
         "0"
        ],
        [
         "3",
         "4",
         "28",
         "5",
         "4",
         "30",
         "8",
         "85",
         "3000",
         "140",
         "90",
         "0",
         "2",
         "6",
         "1",
         "2"
        ],
        [
         "4",
         "5",
         "28",
         "5",
         "4",
         "30",
         "8",
         "85",
         "3000",
         "140",
         "90",
         "0",
         "2",
         "6",
         "1",
         "2"
        ],
        [
         "5",
         "6",
         "28",
         "5",
         "4",
         "30",
         "8",
         "85",
         "3000",
         "140",
         "90",
         "0",
         "2",
         "9",
         "1",
         "1"
        ]
       ],
       "shape": {
        "columns": 15,
        "rows": 5
       }
      },
      "text/html": [
       "<div>\n",
       "<style scoped>\n",
       "    .dataframe tbody tr th:only-of-type {\n",
       "        vertical-align: middle;\n",
       "    }\n",
       "\n",
       "    .dataframe tbody tr th {\n",
       "        vertical-align: top;\n",
       "    }\n",
       "\n",
       "    .dataframe thead th {\n",
       "        text-align: right;\n",
       "    }\n",
       "</style>\n",
       "<table border=\"1\" class=\"dataframe\">\n",
       "  <thead>\n",
       "    <tr style=\"text-align: right;\">\n",
       "      <th></th>\n",
       "      <th>Person ID</th>\n",
       "      <th>Age</th>\n",
       "      <th>Sleep Duration</th>\n",
       "      <th>Quality of Sleep</th>\n",
       "      <th>Physical Activity Level</th>\n",
       "      <th>Stress Level</th>\n",
       "      <th>Heart Rate</th>\n",
       "      <th>Daily Steps</th>\n",
       "      <th>Systolic_BP</th>\n",
       "      <th>Diastolic_BP</th>\n",
       "      <th>Gender_Code</th>\n",
       "      <th>BMI_Code</th>\n",
       "      <th>Occupation_Code</th>\n",
       "      <th>Has_Sleep_Disorder</th>\n",
       "      <th>Sleep_Disorder_Code</th>\n",
       "    </tr>\n",
       "  </thead>\n",
       "  <tbody>\n",
       "    <tr>\n",
       "      <th>1</th>\n",
       "      <td>2</td>\n",
       "      <td>28</td>\n",
       "      <td>6</td>\n",
       "      <td>6</td>\n",
       "      <td>60</td>\n",
       "      <td>8</td>\n",
       "      <td>75</td>\n",
       "      <td>10000</td>\n",
       "      <td>125</td>\n",
       "      <td>80</td>\n",
       "      <td>0</td>\n",
       "      <td>0</td>\n",
       "      <td>1</td>\n",
       "      <td>0</td>\n",
       "      <td>0</td>\n",
       "    </tr>\n",
       "    <tr>\n",
       "      <th>2</th>\n",
       "      <td>3</td>\n",
       "      <td>28</td>\n",
       "      <td>6</td>\n",
       "      <td>6</td>\n",
       "      <td>60</td>\n",
       "      <td>8</td>\n",
       "      <td>75</td>\n",
       "      <td>10000</td>\n",
       "      <td>125</td>\n",
       "      <td>80</td>\n",
       "      <td>0</td>\n",
       "      <td>0</td>\n",
       "      <td>1</td>\n",
       "      <td>0</td>\n",
       "      <td>0</td>\n",
       "    </tr>\n",
       "    <tr>\n",
       "      <th>3</th>\n",
       "      <td>4</td>\n",
       "      <td>28</td>\n",
       "      <td>5</td>\n",
       "      <td>4</td>\n",
       "      <td>30</td>\n",
       "      <td>8</td>\n",
       "      <td>85</td>\n",
       "      <td>3000</td>\n",
       "      <td>140</td>\n",
       "      <td>90</td>\n",
       "      <td>0</td>\n",
       "      <td>2</td>\n",
       "      <td>6</td>\n",
       "      <td>1</td>\n",
       "      <td>2</td>\n",
       "    </tr>\n",
       "    <tr>\n",
       "      <th>4</th>\n",
       "      <td>5</td>\n",
       "      <td>28</td>\n",
       "      <td>5</td>\n",
       "      <td>4</td>\n",
       "      <td>30</td>\n",
       "      <td>8</td>\n",
       "      <td>85</td>\n",
       "      <td>3000</td>\n",
       "      <td>140</td>\n",
       "      <td>90</td>\n",
       "      <td>0</td>\n",
       "      <td>2</td>\n",
       "      <td>6</td>\n",
       "      <td>1</td>\n",
       "      <td>2</td>\n",
       "    </tr>\n",
       "    <tr>\n",
       "      <th>5</th>\n",
       "      <td>6</td>\n",
       "      <td>28</td>\n",
       "      <td>5</td>\n",
       "      <td>4</td>\n",
       "      <td>30</td>\n",
       "      <td>8</td>\n",
       "      <td>85</td>\n",
       "      <td>3000</td>\n",
       "      <td>140</td>\n",
       "      <td>90</td>\n",
       "      <td>0</td>\n",
       "      <td>2</td>\n",
       "      <td>9</td>\n",
       "      <td>1</td>\n",
       "      <td>1</td>\n",
       "    </tr>\n",
       "  </tbody>\n",
       "</table>\n",
       "</div>"
      ],
      "text/plain": [
       "   Person ID  Age  Sleep Duration  Quality of Sleep  Physical Activity Level  \\\n",
       "1          2   28               6                 6                       60   \n",
       "2          3   28               6                 6                       60   \n",
       "3          4   28               5                 4                       30   \n",
       "4          5   28               5                 4                       30   \n",
       "5          6   28               5                 4                       30   \n",
       "\n",
       "   Stress Level  Heart Rate  Daily Steps  Systolic_BP  Diastolic_BP  \\\n",
       "1             8          75        10000          125            80   \n",
       "2             8          75        10000          125            80   \n",
       "3             8          85         3000          140            90   \n",
       "4             8          85         3000          140            90   \n",
       "5             8          85         3000          140            90   \n",
       "\n",
       "   Gender_Code  BMI_Code  Occupation_Code  Has_Sleep_Disorder  \\\n",
       "1            0         0                1                   0   \n",
       "2            0         0                1                   0   \n",
       "3            0         2                6                   1   \n",
       "4            0         2                6                   1   \n",
       "5            0         2                9                   1   \n",
       "\n",
       "   Sleep_Disorder_Code  \n",
       "1                    0  \n",
       "2                    0  \n",
       "3                    2  \n",
       "4                    2  \n",
       "5                    1  "
      ]
     },
     "metadata": {},
     "output_type": "display_data"
    },
    {
     "name": "stdout",
     "output_type": "stream",
     "text": [
      "\n",
      "Данные по врачам:\n"
     ]
    },
    {
     "data": {
      "application/vnd.microsoft.datawrangler.viewer.v0+json": {
       "columns": [
        {
         "name": "index",
         "rawType": "int64",
         "type": "integer"
        },
        {
         "name": "Person ID",
         "rawType": "int64",
         "type": "integer"
        },
        {
         "name": "Age",
         "rawType": "int64",
         "type": "integer"
        },
        {
         "name": "Sleep Duration",
         "rawType": "int64",
         "type": "integer"
        },
        {
         "name": "Quality of Sleep",
         "rawType": "int64",
         "type": "integer"
        },
        {
         "name": "Physical Activity Level",
         "rawType": "int64",
         "type": "integer"
        },
        {
         "name": "Stress Level",
         "rawType": "int64",
         "type": "integer"
        },
        {
         "name": "Heart Rate",
         "rawType": "int64",
         "type": "integer"
        },
        {
         "name": "Daily Steps",
         "rawType": "int64",
         "type": "integer"
        },
        {
         "name": "Systolic_BP",
         "rawType": "int64",
         "type": "integer"
        },
        {
         "name": "Diastolic_BP",
         "rawType": "int64",
         "type": "integer"
        },
        {
         "name": "Gender_Code",
         "rawType": "int64",
         "type": "integer"
        },
        {
         "name": "BMI_Code",
         "rawType": "int64",
         "type": "integer"
        },
        {
         "name": "Occupation_Code",
         "rawType": "int64",
         "type": "integer"
        },
        {
         "name": "Has_Sleep_Disorder",
         "rawType": "int64",
         "type": "integer"
        },
        {
         "name": "Sleep_Disorder_Code",
         "rawType": "int64",
         "type": "integer"
        }
       ],
       "ref": "f255a605-8ab2-4751-a435-ff20afa5d8ca",
       "rows": [
        [
         "1",
         "2",
         "28",
         "6",
         "6",
         "60",
         "8",
         "75",
         "10000",
         "125",
         "80",
         "0",
         "0",
         "1",
         "0",
         "0"
        ],
        [
         "2",
         "3",
         "28",
         "6",
         "6",
         "60",
         "8",
         "75",
         "10000",
         "125",
         "80",
         "0",
         "0",
         "1",
         "0",
         "0"
        ],
        [
         "7",
         "8",
         "29",
         "7",
         "7",
         "75",
         "6",
         "70",
         "8000",
         "120",
         "80",
         "0",
         "0",
         "1",
         "0",
         "0"
        ],
        [
         "8",
         "9",
         "29",
         "7",
         "7",
         "75",
         "6",
         "70",
         "8000",
         "120",
         "80",
         "0",
         "0",
         "1",
         "0",
         "0"
        ],
        [
         "9",
         "10",
         "29",
         "7",
         "7",
         "75",
         "6",
         "70",
         "8000",
         "120",
         "80",
         "0",
         "0",
         "1",
         "0",
         "0"
        ]
       ],
       "shape": {
        "columns": 15,
        "rows": 5
       }
      },
      "text/html": [
       "<div>\n",
       "<style scoped>\n",
       "    .dataframe tbody tr th:only-of-type {\n",
       "        vertical-align: middle;\n",
       "    }\n",
       "\n",
       "    .dataframe tbody tr th {\n",
       "        vertical-align: top;\n",
       "    }\n",
       "\n",
       "    .dataframe thead th {\n",
       "        text-align: right;\n",
       "    }\n",
       "</style>\n",
       "<table border=\"1\" class=\"dataframe\">\n",
       "  <thead>\n",
       "    <tr style=\"text-align: right;\">\n",
       "      <th></th>\n",
       "      <th>Person ID</th>\n",
       "      <th>Age</th>\n",
       "      <th>Sleep Duration</th>\n",
       "      <th>Quality of Sleep</th>\n",
       "      <th>Physical Activity Level</th>\n",
       "      <th>Stress Level</th>\n",
       "      <th>Heart Rate</th>\n",
       "      <th>Daily Steps</th>\n",
       "      <th>Systolic_BP</th>\n",
       "      <th>Diastolic_BP</th>\n",
       "      <th>Gender_Code</th>\n",
       "      <th>BMI_Code</th>\n",
       "      <th>Occupation_Code</th>\n",
       "      <th>Has_Sleep_Disorder</th>\n",
       "      <th>Sleep_Disorder_Code</th>\n",
       "    </tr>\n",
       "  </thead>\n",
       "  <tbody>\n",
       "    <tr>\n",
       "      <th>1</th>\n",
       "      <td>2</td>\n",
       "      <td>28</td>\n",
       "      <td>6</td>\n",
       "      <td>6</td>\n",
       "      <td>60</td>\n",
       "      <td>8</td>\n",
       "      <td>75</td>\n",
       "      <td>10000</td>\n",
       "      <td>125</td>\n",
       "      <td>80</td>\n",
       "      <td>0</td>\n",
       "      <td>0</td>\n",
       "      <td>1</td>\n",
       "      <td>0</td>\n",
       "      <td>0</td>\n",
       "    </tr>\n",
       "    <tr>\n",
       "      <th>2</th>\n",
       "      <td>3</td>\n",
       "      <td>28</td>\n",
       "      <td>6</td>\n",
       "      <td>6</td>\n",
       "      <td>60</td>\n",
       "      <td>8</td>\n",
       "      <td>75</td>\n",
       "      <td>10000</td>\n",
       "      <td>125</td>\n",
       "      <td>80</td>\n",
       "      <td>0</td>\n",
       "      <td>0</td>\n",
       "      <td>1</td>\n",
       "      <td>0</td>\n",
       "      <td>0</td>\n",
       "    </tr>\n",
       "    <tr>\n",
       "      <th>7</th>\n",
       "      <td>8</td>\n",
       "      <td>29</td>\n",
       "      <td>7</td>\n",
       "      <td>7</td>\n",
       "      <td>75</td>\n",
       "      <td>6</td>\n",
       "      <td>70</td>\n",
       "      <td>8000</td>\n",
       "      <td>120</td>\n",
       "      <td>80</td>\n",
       "      <td>0</td>\n",
       "      <td>0</td>\n",
       "      <td>1</td>\n",
       "      <td>0</td>\n",
       "      <td>0</td>\n",
       "    </tr>\n",
       "    <tr>\n",
       "      <th>8</th>\n",
       "      <td>9</td>\n",
       "      <td>29</td>\n",
       "      <td>7</td>\n",
       "      <td>7</td>\n",
       "      <td>75</td>\n",
       "      <td>6</td>\n",
       "      <td>70</td>\n",
       "      <td>8000</td>\n",
       "      <td>120</td>\n",
       "      <td>80</td>\n",
       "      <td>0</td>\n",
       "      <td>0</td>\n",
       "      <td>1</td>\n",
       "      <td>0</td>\n",
       "      <td>0</td>\n",
       "    </tr>\n",
       "    <tr>\n",
       "      <th>9</th>\n",
       "      <td>10</td>\n",
       "      <td>29</td>\n",
       "      <td>7</td>\n",
       "      <td>7</td>\n",
       "      <td>75</td>\n",
       "      <td>6</td>\n",
       "      <td>70</td>\n",
       "      <td>8000</td>\n",
       "      <td>120</td>\n",
       "      <td>80</td>\n",
       "      <td>0</td>\n",
       "      <td>0</td>\n",
       "      <td>1</td>\n",
       "      <td>0</td>\n",
       "      <td>0</td>\n",
       "    </tr>\n",
       "  </tbody>\n",
       "</table>\n",
       "</div>"
      ],
      "text/plain": [
       "   Person ID  Age  Sleep Duration  Quality of Sleep  Physical Activity Level  \\\n",
       "1          2   28               6                 6                       60   \n",
       "2          3   28               6                 6                       60   \n",
       "7          8   29               7                 7                       75   \n",
       "8          9   29               7                 7                       75   \n",
       "9         10   29               7                 7                       75   \n",
       "\n",
       "   Stress Level  Heart Rate  Daily Steps  Systolic_BP  Diastolic_BP  \\\n",
       "1             8          75        10000          125            80   \n",
       "2             8          75        10000          125            80   \n",
       "7             6          70         8000          120            80   \n",
       "8             6          70         8000          120            80   \n",
       "9             6          70         8000          120            80   \n",
       "\n",
       "   Gender_Code  BMI_Code  Occupation_Code  Has_Sleep_Disorder  \\\n",
       "1            0         0                1                   0   \n",
       "2            0         0                1                   0   \n",
       "7            0         0                1                   0   \n",
       "8            0         0                1                   0   \n",
       "9            0         0                1                   0   \n",
       "\n",
       "   Sleep_Disorder_Code  \n",
       "1                    0  \n",
       "2                    0  \n",
       "7                    0  \n",
       "8                    0  \n",
       "9                    0  "
      ]
     },
     "metadata": {},
     "output_type": "display_data"
    }
   ],
   "source": [
    "from IPython.display import display\n",
    "\n",
    "# Для красивого отображения всех колонок\n",
    "pd.set_option('display.max_columns', None)\n",
    "\n",
    "print(\"Люди с высоким качеством сна (>=8):\")\n",
    "display(high_sleep_quality.head())  # Первые 5 строк\n",
    "\n",
    "print(\"\\nГруппа с высоким стрессом (>6):\")\n",
    "display(high_stress.head())\n",
    "\n",
    "print(\"\\nДанные по врачам:\")\n",
    "display(doctors.head())"
   ]
  },
  {
   "cell_type": "code",
   "execution_count": 11,
   "id": "850bf82c",
   "metadata": {},
   "outputs": [],
   "source": [
    "# Средние показатели по профессиям\n",
    "occupation_stats = df.groupby('Occupation_Code').agg({\n",
    "    'Sleep Duration': 'mean',\n",
    "    'Stress Level': 'median',\n",
    "    'Quality of Sleep': 'mean',\n",
    "    'Systolic_BP' :'mean',\n",
    "    'Diastolic_BP' :'mean'\n",
    "}).reset_index().round(1)  # <- Добавлено .round(1)\n",
    "\n",
    "# Сравнение по полу\n",
    "gender_stats = df.groupby('Gender_Code').agg({\n",
    "    'Physical Activity Level': 'mean',\n",
    "    'Heart Rate': 'median',\n",
    "    'Sleep Duration': 'mean',\n",
    "    'Stress Level': 'median',\n",
    "    'Quality of Sleep': 'mean',\n",
    "    'Systolic_BP' :'mean',\n",
    "    'Diastolic_BP' :'mean'\n",
    "}).reset_index().round(1)  # <- Добавлено .round(1)"
   ]
  },
  {
   "cell_type": "code",
   "execution_count": 12,
   "id": "b44f2547",
   "metadata": {},
   "outputs": [
    {
     "name": "stdout",
     "output_type": "stream",
     "text": [
      "Средние показатели по профессиям:\n"
     ]
    },
    {
     "data": {
      "application/vnd.microsoft.datawrangler.viewer.v0+json": {
       "columns": [
        {
         "name": "index",
         "rawType": "int64",
         "type": "integer"
        },
        {
         "name": "Occupation_Code",
         "rawType": "int64",
         "type": "integer"
        },
        {
         "name": "Sleep Duration",
         "rawType": "float64",
         "type": "float"
        },
        {
         "name": "Stress Level",
         "rawType": "float64",
         "type": "float"
        },
        {
         "name": "Quality of Sleep",
         "rawType": "float64",
         "type": "float"
        },
        {
         "name": "Systolic_BP",
         "rawType": "float64",
         "type": "float"
        },
        {
         "name": "Diastolic_BP",
         "rawType": "float64",
         "type": "float"
        }
       ],
       "ref": "789ec8fb-8c82-4afa-9d61-5b7e8fb1bedb",
       "rows": [
        [
         "0",
         "0",
         "6.9",
         "4.0",
         "7.9",
         "117.7",
         "76.9"
        ],
        [
         "1",
         "1",
         "6.6",
         "6.0",
         "6.6",
         "123.0",
         "80.5"
        ],
        [
         "2",
         "2",
         "7.5",
         "3.0",
         "8.4",
         "125.9",
         "81.4"
        ],
        [
         "3",
         "3",
         "7.0",
         "5.0",
         "7.9",
         "130.0",
         "85.0"
        ],
        [
         "4",
         "4",
         "6.0",
         "5.0",
         "7.0",
         "125.0",
         "82.0"
        ],
        [
         "5",
         "5",
         "6.9",
         "6.0",
         "7.4",
         "138.5",
         "93.7"
        ],
        [
         "6",
         "6",
         "5.0",
         "8.0",
         "4.0",
         "140.0",
         "90.0"
        ],
        [
         "7",
         "7",
         "6.0",
         "7.0",
         "6.0",
         "130.0",
         "85.0"
        ],
        [
         "8",
         "8",
         "5.5",
         "7.0",
         "5.0",
         "129.5",
         "85.5"
        ],
        [
         "9",
         "9",
         "6.2",
         "5.5",
         "6.5",
         "126.5",
         "83.2"
        ],
        [
         "10",
         "10",
         "6.2",
         "4.0",
         "7.0",
         "131.2",
         "86.9"
        ]
       ],
       "shape": {
        "columns": 6,
        "rows": 11
       }
      },
      "text/html": [
       "<div>\n",
       "<style scoped>\n",
       "    .dataframe tbody tr th:only-of-type {\n",
       "        vertical-align: middle;\n",
       "    }\n",
       "\n",
       "    .dataframe tbody tr th {\n",
       "        vertical-align: top;\n",
       "    }\n",
       "\n",
       "    .dataframe thead th {\n",
       "        text-align: right;\n",
       "    }\n",
       "</style>\n",
       "<table border=\"1\" class=\"dataframe\">\n",
       "  <thead>\n",
       "    <tr style=\"text-align: right;\">\n",
       "      <th></th>\n",
       "      <th>Occupation_Code</th>\n",
       "      <th>Sleep Duration</th>\n",
       "      <th>Stress Level</th>\n",
       "      <th>Quality of Sleep</th>\n",
       "      <th>Systolic_BP</th>\n",
       "      <th>Diastolic_BP</th>\n",
       "    </tr>\n",
       "  </thead>\n",
       "  <tbody>\n",
       "    <tr>\n",
       "      <th>0</th>\n",
       "      <td>0</td>\n",
       "      <td>6.9</td>\n",
       "      <td>4.0</td>\n",
       "      <td>7.9</td>\n",
       "      <td>117.7</td>\n",
       "      <td>76.9</td>\n",
       "    </tr>\n",
       "    <tr>\n",
       "      <th>1</th>\n",
       "      <td>1</td>\n",
       "      <td>6.6</td>\n",
       "      <td>6.0</td>\n",
       "      <td>6.6</td>\n",
       "      <td>123.0</td>\n",
       "      <td>80.5</td>\n",
       "    </tr>\n",
       "    <tr>\n",
       "      <th>2</th>\n",
       "      <td>2</td>\n",
       "      <td>7.5</td>\n",
       "      <td>3.0</td>\n",
       "      <td>8.4</td>\n",
       "      <td>125.9</td>\n",
       "      <td>81.4</td>\n",
       "    </tr>\n",
       "    <tr>\n",
       "      <th>3</th>\n",
       "      <td>3</td>\n",
       "      <td>7.0</td>\n",
       "      <td>5.0</td>\n",
       "      <td>7.9</td>\n",
       "      <td>130.0</td>\n",
       "      <td>85.0</td>\n",
       "    </tr>\n",
       "    <tr>\n",
       "      <th>4</th>\n",
       "      <td>4</td>\n",
       "      <td>6.0</td>\n",
       "      <td>5.0</td>\n",
       "      <td>7.0</td>\n",
       "      <td>125.0</td>\n",
       "      <td>82.0</td>\n",
       "    </tr>\n",
       "    <tr>\n",
       "      <th>5</th>\n",
       "      <td>5</td>\n",
       "      <td>6.9</td>\n",
       "      <td>6.0</td>\n",
       "      <td>7.4</td>\n",
       "      <td>138.5</td>\n",
       "      <td>93.7</td>\n",
       "    </tr>\n",
       "    <tr>\n",
       "      <th>6</th>\n",
       "      <td>6</td>\n",
       "      <td>5.0</td>\n",
       "      <td>8.0</td>\n",
       "      <td>4.0</td>\n",
       "      <td>140.0</td>\n",
       "      <td>90.0</td>\n",
       "    </tr>\n",
       "    <tr>\n",
       "      <th>7</th>\n",
       "      <td>7</td>\n",
       "      <td>6.0</td>\n",
       "      <td>7.0</td>\n",
       "      <td>6.0</td>\n",
       "      <td>130.0</td>\n",
       "      <td>85.0</td>\n",
       "    </tr>\n",
       "    <tr>\n",
       "      <th>8</th>\n",
       "      <td>8</td>\n",
       "      <td>5.5</td>\n",
       "      <td>7.0</td>\n",
       "      <td>5.0</td>\n",
       "      <td>129.5</td>\n",
       "      <td>85.5</td>\n",
       "    </tr>\n",
       "    <tr>\n",
       "      <th>9</th>\n",
       "      <td>9</td>\n",
       "      <td>6.2</td>\n",
       "      <td>5.5</td>\n",
       "      <td>6.5</td>\n",
       "      <td>126.5</td>\n",
       "      <td>83.2</td>\n",
       "    </tr>\n",
       "    <tr>\n",
       "      <th>10</th>\n",
       "      <td>10</td>\n",
       "      <td>6.2</td>\n",
       "      <td>4.0</td>\n",
       "      <td>7.0</td>\n",
       "      <td>131.2</td>\n",
       "      <td>86.9</td>\n",
       "    </tr>\n",
       "  </tbody>\n",
       "</table>\n",
       "</div>"
      ],
      "text/plain": [
       "    Occupation_Code  Sleep Duration  Stress Level  Quality of Sleep  \\\n",
       "0                 0             6.9           4.0               7.9   \n",
       "1                 1             6.6           6.0               6.6   \n",
       "2                 2             7.5           3.0               8.4   \n",
       "3                 3             7.0           5.0               7.9   \n",
       "4                 4             6.0           5.0               7.0   \n",
       "5                 5             6.9           6.0               7.4   \n",
       "6                 6             5.0           8.0               4.0   \n",
       "7                 7             6.0           7.0               6.0   \n",
       "8                 8             5.5           7.0               5.0   \n",
       "9                 9             6.2           5.5               6.5   \n",
       "10               10             6.2           4.0               7.0   \n",
       "\n",
       "    Systolic_BP  Diastolic_BP  \n",
       "0         117.7          76.9  \n",
       "1         123.0          80.5  \n",
       "2         125.9          81.4  \n",
       "3         130.0          85.0  \n",
       "4         125.0          82.0  \n",
       "5         138.5          93.7  \n",
       "6         140.0          90.0  \n",
       "7         130.0          85.0  \n",
       "8         129.5          85.5  \n",
       "9         126.5          83.2  \n",
       "10        131.2          86.9  "
      ]
     },
     "metadata": {},
     "output_type": "display_data"
    },
    {
     "name": "stdout",
     "output_type": "stream",
     "text": [
      "\n",
      "Сравнение по полу:\n"
     ]
    },
    {
     "data": {
      "application/vnd.microsoft.datawrangler.viewer.v0+json": {
       "columns": [
        {
         "name": "index",
         "rawType": "int64",
         "type": "integer"
        },
        {
         "name": "Gender_Code",
         "rawType": "int64",
         "type": "integer"
        },
        {
         "name": "Physical Activity Level",
         "rawType": "float64",
         "type": "float"
        },
        {
         "name": "Heart Rate",
         "rawType": "float64",
         "type": "float"
        },
        {
         "name": "Sleep Duration",
         "rawType": "float64",
         "type": "float"
        },
        {
         "name": "Stress Level",
         "rawType": "float64",
         "type": "float"
        },
        {
         "name": "Quality of Sleep",
         "rawType": "float64",
         "type": "float"
        },
        {
         "name": "Systolic_BP",
         "rawType": "float64",
         "type": "float"
        },
        {
         "name": "Diastolic_BP",
         "rawType": "float64",
         "type": "float"
        }
       ],
       "ref": "16929c82-57dc-44cb-8487-aae65149387e",
       "rows": [
        [
         "0",
         "0",
         "59.2",
         "70.0",
         "6.6",
         "6.0",
         "7.0",
         "126.9",
         "83.0"
        ],
        [
         "1",
         "1",
         "59.1",
         "68.0",
         "6.9",
         "4.0",
         "7.7",
         "130.2",
         "86.3"
        ]
       ],
       "shape": {
        "columns": 8,
        "rows": 2
       }
      },
      "text/html": [
       "<div>\n",
       "<style scoped>\n",
       "    .dataframe tbody tr th:only-of-type {\n",
       "        vertical-align: middle;\n",
       "    }\n",
       "\n",
       "    .dataframe tbody tr th {\n",
       "        vertical-align: top;\n",
       "    }\n",
       "\n",
       "    .dataframe thead th {\n",
       "        text-align: right;\n",
       "    }\n",
       "</style>\n",
       "<table border=\"1\" class=\"dataframe\">\n",
       "  <thead>\n",
       "    <tr style=\"text-align: right;\">\n",
       "      <th></th>\n",
       "      <th>Gender_Code</th>\n",
       "      <th>Physical Activity Level</th>\n",
       "      <th>Heart Rate</th>\n",
       "      <th>Sleep Duration</th>\n",
       "      <th>Stress Level</th>\n",
       "      <th>Quality of Sleep</th>\n",
       "      <th>Systolic_BP</th>\n",
       "      <th>Diastolic_BP</th>\n",
       "    </tr>\n",
       "  </thead>\n",
       "  <tbody>\n",
       "    <tr>\n",
       "      <th>0</th>\n",
       "      <td>0</td>\n",
       "      <td>59.2</td>\n",
       "      <td>70.0</td>\n",
       "      <td>6.6</td>\n",
       "      <td>6.0</td>\n",
       "      <td>7.0</td>\n",
       "      <td>126.9</td>\n",
       "      <td>83.0</td>\n",
       "    </tr>\n",
       "    <tr>\n",
       "      <th>1</th>\n",
       "      <td>1</td>\n",
       "      <td>59.1</td>\n",
       "      <td>68.0</td>\n",
       "      <td>6.9</td>\n",
       "      <td>4.0</td>\n",
       "      <td>7.7</td>\n",
       "      <td>130.2</td>\n",
       "      <td>86.3</td>\n",
       "    </tr>\n",
       "  </tbody>\n",
       "</table>\n",
       "</div>"
      ],
      "text/plain": [
       "   Gender_Code  Physical Activity Level  Heart Rate  Sleep Duration  \\\n",
       "0            0                     59.2        70.0             6.6   \n",
       "1            1                     59.1        68.0             6.9   \n",
       "\n",
       "   Stress Level  Quality of Sleep  Systolic_BP  Diastolic_BP  \n",
       "0           6.0               7.0        126.9          83.0  \n",
       "1           4.0               7.7        130.2          86.3  "
      ]
     },
     "metadata": {},
     "output_type": "display_data"
    }
   ],
   "source": [
    "# 1. Средние показатели по профессиям\n",
    "print(\"Средние показатели по профессиям:\")\n",
    "display(occupation_stats)\n",
    "\n",
    "# 2. Сравнение по полу\n",
    "print(\"\\nСравнение по полу:\")\n",
    "display(gender_stats)"
   ]
  },
  {
   "cell_type": "code",
   "execution_count": 16,
   "id": "bfc98ed1",
   "metadata": {},
   "outputs": [],
   "source": [
    "# Сохраняем таблицу с группировкой\n",
    "occupation_stats.to_csv('occupation_stats.csv', index=False)"
   ]
  },
  {
   "cell_type": "code",
   "execution_count": 17,
   "id": "71eda0cc",
   "metadata": {},
   "outputs": [],
   "source": [
    "# Сохраняем таблицу с группировкой\n",
    "gender_stats.to_csv('gender_stats.csv', index=False)"
   ]
  },
  {
   "cell_type": "code",
   "execution_count": null,
   "id": "578e2e33",
   "metadata": {},
   "outputs": [
    {
     "data": {
      "image/png": "[encoded data removed]",
      "text/plain": [
       "<Figure size 1000x500 with 1 Axes>"
      ]
     },
     "metadata": {},
     "output_type": "display_data"
    }
   ],
   "source": [
    "import matplotlib.pyplot as plt\n",
    "import seaborn as sns\n",
    "# Создаем график\n",
    "plt.figure(figsize=(10, 5))\n",
    "sns.histplot(df['Quality of Sleep'], bins=10, kde=True)\n",
    "plt.title('Распределение качества сна')\n",
    "plt.xlabel('Оценка качества (1-10)')\n",
    "plt.ylabel('Количество людей')\n",
    "\n",
    "# Сначала сохраняем, потом показываем\n",
    "plt.savefig('sleep_quality_distribution.png', dpi=300, bbox_inches='tight')  # bbox_inches='tight' предотвращает обрезку\n",
    "plt.show()  # Показываем график после сохранения"
   ]
  },
  {
   "cell_type": "code",
   "execution_count": 19,
   "id": "4d716205",
   "metadata": {},
   "outputs": [
    {
     "data": {
      "image/png": "[encoded data removed]",
      "text/plain": [
       "<Figure size 1000x400 with 1 Axes>"
      ]
     },
     "metadata": {},
     "output_type": "display_data"
    }
   ],
   "source": [
    "import matplotlib.pyplot as plt\n",
    "\n",
    "plt.figure(figsize=(10,4))\n",
    "plt.scatter(high_sleep_quality['Stress Level'], \n",
    "            high_sleep_quality['Sleep Duration'],\n",
    "            alpha=0.5)\n",
    "plt.title('Связь стресса и продолжительности сна у людей с высоким качеством сна')\n",
    "plt.xlabel('Уровень стресса')\n",
    "plt.ylabel('Продолжительность сна (часы)')\n",
    "plt.savefig('Stress_Level_Sleep_Duration.png', dpi=300, bbox_inches='tight')\n",
    "plt.show()"
   ]
  },
  {
   "cell_type": "code",
   "execution_count": 22,
   "id": "60fb9d63",
   "metadata": {},
   "outputs": [
    {
     "data": {
      "image/png": "[encoded data removed]",
      "text/plain": [
       "<Figure size 1500x600 with 2 Axes>"
      ]
     },
     "metadata": {},
     "output_type": "display_data"
    }
   ],
   "source": [
    "import matplotlib.pyplot as plt\n",
    "import seaborn as sns\n",
    "import numpy as np\n",
    "import pandas as pd\n",
    "\n",
    "# Создаем тестовые данные, если у вас уже есть df - пропустите этот блок\n",
    "np.random.seed(42)\n",
    "data = {\n",
    "    'Quality of Sleep': np.random.normal(loc=7, scale=1.5, size=1000).clip(1, 10),\n",
    "    'Stress Level': np.random.randint(1, 10, size=1000)\n",
    "}\n",
    "df = pd.DataFrame(data)\n",
    "df['Quality of Sleep'] = df['Quality of Sleep'].round().astype(int)\n",
    "\n",
    "# Создаем фигуру с 2 подграфиками\n",
    "fig, (ax1, ax2) = plt.subplots(1, 2, figsize=(15, 6))\n",
    "\n",
    "# 1. Гистограмма с KDE\n",
    "sns.histplot(data=df, x='Quality of Sleep', bins=10, kde=True, ax=ax1, color='royalblue')\n",
    "ax1.set_title('Распределение качества сна', pad=20)\n",
    "ax1.set_xlabel('Оценка качества (1-10)')\n",
    "ax1.set_ylabel('Количество людей')\n",
    "ax1.grid(True, alpha=0.3)\n",
    "\n",
    "# 2. Boxplot по качеству сна\n",
    "sns.boxplot(y='Quality of Sleep', data=df, ax=ax2, color='lightgreen')\n",
    "ax2.set_title('Разброс оценок сна', pad=20)\n",
    "ax2.set_ylabel('')\n",
    "ax2.grid(True, alpha=0.3)\n",
    "\n",
    "# Добавляем аннотации\n",
    "mean_val = df['Quality of Sleep'].mean()\n",
    "ax1.axvline(mean_val, color='red', linestyle='--', linewidth=1)\n",
    "ax1.text(mean_val+0.2, ax1.get_ylim()[1]*0.9, f'Среднее: {mean_val:.1f}', color='red')\n",
    "\n",
    "# Настраиваем внешний вид\n",
    "plt.suptitle('Анализ качества сна', y=1.02, fontsize=14)\n",
    "plt.tight_layout()\n",
    "\n",
    "# Сохраняем и показываем\n",
    "plt.savefig('sleep_quality_analysis.png', dpi=300, bbox_inches='tight')\n",
    "plt.show()"
   ]
  }
 ],
 "metadata": {
  "kernelspec": {
   "display_name": "Python 3",
   "language": "python",
   "name": "python3"
  },
  "language_info": {
   "codemirror_mode": {
    "name": "ipython",
    "version": 3
   },
   "file_extension": ".py",
   "mimetype": "text/x-python",
   "name": "python",
   "nbconvert_exporter": "python",
   "pygments_lexer": "ipython3",
   "version": "3.13.5"
  }
 },
 "nbformat": 4,
 "nbformat_minor": 5
}
