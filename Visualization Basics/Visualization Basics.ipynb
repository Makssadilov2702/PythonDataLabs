{
 "cells": [
  {
   "cell_type": "markdown",
   "id": "1919076c",
   "metadata": {},
   "source": [
    "## 1. Основные библиотеки визуализации\n",
    "### Matplotlib (plt)\n",
    "Синтаксис:"
   ]
  },
  {
   "cell_type": "code",
   "execution_count": 1,
   "id": "88cd779d",
   "metadata": {},
   "outputs": [],
   "source": [
    "import matplotlib.pyplot as plt"
   ]
  },
  {
   "cell_type": "markdown",
   "id": "39c4ab35",
   "metadata": {},
   "source": [
    "#### Основные функции:\n",
    "- plt.plot() – линейный график.\n",
    "- plt.scatter() – точечный график.\n",
    "- plt.bar() – столбчатая диаграмма.\n",
    "- plt.hist() – гистограмма.\n",
    "- plt.pie() – круговая диаграмма.\n",
    "- plt.title(), plt.xlabel(), plt.ylabel() – настройки подписей.\n",
    "\n",
    "### Seaborn (sns)\n",
    "Синтаксис:"
   ]
  },
  {
   "cell_type": "code",
   "execution_count": 2,
   "id": "b2628976",
   "metadata": {},
   "outputs": [],
   "source": [
    "import seaborn as sns"
   ]
  },
  {
   "cell_type": "markdown",
   "id": "172c054a",
   "metadata": {},
   "source": [
    "#### Основные функции:\n",
    "- sns.lineplot() – линейный график с автоматическим доверительным интервалом.\n",
    "- sns.barplot() – столбчатая диаграмма с агрегацией.\n",
    "- sns.histplot() – улучшенная гистограмма с поддержкой KDE.\n",
    "- sns.boxplot() – ящик с усами (boxplot).\n",
    "- sns.scatterplot() – точечный график с группировкой по цвету/размеру.\n",
    "\n",
    "### Pandas (df.plot)\n",
    "Синтаксис:"
   ]
  },
  {
   "cell_type": "code",
   "execution_count": 3,
   "id": "1e79283d",
   "metadata": {},
   "outputs": [],
   "source": [
    "import pandas as pd"
   ]
  },
  {
   "cell_type": "code",
   "execution_count": null,
   "id": "d71ca776",
   "metadata": {},
   "outputs": [],
   "source": [
    "df.plot.<тип_графика>()"
   ]
  },
  {
   "cell_type": "markdown",
   "id": "01d821f3",
   "metadata": {},
   "source": [
    "#### Основные функции:\n",
    "- df.plot.line() – линейный график.\n",
    "- df.plot.bar() – столбчатая диаграмма.\n",
    "- df.plot.hist() – гистограмма.\n",
    "- df.plot.scatter() – точечный график.\n",
    "- df.plot.box() – boxplot."
   ]
  },
  {
   "cell_type": "markdown",
   "id": "ad082754",
   "metadata": {},
   "source": [
    "## 2. Основные типы визуализаций и их применение\n",
    "### 1. Гистограмма (plt.hist(), sns.histplot(), df.plot.hist())\n",
    "Для чего: Показывает распределение числовой переменной.\n",
    "\n",
    "Пример:"
   ]
  },
  {
   "cell_type": "code",
   "execution_count": null,
   "id": "de169950",
   "metadata": {},
   "outputs": [],
   "source": [
    "# Matplotlib\n",
    "plt.hist(df['column'], bins=10, color='blue', alpha=0.7)\n",
    "plt.title('Распределение данных')\n",
    "plt.xlabel('Значения')\n",
    "plt.ylabel('Частота')\n",
    "plt.show()\n",
    "\n",
    "# Seaborn\n",
    "sns.histplot(df['column'], kde=True, bins=10)\n",
    "plt.title('Распределение с KDE')\n",
    "plt.show()\n",
    "\n",
    "# Pandas\n",
    "df['column'].plot.hist(bins=10, alpha=0.7)\n",
    "plt.show()"
   ]
  },
  {
   "cell_type": "markdown",
   "id": "94a0ef99",
   "metadata": {},
   "source": [
    "### Разница между функциями:\n",
    "\n",
    "- plt.hist() – базовая гистограмма Matplotlib.\n",
    "- sns.histplot() – поддерживает KDE (оценку плотности), лучше подходит для анализа.\n",
    "- df.plot.hist() – удобная обёртка Pandas для быстрой визуализации.\n",
    "\n",
    "## 2. Столбчатая диаграмма (plt.bar(), sns.barplot(), df.plot.bar())\n",
    "Для чего: Сравнение категориальных данных.\n",
    "\n",
    "Пример:"
   ]
  },
  {
   "cell_type": "code",
   "execution_count": null,
   "id": "d5b5a4db",
   "metadata": {},
   "outputs": [],
   "source": [
    "# Matplotlib\n",
    "plt.bar(df['category'], df['value'])\n",
    "plt.title('Сравнение категорий')\n",
    "plt.show()\n",
    "\n",
    "# Seaborn (автоматически считает среднее)\n",
    "sns.barplot(x='category', y='value', data=df)\n",
    "plt.show()\n",
    "\n",
    "# Pandas\n",
    "df.groupby('category')['value'].mean().plot.bar()\n",
    "plt.show()"
   ]
  },
  {
   "cell_type": "markdown",
   "id": "5f10a73a",
   "metadata": {},
   "source": [
    "## 3. Линейный график (plt.plot(), sns.lineplot(), df.plot.line())\n",
    "Для чего: Тренды и изменения во времени.\n",
    "\n",
    "Пример:"
   ]
  },
  {
   "cell_type": "code",
   "execution_count": null,
   "id": "33d95f68",
   "metadata": {},
   "outputs": [],
   "source": [
    "# Matplotlib\n",
    "plt.plot(df['date'], df['price'])\n",
    "plt.title('Динамика цены')\n",
    "plt.show()\n",
    "\n",
    "# Seaborn (поддержка нескольких линий)\n",
    "sns.lineplot(x='date', y='price', hue='category', data=df)\n",
    "plt.show()\n",
    "\n",
    "# Pandas\n",
    "df.set_index('date')['price'].plot.line()\n",
    "plt.show()"
   ]
  },
  {
   "cell_type": "markdown",
   "id": "dcb6e896",
   "metadata": {},
   "source": [
    "## 4. Boxplot (plt.boxplot(), sns.boxplot(), df.plot.box())\n",
    "Для чего: Анализ распределения и выбросов.\n",
    "\n",
    "Пример:"
   ]
  },
  {
   "cell_type": "code",
   "execution_count": null,
   "id": "cec896df",
   "metadata": {},
   "outputs": [],
   "source": [
    "# Matplotlib\n",
    "plt.boxplot(df['column'])\n",
    "plt.show()\n",
    "\n",
    "# Seaborn (группировка по категориям)\n",
    "sns.boxplot(x='category', y='value', data=df)\n",
    "plt.show()\n",
    "\n",
    "# Pandas\n",
    "df.plot.box()\n",
    "plt.show()"
   ]
  },
  {
   "cell_type": "markdown",
   "id": "13a61657",
   "metadata": {},
   "source": [
    "## 3. Почему несколько функций для одного графика?\n",
    "- Matplotlib (plt): Базовая библиотека, гибкость, но требует больше кода.\n",
    "\n",
    "- Seaborn (sns): Упрощённый синтаксис, встроенная статистика (KDE, доверительные интервалы).\n",
    "\n",
    "- Pandas (df.plot): Быстрая визуализация прямо из DataFrame, но меньше настроек."
   ]
  },
  {
   "cell_type": "markdown",
   "id": "1c3e2e03",
   "metadata": {},
   "source": [
    "---\n",
    "# 1. Гистограмма (Histogram)\n",
    "Показывает распределение числовой переменной.\n",
    "\n",
    "## Matplotlib (plt.hist())"
   ]
  },
  {
   "cell_type": "code",
   "execution_count": null,
   "id": "9b698f49",
   "metadata": {},
   "outputs": [],
   "source": [
    "import matplotlib.pyplot as plt\n",
    "\n",
    "# Данные (df уже загружен)\n",
    "data = df['column_name']\n",
    "\n",
    "# Создание гистограммы\n",
    "plt.hist(\n",
    "    data,                # Данные\n",
    "    bins=20,            # Количество столбцов (можно изменить)\n",
    "    color='skyblue',    # Цвет столбцов ('blue', 'green', 'red', etc.)\n",
    "    edgecolor='black',  # Цвет границ столбцов\n",
    "    alpha=0.7,          # Прозрачность (0-1)\n",
    ")\n",
    "\n",
    "# Настройки графика\n",
    "plt.title('Гистограмма распределения', fontsize=14)  # Заголовок\n",
    "plt.xlabel('Значения', fontsize=12)                 # Подпись оси X\n",
    "plt.ylabel('Частота', fontsize=12)                  # Подпись оси Y\n",
    "plt.grid(True, linestyle='--', alpha=0.5)           # Сетка (можно убрать)\n",
    "\n",
    "# Сохранение (раскомментировать если нужно)\n",
    "# plt.savefig('histogram.png', dpi=300, bbox_inches='tight')\n",
    "\n",
    "plt.show()  # Показать график"
   ]
  },
  {
   "cell_type": "markdown",
   "id": "d38fbf50",
   "metadata": {},
   "source": [
    "## Seaborn (sns.histplot())"
   ]
  },
  {
   "cell_type": "code",
   "execution_count": null,
   "id": "4225db97",
   "metadata": {},
   "outputs": [],
   "source": [
    "import seaborn as sns\n",
    "\n",
    "# Создание гистограммы с KDE (Kernel Density Estimation)\n",
    "sns.histplot(\n",
    "    data=df,\n",
    "    x='column_name',     # Столбец для анализа\n",
    "    bins=20,            # Количество столбцов\n",
    "    kde=True,           # Включить/выключить KDE (False если не нужно)\n",
    "    color='purple',     # Цвет ('blue', 'green', 'red', etc.)\n",
    "    edgecolor='black',  # Границы столбцов\n",
    "    alpha=0.6,          # Прозрачность\n",
    "    line_kws={'lw': 2}, # Настройки линии KDE (толщина и цвет)\n",
    ")\n",
    "\n",
    "# Настройки графика\n",
    "plt.title('Гистограмма с KDE', fontsize=14)\n",
    "plt.xlabel('Значения', fontsize=12)\n",
    "plt.ylabel('Плотность', fontsize=12)\n",
    "plt.grid(True, linestyle=':', alpha=0.3)\n",
    "\n",
    "# Сохранение\n",
    "# plt.savefig('histplot_seaborn.png', dpi=300, bbox_inches='tight')\n",
    "\n",
    "plt.show()"
   ]
  },
  {
   "cell_type": "markdown",
   "id": "7c57fb86",
   "metadata": {},
   "source": [
    "## Pandas (df.plot.hist())"
   ]
  },
  {
   "cell_type": "code",
   "execution_count": null,
   "id": "c5140921",
   "metadata": {},
   "outputs": [],
   "source": [
    "# Гистограмма через Pandas\n",
    "df['column_name'].plot.hist(\n",
    "    bins=15,                # Количество столбцов\n",
    "    color='orange',        # Цвет\n",
    "    edgecolor='black',     # Границы\n",
    "    alpha=0.7,            # Прозрачность\n",
    "    figsize=(8, 5),       # Размер графика (ширина, высота)\n",
    "    grid=True,            # Сетка (True/False)\n",
    ")\n",
    "\n",
    "# Настройки\n",
    "plt.title('Гистограмма (Pandas)', fontsize=14)\n",
    "plt.xlabel('Значения', fontsize=12)\n",
    "plt.ylabel('Частота', fontsize=12)\n",
    "\n",
    "# Сохранение\n",
    "# plt.savefig('hist_pandas.png', dpi=300, bbox_inches='tight')\n",
    "\n",
    "plt.show()"
   ]
  },
  {
   "cell_type": "markdown",
   "id": "622a5059",
   "metadata": {},
   "source": [
    "---\n",
    "# 2. Столбчатая диаграмма (Bar Plot)\n",
    "Используется для сравнения категориальных данных.\n",
    "\n",
    "## Matplotlib (plt.bar())"
   ]
  },
  {
   "cell_type": "code",
   "execution_count": null,
   "id": "8a750e80",
   "metadata": {},
   "outputs": [],
   "source": [
    "# Пример данных (можно заменить на свои)\n",
    "categories = ['A', 'B', 'C', 'D']\n",
    "values = [25, 40, 30, 50]\n",
    "\n",
    "plt.bar(\n",
    "    categories,         # Категории (ось X)\n",
    "    values,             # Значения (ось Y)\n",
    "    color='teal',       # Цвет столбцов\n",
    "    edgecolor='black',  # Границы\n",
    "    width=0.6,         # Ширина столбцов (0-1)\n",
    "    alpha=0.8,         # Прозрачность\n",
    ")\n",
    "\n",
    "# Настройки\n",
    "plt.title('Столбчатая диаграмма (Matplotlib)', fontsize=14)\n",
    "plt.xlabel('Категории', fontsize=12)\n",
    "plt.ylabel('Значения', fontsize=12)\n",
    "plt.xticks(rotation=45)  # Поворот подписей категорий\n",
    "\n",
    "# Сохранение\n",
    "# plt.savefig('bar_matplotlib.png', dpi=300, bbox_inches='tight')\n",
    "\n",
    "plt.show()"
   ]
  },
  {
   "cell_type": "markdown",
   "id": "d9ce6f23",
   "metadata": {},
   "source": [
    "## Seaborn (sns.barplot())"
   ]
  },
  {
   "cell_type": "code",
   "execution_count": null,
   "id": "9810da01",
   "metadata": {},
   "outputs": [],
   "source": [
    "# Пример данных (можно заменить на df)\n",
    "import pandas as pd\n",
    "data = pd.DataFrame({\n",
    "    'category': ['A', 'B', 'C', 'D'],\n",
    "    'value': [25, 40, 30, 50]\n",
    "})\n",
    "\n",
    "sns.barplot(\n",
    "    data=data,\n",
    "    x='category',      # Категории (ось X)\n",
    "    y='value',         # Значения (ось Y)\n",
    "    palette='viridis', # Цветовая схема ('pastel', 'coolwarm', 'Set2')\n",
    "    ci=None,           # Убрать доверительные интервалы (если не нужны)\n",
    "    saturation=0.8,    # Насыщенность цвета (0-1)\n",
    ")\n",
    "\n",
    "# Настройки\n",
    "plt.title('Столбчатая диаграмма (Seaborn)', fontsize=14)\n",
    "plt.xlabel('Категории', fontsize=12)\n",
    "plt.ylabel('Значения', fontsize=12)\n",
    "plt.xticks(rotation=45)\n",
    "\n",
    "# Сохранение\n",
    "# plt.savefig('bar_seaborn.png', dpi=300, bbox_inches='tight')\n",
    "\n",
    "plt.show()"
   ]
  },
  {
   "cell_type": "markdown",
   "id": "3568dd26",
   "metadata": {},
   "source": [
    "## Pandas (df.plot.bar())"
   ]
  },
  {
   "cell_type": "code",
   "execution_count": null,
   "id": "b94cd5ff",
   "metadata": {},
   "outputs": [],
   "source": [
    "# Данные (можно заменить на df)\n",
    "data = pd.DataFrame({\n",
    "    'category': ['A', 'B', 'C', 'D'],\n",
    "    'value': [25, 40, 30, 50]\n",
    "})\n",
    "\n",
    "# Столбчатая диаграмма\n",
    "data.set_index('category').plot.bar(\n",
    "    color='salmon',      # Цвет\n",
    "    edgecolor='black',   # Границы\n",
    "    alpha=0.8,          # Прозрачность\n",
    "    figsize=(8, 5),     # Размер графика\n",
    "    rot=45,             # Поворот подписей\n",
    "    legend=False,       # Убрать легенду (если не нужна)\n",
    ")\n",
    "\n",
    "# Настройки\n",
    "plt.title('Столбчатая диаграмма (Pandas)', fontsize=14)\n",
    "plt.xlabel('Категории', fontsize=12)\n",
    "plt.ylabel('Значения', fontsize=12)\n",
    "\n",
    "# Сохранение\n",
    "# plt.savefig('bar_pandas.png', dpi=300, bbox_inches='tight')\n",
    "\n",
    "plt.show()"
   ]
  },
  {
   "cell_type": "markdown",
   "id": "d34866ef",
   "metadata": {},
   "source": [
    "---\n",
    "# 3. Линейный график (Line Plot)\n",
    "Используется для отображения трендов.\n",
    "\n",
    "## Matplotlib (plt.plot())"
   ]
  },
  {
   "cell_type": "code",
   "execution_count": null,
   "id": "c29ac195",
   "metadata": {},
   "outputs": [],
   "source": [
    "# Пример данных (можно заменить на df)\n",
    "x = [1, 2, 3, 4, 5]\n",
    "y = [10, 15, 13, 18, 20]\n",
    "\n",
    "plt.plot(\n",
    "    x, y,                # Данные (X и Y)\n",
    "    color='red',         # Цвет линии\n",
    "    linestyle='-',       # Стиль линии ('--', ':', '-.')\n",
    "    linewidth=2,         # Толщина линии\n",
    "    marker='o',          # Маркеры точек ('s', '^', 'D')\n",
    "    markersize=8,        # Размер маркеров\n",
    "    label='Тренд',       # Легенда\n",
    ")\n",
    "\n",
    "# Настройки\n",
    "plt.title('Линейный график (Matplotlib)', fontsize=14)\n",
    "plt.xlabel('Время', fontsize=12)\n",
    "plt.ylabel('Значение', fontsize=12)\n",
    "plt.grid(True, alpha=0.3)\n",
    "plt.legend()  # Показать легенду\n",
    "\n",
    "# Сохранение\n",
    "# plt.savefig('line_matplotlib.png', dpi=300, bbox_inches='tight')\n",
    "\n",
    "plt.show()"
   ]
  },
  {
   "cell_type": "markdown",
   "id": "182d9252",
   "metadata": {},
   "source": [
    "## Seaborn (sns.lineplot())"
   ]
  },
  {
   "cell_type": "code",
   "execution_count": null,
   "id": "3df9c60b",
   "metadata": {},
   "outputs": [],
   "source": [
    "# Пример данных (можно заменить на df)\n",
    "data = pd.DataFrame({\n",
    "    'time': [1, 2, 3, 4, 5],\n",
    "    'value': [10, 15, 13, 18, 20]\n",
    "})\n",
    "\n",
    "sns.lineplot(\n",
    "    data=data,\n",
    "    x='time',           # Ось X\n",
    "    y='value',          # Ось Y\n",
    "    color='green',      # Цвет\n",
    "    linewidth=2,        # Толщина линии\n",
    "    marker='o',         # Маркеры\n",
    "    markersize=8,       # Размер маркеров\n",
    "    label='Тренд',      # Легенда\n",
    ")\n",
    "\n",
    "# Настройки\n",
    "plt.title('Линейный график (Seaborn)', fontsize=14)\n",
    "plt.xlabel('Время', fontsize=12)\n",
    "plt.ylabel('Значение', fontsize=12)\n",
    "plt.grid(True, alpha=0.3)\n",
    "plt.legend()\n",
    "\n",
    "# Сохранение\n",
    "# plt.savefig('line_seaborn.png', dpi=300, bbox_inches='tight')\n",
    "plt.show()"
   ]
  },
  {
   "cell_type": "markdown",
   "id": "9f119301",
   "metadata": {},
   "source": [
    "## Pandas (df.plot.line())"
   ]
  },
  {
   "cell_type": "code",
   "execution_count": null,
   "id": "e1945a55",
   "metadata": {},
   "outputs": [],
   "source": [
    "# Данные (можно заменить на df)\n",
    "data = pd.DataFrame({\n",
    "    'time': [1, 2, 3, 4, 5],\n",
    "    'value': [10, 15, 13, 18, 20]\n",
    "})\n",
    "\n",
    "data.set_index('time').plot.line(\n",
    "    color='blue',       # Цвет\n",
    "    linewidth=2,        # Толщина линии\n",
    "    marker='s',         # Маркеры ('o', '^', 'D')\n",
    "    markersize=8,       # Размер маркеров\n",
    "    figsize=(8, 5),     # Размер графика\n",
    "    grid=True,          # Сетка\n",
    "    legend=True,        # Легенда\n",
    ")\n",
    "\n",
    "# Настройки\n",
    "plt.title('Линейный график (Pandas)', fontsize=14)\n",
    "plt.xlabel('Время', fontsize=12)\n",
    "plt.ylabel('Значение', fontsize=12)\n",
    "\n",
    "# Сохранение\n",
    "# plt.savefig('line_pandas.png', dpi=300, bbox_inches='tight')\n",
    "\n",
    "plt.show()"
   ]
  },
  {
   "cell_type": "markdown",
   "id": "fc099c46",
   "metadata": {},
   "source": [
    "---\n",
    "# 4. Boxplot (Ящик с усами)\n",
    "Используется для визуализации распределения и выбросов.\n",
    "\n",
    "## Matplotlib (plt.boxplot())"
   ]
  },
  {
   "cell_type": "code",
   "execution_count": null,
   "id": "70e56f16",
   "metadata": {},
   "outputs": [],
   "source": [
    "# Данные (можно заменить на df)\n",
    "data = [df['column1'], df['column2']]  # Список столбцов\n",
    "\n",
    "plt.boxplot(\n",
    "    data,\n",
    "    patch_artist=True,   # Заливка цветом\n",
    "    boxprops=dict(facecolor='lightblue'),  # Цвет ящика\n",
    "    whiskerprops=dict(color='black'),      # Цвет усов\n",
    "    capprops=dict(color='black'),          # Цвет ограничителей\n",
    "    flierprops=dict(marker='o', markersize=8, markerfacecolor='red'),  # Выбросы\n",
    "    medianprops=dict(color='black', linewidth=2),  # Медиана\n",
    ")\n",
    "\n",
    "# Настройки\n",
    "plt.title('Boxplot (Matplotlib)', fontsize=14)\n",
    "plt.xticks([1, 2], ['Column 1', 'Column 2'])  # Подписи категорий\n",
    "plt.ylabel('Значения', fontsize=12)\n",
    "plt.grid(True, alpha=0.3)\n",
    "\n",
    "# Сохранение\n",
    "# plt.savefig('boxplot_matplotlib.png', dpi=300, bbox_inches='tight')\n",
    "\n",
    "plt.show()"
   ]
  },
  {
   "cell_type": "markdown",
   "id": "05462e7f",
   "metadata": {},
   "source": [
    "## Seaborn (sns.boxplot())"
   ]
  },
  {
   "cell_type": "code",
   "execution_count": null,
   "id": "b62afc5e",
   "metadata": {},
   "outputs": [],
   "source": [
    "# Данные (можно заменить на df)\n",
    "data = pd.DataFrame({\n",
    "    'category': ['A']*50 + ['B']*50,\n",
    "    'value': list(np.random.normal(0, 1, 50)) + list(np.random.normal(1, 1.5, 50))\n",
    "})\n",
    "\n",
    "sns.boxplot(\n",
    "    data=data,\n",
    "    x='category',       # Категории (ось X)\n",
    "    y='value',          # Значения (ось Y)\n",
    "    palette='Set2',     # Цветовая схема\n",
    "    width=0.5,         # Ширина ящиков\n",
    "    linewidth=2,       # Толщина линий\n",
    "    fliersize=6,       # Размер выбросов\n",
    ")\n",
    "\n",
    "# Настройки\n",
    "plt.title('Boxplot (Seaborn)', fontsize=14)\n",
    "plt.xlabel('Категории', fontsize=12)\n",
    "plt.ylabel('Значения', fontsize=12)\n",
    "plt.grid(True, alpha=0.3)\n",
    "\n",
    "# Сохранение\n",
    "# plt.savefig('boxplot_seaborn.png', dpi=300, bbox_inches='tight')\n",
    "\n",
    "plt.show()"
   ]
  },
  {
   "cell_type": "markdown",
   "id": "7e871952",
   "metadata": {},
   "source": [
    "## Pandas (df.plot.box())"
   ]
  },
  {
   "cell_type": "code",
   "execution_count": null,
   "id": "7ad3d54c",
   "metadata": {},
   "outputs": [],
   "source": [
    "# Данные (можно заменить на df)\n",
    "data = pd.DataFrame({\n",
    "    'Column1': np.random.normal(0, 1, 100),\n",
    "    'Column2': np.random.normal(1, 1.5, 100)\n",
    "})\n",
    "\n",
    "data.plot.box(\n",
    "    patch_artist=True,   # Заливка цветом\n",
    "    boxprops=dict(facecolor='lightgreen'),  # Цвет ящиков\n",
    "    flierprops=dict(marker='o', markersize=8, markerfacecolor='red'),  # Выбросы\n",
    "    grid=True,          # Сетка\n",
    "    figsize=(8, 5),     # Размер графика\n",
    ")\n",
    "\n",
    "# Настройки\n",
    "plt.title('Boxplot (Pandas)', fontsize=14)\n",
    "plt.ylabel('Значения', fontsize=12)\n",
    "\n",
    "# Сохранение\n",
    "# plt.savefig('boxplot_pandas.png', dpi=300, bbox_inches='tight')\n",
    "\n",
    "plt.show()"
   ]
  }
 ],
 "metadata": {
  "kernelspec": {
   "display_name": "Python 3",
   "language": "python",
   "name": "python3"
  },
  "language_info": {
   "codemirror_mode": {
    "name": "ipython",
    "version": 3
   },
   "file_extension": ".py",
   "mimetype": "text/x-python",
   "name": "python",
   "nbconvert_exporter": "python",
   "pygments_lexer": "ipython3",
   "version": "3.13.5"
  }
 },
 "nbformat": 4,
 "nbformat_minor": 5
}
