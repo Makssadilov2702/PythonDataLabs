{
 "cells": [
  {
   "cell_type": "markdown",
   "metadata": {},
   "source": [
    "# Визуализация данных для аналитика\n",
    "\n",
    "## 1. Роль визуализации в аналитике\n",
    "Визуализация данных — это ключевой инструмент аналитика, позволяющий:\n",
    "- Быстро выявлять закономерности, тренды и аномалии.\n",
    "- Понятно представлять результаты анализа для бизнеса.\n",
    "- Упрощать принятие решений на основе данных.\n",
    "- Проверять гипотезы в процессе исследования.\n",
    "\n",
    "Хорошая визуализация:\n",
    "- Информативна.\n",
    "- Минималистична и без лишнего шума.\n",
    "- Подбирается под задачу и тип данных."
   ]
  },
  {
   "cell_type": "markdown",
   "metadata": {},
   "source": [
    "## 2. Основы популярных библиотек\n",
    "\n",
    "### 2.1 Matplotlib\n",
    "- Основа экосистемы Python для визуализации.\n",
    "- Поддержка статических, анимационных и интерактивных графиков.\n",
    "- Гибкая настройка внешнего вида.\n",
    "\n",
    "**Пример:**"
   ]
  },
  {
   "cell_type": "code",
   "metadata": {},
   "execution_count": null,
   "outputs": [],
   "source": [
    "import matplotlib.pyplot as plt\n",
    "import numpy as np\n",
    "\n",
    "x = np.linspace(0, 10, 100)\n",
    "y = np.sin(x)\n",
    "\n",
    "plt.plot(x, y, label='sin(x)')\n",
    "plt.title('Пример Matplotlib')\n",
    "plt.xlabel('X')\n",
    "plt.ylabel('Y')\n",
    "plt.legend()\n",
    "plt.show()"
   ]
  },
  {
   "cell_type": "markdown",
   "metadata": {},
   "source": [
    "### 2.2 Seaborn\n",
    "- Построен на Matplotlib, но с более высоким уровнем абстракции.\n",
    "- Красивые графики по умолчанию.\n",
    "- Отлично подходит для статистической визуализации.\n",
    "\n",
    "**Пример:**"
   ]
  },
  {
   "cell_type": "code",
   "metadata": {},
   "execution_count": null,
   "outputs": [],
   "source": [
    "import seaborn as sns\n",
    "\n",
    "tips = sns.load_dataset('tips')\n",
    "sns.scatterplot(data=tips, x='total_bill', y='tip', hue='day')"
   ]
  },
  {
   "cell_type": "markdown",
   "metadata": {},
   "source": [
    "### 2.3 Plotly\n",
    "- Фокус на интерактивных графиках.\n",
    "- Легко интегрируется в веб-приложения.\n",
    "- Поддерживает 2D и 3D визуализацию.\n",
    "\n",
    "**Пример:**"
   ]
  },
  {
   "cell_type": "code",
   "metadata": {},
   "execution_count": null,
   "outputs": [],
   "source": [
    "import plotly.express as px\n",
    "\n",
    "fig = px.scatter(tips, x='total_bill', y='tip', color='day', size='size')\n",
    "fig.show()"
   ]
  },
  {
   "cell_type": "markdown",
   "metadata": {},
   "source": [
    "## 3. Сравнение возможностей библиотек\n",
    "\n",
    "| Характеристика | Matplotlib | Seaborn | Plotly |\n",
    "|----------------|------------|---------|--------|\n",
    "| Статические графики | ✅ | ✅ | ❌ |\n",
    "| Интерактивность | ⚠️ через mpld3 | ❌ | ✅ |\n",
    "| Простота синтаксиса | ❌ | ✅ | ✅ |\n",
    "| Настраиваемость | ✅ | ⚠️ | ✅ |\n",
    "| Поддержка 3D | ✅ | ❌ | ✅ |"
   ]
  },
  {
   "cell_type": "markdown",
   "metadata": {},
   "source": [
    "## 4. Статические и интерактивные графики\n",
    "\n",
    "- **Статические:** лучше для печати, отчётов (Matplotlib, Seaborn).\n",
    "- **Интерактивные:** удобны для исследовательского анализа и дашбордов (Plotly, Bokeh, hvPlot)."
   ]
  },
  {
   "cell_type": "markdown",
   "metadata": {},
   "source": [
    "## 5. Как выбирать тип графика\n",
    "\n",
    "| Задача | Тип графика |\n",
    "|--------|------------|\n",
    "| Сравнение категорий | barplot, column chart |\n",
    "| Распределение | histogram, kdeplot |\n",
    "| Взаимосвязь переменных | scatterplot |\n",
    "| Динамика во времени | lineplot |\n",
    "| Геоданные | choropleth, scatter_geo |"
   ]
  },
  {
   "cell_type": "markdown",
   "metadata": {},
   "source": [
    "## 6. Новые библиотеки и тренды\n",
    "\n",
    "### Altair\n",
    "```python\n",
    "import altair as alt\n",
    "from vega_datasets import data\n",
    "\n",
    "cars = data.cars()\n",
    "alt.Chart(cars).mark_point().encode(\n",
    "    x='Horsepower',\n",
    "    y='Miles_per_Gallon',\n",
    "    color='Origin'\n",
    ")\n",
    "```\n",
    "\n",
    "### hvPlot\n",
    "```python\n",
    "import hvplot.pandas\n",
    "import pandas as pd\n",
    "\n",
    "df = pd.DataFrame({'x': range(10), 'y': [v**2 for v in range(10)]})\n",
    "df.hvplot.line(x='x', y='y')\n",
    "```\n",
    "\n",
    "### Bokeh\n",
    "```python\n",
    "from bokeh.plotting import figure, show\n",
    "\n",
    "p = figure(title=\"Пример Bokeh\", x_axis_label='x', y_axis_label='y')\n",
    "p.line([1, 2, 3], [4, 5, 6], line_width=2)\n",
    "show(p)\n",
    "```\n",
    "\n",
    "### PyEcharts\n",
    "```python\n",
    "from pyecharts.charts import Bar\n",
    "from pyecharts import options as opts\n",
    "\n",
    "bar = Bar()\n",
    "bar.add_xaxis([\"A\", \"B\", \"C\"])\n",
    "bar.add_yaxis(\"Series\", [5, 20, 36])\n",
    "bar.set_global_opts(title_opts=opts.TitleOpts(title=\"Bar Chart\"))\n",
    "bar.render_notebook()\n",
    "```\n",
    "\n",
    "### Plotnine\n",
    "```python\n",
    "from plotnine import ggplot, aes, geom_point\n",
    "import pandas as pd\n",
    "\n",
    "df = pd.DataFrame({'x': [1, 2, 3], 'y': [4, 5, 6]})\n",
    "ggplot(df, aes(x='x', y='y')) + geom_point()\n",
    "```"
   ]
  },
  {
   "cell_type": "markdown",
   "metadata": {},
   "source": [
    "## 7. Практические задания\n",
    "1. Построить линейный график изменения температуры за неделю (Matplotlib).\n",
    "2. Визуализировать распределение чаевых по дням недели (Seaborn).\n",
    "3. Построить интерактивный scatter plot зависимости расходов и доходов (Plotly).\n",
    "4. Использовать Altair для построения диаграммы рассеяния с цветовой группировкой.\n",
    "5. Сравнить скорость построения графиков для большого датасета в hvPlot и Matplotlib."
   ]
  }
 ],
 "metadata": {
  "kernelspec": {
   "display_name": "Python 3",
   "language": "python",
   "name": "python3"
  },
  "language_info": {
   "name": "python",
   "version": "3.x"
  }
 },
 "nbformat": 4,
 "nbformat_minor": 5
}
