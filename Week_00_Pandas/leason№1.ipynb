{
 "cells": [
  {
   "cell_type": "code",
   "execution_count": 23,
   "id": "d0e07d24",
   "metadata": {},
   "outputs": [
    {
     "name": "stdout",
     "output_type": "stream",
     "text": [
      "\n",
      "Созданные данные:\n",
      "Maks, 27 лет, зарплата: 20000.0\n",
      "Vin, 23 лет, зарплата: 30000.0\n",
      "Cot, 21 лет, зарплата: 40000.0\n",
      "Nil, 54 лет, зарплата: 35000.0\n",
      "Dit, 45 лет, зарплата: 200000.0\n"
     ]
    }
   ],
   "source": [
    "# 1. Создай пустой список для данных\n",
    "data = []\n",
    "\n",
    "# 2. Добавь 5 строк вручную через input()\n",
    "for i in range(5):\n",
    "    name = input(f\"Введите имя {i+1}: \")\n",
    "    age = int(input(f\"Введите возраст {i+1}: \"))  # преобразуем в число!\n",
    "    salary = float(input(f\"Введите зарплату {i+1}: \"))\n",
    "    \n",
    "    # 3. Создай словарь для каждой персоны\n",
    "    person = {\n",
    "        'name': name,\n",
    "        'age': age,\n",
    "        'salary': salary\n",
    "    }\n",
    "    \n",
    "    # 4. Добавь словарь в список\n",
    "    data.append(person)\n",
    "\n",
    "# 5. Выведи результат\n",
    "print(\"\\nСозданные данные:\")\n",
    "for p in data:\n",
    "    print(f\"{p['name']}, {p['age']} лет, зарплата: {p['salary']}\")"
   ]
  },
  {
   "cell_type": "code",
   "execution_count": 24,
   "id": "e1d04e31",
   "metadata": {},
   "outputs": [
    {
     "name": "stdout",
     "output_type": "stream",
     "text": [
      "\n",
      "Аналитический отчет:\n",
      "- Средняя зарплата: 65000.00\n",
      "- Самый старший сотрудник: Nil (54 лет)\n",
      "- Общее количество записей: 5\n"
     ]
    }
   ],
   "source": [
    "# 1. Рассчитай среднюю зарплату\n",
    "total_salary = 0\n",
    "for person in data:\n",
    "    total_salary += person['salary']  # складываем все зарплаты\n",
    "\n",
    "average_salary = total_salary / len(data)\n",
    "\n",
    "# 2. Найди самого старшего\n",
    "max_age = 0\n",
    "oldest_name = \"\"\n",
    "for person in data:\n",
    "    if person['age'] > max_age:\n",
    "        max_age = person['age']\n",
    "        oldest_name = person['name']\n",
    "\n",
    "# 3. Создай отчет\n",
    "print(\"\\nАналитический отчет:\")\n",
    "print(f\"- Средняя зарплата: {average_salary:.2f}\")  # :.2f - округление\n",
    "print(f\"- Самый старший сотрудник: {oldest_name} ({max_age} лет)\")\n",
    "print(f\"- Общее количество записей: {len(data)}\")\n",
    "\n",
    "# 4. Дополнительно: добавь расчет медианной зарплаты\n",
    "#    (подсказка: собери все зарплаты в список, отсортируй, возьми средний элемент)"
   ]
  },
  {
   "cell_type": "code",
   "execution_count": 25,
   "id": "419b1dad",
   "metadata": {},
   "outputs": [
    {
     "name": "stdout",
     "output_type": "stream",
     "text": [
      "\n",
      "Топ сотрудников по зарплате:\n",
      "Dit: 200000.0 руб.\n",
      "Cot: 40000.0 руб.\n",
      "Nil: 35000.0 руб.\n",
      "Vin: 30000.0 руб.\n",
      "Maks: 20000.0 руб.\n"
     ]
    }
   ],
   "source": [
    "# 1. Функция для сортировки по зарплате (от большего к меньшему)\n",
    "def sort_by_salary(person):\n",
    "    return person['salary']  # Ключ сортировки\n",
    "\n",
    "# 2. Сортируем данные\n",
    "sorted_data = sorted(data, key=sort_by_salary, reverse=True)\n",
    "\n",
    "# 3. Выводим результат\n",
    "print(\"\\nТоп сотрудников по зарплате:\")\n",
    "for person in sorted_data:\n",
    "    print(f\"{person['name']}: {person['salary']} руб.\")"
   ]
  },
  {
   "cell_type": "code",
   "execution_count": 26,
   "id": "e07e0564",
   "metadata": {},
   "outputs": [
    {
     "name": "stdout",
     "output_type": "stream",
     "text": [
      "Медианная зарплата: 35000.0 руб.\n",
      "Медиана у Nil (35000.0 руб.)\n"
     ]
    }
   ],
   "source": [
    "# попытка что-то написать, кто ближе к медианой зарплате\n",
    "\n",
    "# 1. Вычисляем медиану\n",
    "salaries = [person['salary'] for person in data]  # Список зарплат\n",
    "salaries_sorted = sorted(salaries)  # Сортируем для нахождения медианы\n",
    "n = len(salaries_sorted)\n",
    "median = salaries_sorted[n//2] if n % 2 != 0 else (salaries_sorted[n//2 - 1] + salaries_sorted[n//2]) / 2\n",
    "\n",
    "# 2. Находим ближайшего к медиане\n",
    "def find_closest_to_median(data, median):\n",
    "    closest_person = None\n",
    "    min_diff = float('inf')  # Начальное значение (очень большое число)\n",
    "    \n",
    "    for person in data:\n",
    "        diff = abs(person['salary'] - median)  # Модуль разницы\n",
    "        if diff < min_diff:\n",
    "            min_diff = diff\n",
    "            closest_person = person\n",
    "    \n",
    "    return closest_person\n",
    "\n",
    "result = find_closest_to_median(data, median)\n",
    "\n",
    "# 3. Выводим результат\n",
    "print(f\"Медианная зарплата: {median} руб.\")\n",
    "print(f\"Медиана у {result['name']} ({result['salary']} руб.)\")"
   ]
  },
  {
   "cell_type": "code",
   "execution_count": 27,
   "id": "39126116",
   "metadata": {},
   "outputs": [
    {
     "name": "stdout",
     "output_type": "stream",
     "text": [
      "\n",
      "Топ сотрудников по зарплате:\n",
      "Dit: 200000.0 руб.\n",
      "Cot: 40000.0 руб.\n",
      "Nil: 35000.0 руб.\n",
      "Vin: 30000.0 руб.\n",
      "Maks: 20000.0 руб.\n"
     ]
    }
   ],
   "source": [
    "sorted_data = sorted(data, key=lambda x: x['salary'], reverse=True)\n",
    "print(\"\\nТоп сотрудников по зарплате:\")\n",
    "for person in sorted_data:  # Этот цикл пройдёт по всем элементам\n",
    "    print(f\"{person['name']}: {person['salary']} руб.\")"
   ]
  },
  {
   "cell_type": "code",
   "execution_count": null,
   "id": "47a5a363",
   "metadata": {},
   "outputs": [],
   "source": [
    "import tkinter as tk\n",
    "from tkinter import filedialog\n",
    "# 1. Создай заголовки файла\n",
    "csv_content = \"Имя,Возраст,Зарплата\\n\"  # \\n - перенос строки\n",
    "\n",
    "# 2. Преобразуй каждую запись в строку\n",
    "for person in data:\n",
    "    # Запятые как разделители, точки для десятичных\n",
    "    row = f\"{person['name']},{person['age']},{person['salary']}\\n\"\n",
    "    csv_content += row\n",
    "root = tk.Tk()\n",
    "root.withdraw()  # Скрываем окно\n",
    "SAVE_FOLDER = filedialog.askdirectory()  # Выбрать папку\n",
    "# 3. Сохрани в файл\n",
    "with open('manual_data.csv', 'w', encoding='utf-8') as f:\n",
    "    f.write(csv_content)\n",
    "\n",
    "print(\"Файл manual_data.csv успешно создан!\")"
   ]
  },
  {
   "cell_type": "code",
   "execution_count": 17,
   "id": "5ac24f73",
   "metadata": {},
   "outputs": [
    {
     "name": "stdout",
     "output_type": "stream",
     "text": [
      "Путь к файлу: c:\\Users\\maksi\\AppData\\Local\\Programs\\Microsoft VS Code\\manual_data.csv\n"
     ]
    }
   ],
   "source": [
    "import os\n",
    "print(\"Путь к файлу:\", os.path.abspath('manual_data.csv'))"
   ]
  },
  {
   "cell_type": "code",
   "execution_count": 20,
   "id": "e3d5c4ce",
   "metadata": {},
   "outputs": [
    {
     "name": "stdout",
     "output_type": "stream",
     "text": [
      "✅ Файл сохранен: C:\\Users\\maksi\\OneDrive\\Desktop\\PythonData\\simple.csv\n",
      "Готово! Проверь файл simple.csv\n"
     ]
    }
   ],
   "source": [
    "import sys\n",
    "sys.path.append(r\"C:\\Users\\maksi\\OneDrive\\Desktop\\PythonData\")  # Путь к папке с my_config.py\n",
    "\n",
    "from my_config import save_file  # Теперь должно работать\n",
    "\n",
    "\n",
    "# Просто текст (без Pandas!)\n",
    "data = \"Имя,Возраст,Зарплата\\nАнна,25,70000\\nИван,30,90000\"\n",
    "\n",
    "# Сохраняем\n",
    "save_file(\"simple.csv\", data)\n",
    "\n",
    "print(\"Готово! Проверь файл simple.csv\")"
   ]
  },
  {
   "cell_type": "code",
   "execution_count": 6,
   "id": "70832ce6",
   "metadata": {},
   "outputs": [
    {
     "name": "stdout",
     "output_type": "stream",
     "text": [
      "\n",
      "Зарплаты сотрудников:\n",
      "Maks       [######] 30000.0\n",
      "Rick       [######] 30000.0\n",
      "Elis       [####################] 100000.0\n",
      "Nick       [##########] 54000.0\n",
      "Dog        [######] 34500.0\n"
     ]
    }
   ],
   "source": [
    "# 1. Создай функцию для отрисовки столбца\n",
    "def draw_bar(value, max_value, width=20):\n",
    "    bar_length = int((value / max_value) * width)\n",
    "    return '[' + '#' * bar_length + ']'\n",
    "\n",
    "# 2. Найди максимальную зарплату для масштабирования\n",
    "max_salary = max(person['salary'] for person in data)\n",
    "\n",
    "# 3. Нарисуй график для каждого человека\n",
    "print(\"\\nЗарплаты сотрудников:\")\n",
    "for person in data:\n",
    "    bar = draw_bar(person['salary'], max_salary)\n",
    "    print(f\"{person['name']:10} {bar} {person['salary']}\")"
   ]
  }
 ],
 "metadata": {
  "kernelspec": {
   "display_name": "base",
   "language": "python",
   "name": "python3"
  },
  "language_info": {
   "codemirror_mode": {
    "name": "ipython",
    "version": 3
   },
   "file_extension": ".py",
   "mimetype": "text/x-python",
   "name": "python",
   "nbconvert_exporter": "python",
   "pygments_lexer": "ipython3",
   "version": "3.12.7"
  }
 },
 "nbformat": 4,
 "nbformat_minor": 5
}
