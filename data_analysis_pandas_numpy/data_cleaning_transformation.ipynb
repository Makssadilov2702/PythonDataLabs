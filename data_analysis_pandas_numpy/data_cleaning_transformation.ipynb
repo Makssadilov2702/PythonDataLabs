{
  "cells": [
    {
      "cell_type": "markdown",
      "id": "h8VQTUtx-75Y",
      "metadata": {
        "id": "h8VQTUtx-75Y"
      },
      "source": [
        "# Конспект: Загрузка, очистка и преобразование данных в Python\n",
        "\n",
        "Этот ноутбук охватывает полный цикл предварительной обработки данных на примере датасета `SalesTarget.csv`.\n",
        "\n",
        "Столбцы:\n",
        "- `row_id`: числовой индекс\n",
        "- `Category`: категория товара (Office Supplies, Furniture, Technology)\n",
        "- `Order Date`: дата заказа\n",
        "- `Segment`: сегмент клиента (Consumer, Home Office)\n",
        "- `Sales Target`: целевой показатель продаж\n",
        "\n",
        "Цель: научиться загружать, чистить и преобразовывать данные с использованием `pandas` и `numpy`."
      ]
    },
    {
      "cell_type": "code",
      "execution_count": 1,
      "id": "A17lae5J-75g",
      "metadata": {
        "id": "A17lae5J-75g"
      },
      "outputs": [],
      "source": [
        "# Импорт библиотек\n",
        "import pandas as pd\n",
        "import numpy as np"
      ]
    },
    {
      "cell_type": "markdown",
      "id": "gSdQNBL9-75j",
      "metadata": {
        "id": "gSdQNBL9-75j"
      },
      "source": [
        "## 1. Загрузка данных\n",
        "\n",
        "### О чём пойдёт речь:\n",
        "- `pd.read_csv()` — загрузка из CSV\n",
        "- Обработка пробелов в названиях столбцов\n",
        "- Указание пропущенных значений\n",
        "- Преобразование типов при загрузке"
      ]
    },
    {
      "cell_type": "code",
      "execution_count": 2,
      "id": "AfAbWAq_-75k",
      "metadata": {
        "id": "AfAbWAq_-75k"
      },
      "outputs": [
        {
          "name": "stdout",
          "output_type": "stream",
          "text": [
            "Размер данных: (4603, 5)\n",
            "Столбцы: ['row_id', 'Category', 'Order Date', 'Segment', 'Sales_Target']\n"
          ]
        },
        {
          "data": {
            "application/vnd.microsoft.datawrangler.viewer.v0+json": {
              "columns": [
                {
                  "name": "index",
                  "rawType": "int64",
                  "type": "integer"
                },
                {
                  "name": "row_id",
                  "rawType": "Int64",
                  "type": "integer"
                },
                {
                  "name": "Category",
                  "rawType": "object",
                  "type": "string"
                },
                {
                  "name": "Order Date",
                  "rawType": "object",
                  "type": "string"
                },
                {
                  "name": "Segment",
                  "rawType": "object",
                  "type": "string"
                },
                {
                  "name": "Sales_Target",
                  "rawType": "int64",
                  "type": "integer"
                }
              ],
              "ref": "52355345-6788-4d5c-a8d8-49a550ba8581",
              "rows": [
                [
                  "0",
                  "0",
                  "Office Supplies",
                  "2017-01-04",
                  "Consumer",
                  "15"
                ],
                [
                  "1",
                  "1",
                  "Office Supplies",
                  "2017-01-05",
                  "Home Office",
                  "300"
                ],
                [
                  "2",
                  "2",
                  "Office Supplies",
                  "2017-01-06",
                  "Consumer",
                  "21"
                ],
                [
                  "3",
                  "3",
                  "Furniture",
                  "2017-01-07",
                  "Home Office",
                  "2316"
                ],
                [
                  "4",
                  "4",
                  "Technology",
                  "2017-01-07",
                  "Home Office",
                  "1068"
                ]
              ],
              "shape": {
                "columns": 5,
                "rows": 5
              }
            },
            "text/html": [
              "<div>\n",
              "<style scoped>\n",
              "    .dataframe tbody tr th:only-of-type {\n",
              "        vertical-align: middle;\n",
              "    }\n",
              "\n",
              "    .dataframe tbody tr th {\n",
              "        vertical-align: top;\n",
              "    }\n",
              "\n",
              "    .dataframe thead th {\n",
              "        text-align: right;\n",
              "    }\n",
              "</style>\n",
              "<table border=\"1\" class=\"dataframe\">\n",
              "  <thead>\n",
              "    <tr style=\"text-align: right;\">\n",
              "      <th></th>\n",
              "      <th>row_id</th>\n",
              "      <th>Category</th>\n",
              "      <th>Order Date</th>\n",
              "      <th>Segment</th>\n",
              "      <th>Sales_Target</th>\n",
              "    </tr>\n",
              "  </thead>\n",
              "  <tbody>\n",
              "    <tr>\n",
              "      <th>0</th>\n",
              "      <td>0</td>\n",
              "      <td>Office Supplies</td>\n",
              "      <td>2017-01-04</td>\n",
              "      <td>Consumer</td>\n",
              "      <td>15</td>\n",
              "    </tr>\n",
              "    <tr>\n",
              "      <th>1</th>\n",
              "      <td>1</td>\n",
              "      <td>Office Supplies</td>\n",
              "      <td>2017-01-05</td>\n",
              "      <td>Home Office</td>\n",
              "      <td>300</td>\n",
              "    </tr>\n",
              "    <tr>\n",
              "      <th>2</th>\n",
              "      <td>2</td>\n",
              "      <td>Office Supplies</td>\n",
              "      <td>2017-01-06</td>\n",
              "      <td>Consumer</td>\n",
              "      <td>21</td>\n",
              "    </tr>\n",
              "    <tr>\n",
              "      <th>3</th>\n",
              "      <td>3</td>\n",
              "      <td>Furniture</td>\n",
              "      <td>2017-01-07</td>\n",
              "      <td>Home Office</td>\n",
              "      <td>2316</td>\n",
              "    </tr>\n",
              "    <tr>\n",
              "      <th>4</th>\n",
              "      <td>4</td>\n",
              "      <td>Technology</td>\n",
              "      <td>2017-01-07</td>\n",
              "      <td>Home Office</td>\n",
              "      <td>1068</td>\n",
              "    </tr>\n",
              "  </tbody>\n",
              "</table>\n",
              "</div>"
            ],
            "text/plain": [
              "   row_id         Category  Order Date      Segment  Sales_Target\n",
              "0       0  Office Supplies  2017-01-04     Consumer            15\n",
              "1       1  Office Supplies  2017-01-05  Home Office           300\n",
              "2       2  Office Supplies  2017-01-06     Consumer            21\n",
              "3       3        Furniture  2017-01-07  Home Office          2316\n",
              "4       4       Technology  2017-01-07  Home Office          1068"
            ]
          },
          "execution_count": 2,
          "metadata": {},
          "output_type": "execute_result"
        }
      ],
      "source": [
        "# Загрузка данных\n",
        "df = pd.read_csv('SalesTarget.csv',\n",
        "                 na_values=['', 'N/A', 'NULL'],  # Какие значения считать NaN\n",
        "                 dtype={'row_id': 'Int64'}       # Позволяем Int64 с NaN\n",
        "                )\n",
        "\n",
        "# Переименуем столбец с пробелом для удобства\n",
        "df = df.rename(columns={'Sales Target': 'Sales_Target'})\n",
        "\n",
        "print(f\"Размер данных: {df.shape}\")\n",
        "print(f\"Столбцы: {list(df.columns)}\")\n",
        "df.head()"
      ]
    },
    {
      "cell_type": "markdown",
      "id": "sZ5ne-iQ-75k",
      "metadata": {
        "id": "sZ5ne-iQ-75k"
      },
      "source": [
        "## 2. Очистка данных\n",
        "\n",
        "### О чём пойдёт речь:\n",
        "- Проверка и обработка пропущенных значений\n",
        "- Удаление и заполнение NaN\n",
        "- Работа с дубликатами\n",
        "- Приведение типов данных\n",
        "- Очистка строк: пробелы, регистр\n",
        "- Удаление столбцов/строк\n",
        "- Замена значений\n",
        "- Обработка выбросов (IQR)\n",
        "- Валидация данных"
      ]
    },
    {
      "cell_type": "markdown",
      "id": "74iltLSl-75l",
      "metadata": {
        "id": "74iltLSl-75l"
      },
      "source": [
        "### Проверка пропущенных значений"
      ]
    },
    {
      "cell_type": "code",
      "execution_count": 3,
      "id": "MglBltoo-75m",
      "metadata": {
        "id": "MglBltoo-75m"
      },
      "outputs": [
        {
          "name": "stdout",
          "output_type": "stream",
          "text": [
            "Количество пропусков:\n",
            "row_id          0\n",
            "Category        0\n",
            "Order Date      0\n",
            "Segment         0\n",
            "Sales_Target    0\n",
            "dtype: int64\n",
            "\n",
            "Всего пропусков: 0\n"
          ]
        }
      ],
      "source": [
        "# Проверка NaN\n",
        "print(\"Количество пропусков:\")\n",
        "print(df.isna().sum())\n",
        "\n",
        "print(f\"\\nВсего пропусков: {df.isna().sum().sum()}\")"
      ]
    },
    {
      "cell_type": "markdown",
      "id": "MrbuhfAS-75n",
      "metadata": {
        "id": "MrbuhfAS-75n"
      },
      "source": [
        "### Удаление строк с пропусками"
      ]
    },
    {
      "cell_type": "code",
      "execution_count": 4,
      "id": "vytHanmN-75n",
      "metadata": {
        "id": "vytHanmN-75n"
      },
      "outputs": [
        {
          "name": "stdout",
          "output_type": "stream",
          "text": [
            "После удаления пропусков: (4603, 5)\n"
          ]
        }
      ],
      "source": [
        "# Удаление строк, где есть NaN в ключевых столбцах\n",
        "df_clean = df.dropna(subset=['Category', 'Order Date', 'Segment', 'Sales_Target']).copy()\n",
        "\n",
        "print(f\"После удаления пропусков: {df_clean.shape}\")"
      ]
    },
    {
      "cell_type": "markdown",
      "id": "GN7EOWOQ-75o",
      "metadata": {
        "id": "GN7EOWOQ-75o"
      },
      "source": [
        "### Работа с дубликатами"
      ]
    },
    {
      "cell_type": "code",
      "execution_count": 5,
      "id": "Q-BQlgHA-75o",
      "metadata": {
        "id": "Q-BQlgHA-75o"
      },
      "outputs": [
        {
          "name": "stdout",
          "output_type": "stream",
          "text": [
            "Полных дубликатов: 0\n",
            "После удаления дубликатов: (4603, 5)\n"
          ]
        }
      ],
      "source": [
        "# Поиск полных дубликатов\n",
        "duplicates = df_clean.duplicated().sum()\n",
        "print(f\"Полных дубликатов: {duplicates}\")\n",
        "\n",
        "# Удаление дубликатов\n",
        "df_clean = df_clean.drop_duplicates().copy()\n",
        "print(f\"После удаления дубликатов: {df_clean.shape}\")"
      ]
    },
    {
      "cell_type": "markdown",
      "id": "7R7y0Uhy-75o",
      "metadata": {
        "id": "7R7y0Uhy-75o"
      },
      "source": [
        "### Приведение типов данных"
      ]
    },
    {
      "cell_type": "code",
      "execution_count": 6,
      "id": "aU21ozth-75p",
      "metadata": {
        "id": "aU21ozth-75p"
      },
      "outputs": [
        {
          "name": "stdout",
          "output_type": "stream",
          "text": [
            "Типы данных после преобразования:\n",
            "row_id                   Int64\n",
            "Category        string[python]\n",
            "Order Date      datetime64[ns]\n",
            "Segment         string[python]\n",
            "Sales_Target             int64\n",
            "dtype: object\n"
          ]
        }
      ],
      "source": [
        "# Преобразование даты\n",
        "df_clean['Order Date'] = pd.to_datetime(df_clean['Order Date'], errors='coerce')\n",
        "\n",
        "# Преобразование Sales_Target в числовой\n",
        "df_clean['Sales_Target'] = pd.to_numeric(df_clean['Sales_Target'], errors='coerce')\n",
        "\n",
        "# Приведение к строке с поддержкой NaN\n",
        "df_clean['Category'] = df_clean['Category'].astype('string')\n",
        "df_clean['Segment'] = df_clean['Segment'].astype('string')\n",
        "\n",
        "print(\"Типы данных после преобразования:\")\n",
        "print(df_clean.dtypes)"
      ]
    },
    {
      "cell_type": "markdown",
      "id": "PFxCcGq5-75p",
      "metadata": {
        "id": "PFxCcGq5-75p"
      },
      "source": [
        "### Очистка строк: пробелы и регистр"
      ]
    },
    {
      "cell_type": "code",
      "execution_count": 7,
      "id": "EaCxCDDu-75p",
      "metadata": {
        "id": "EaCxCDDu-75p"
      },
      "outputs": [
        {
          "name": "stdout",
          "output_type": "stream",
          "text": [
            "Уникальные значения после очистки:\n",
            "Category: <StringArray>\n",
            "['Office Supplies', 'Furniture', 'Technology']\n",
            "Length: 3, dtype: string\n",
            "Segment: <StringArray>\n",
            "['Consumer', 'Home Office', 'Corporate']\n",
            "Length: 3, dtype: string\n"
          ]
        }
      ],
      "source": [
        "# Удаление пробелов и приведение к стандартному регистру\n",
        "df_clean['Category'] = df_clean['Category'].str.strip().str.title()\n",
        "df_clean['Segment'] = df_clean['Segment'].str.strip().str.title()\n",
        "\n",
        "print(\"Уникальные значения после очистки:\")\n",
        "print(\"Category:\", df_clean['Category'].unique())\n",
        "print(\"Segment:\", df_clean['Segment'].unique())"
      ]
    },
    {
      "cell_type": "markdown",
      "id": "goYhQHhc-75q",
      "metadata": {
        "id": "goYhQHhc-75q"
      },
      "source": [
        "### Удаление столбцов"
      ]
    },
    {
      "cell_type": "code",
      "execution_count": 8,
      "id": "cuskRWNU-75q",
      "metadata": {
        "id": "cuskRWNU-75q"
      },
      "outputs": [
        {
          "name": "stdout",
          "output_type": "stream",
          "text": [
            "Осталось столбцов: 4\n"
          ]
        }
      ],
      "source": [
        "# Удаление row_id, если не нужен\n",
        "if 'row_id' in df_clean.columns:\n",
        "    df_clean = df_clean.drop(columns=['row_id'])\n",
        "\n",
        "print(f\"Осталось столбцов: {df_clean.shape[1]}\")"
      ]
    },
    {
      "cell_type": "markdown",
      "id": "VFhbRbbc-75q",
      "metadata": {
        "id": "VFhbRbbc-75q"
      },
      "source": [
        "### Замена значений"
      ]
    },
    {
      "cell_type": "code",
      "execution_count": 9,
      "id": "GN41HdPh-75q",
      "metadata": {
        "id": "GN41HdPh-75q"
      },
      "outputs": [
        {
          "name": "stdout",
          "output_type": "stream",
          "text": [
            "После замены:\n",
            "             Category           Segment\n",
            "0  Office & Supplies  Individual Buyer\n",
            "1  Office & Supplies     Remote Worker\n",
            "2  Office & Supplies  Individual Buyer\n"
          ]
        }
      ],
      "source": [
        "# Замена для улучшения читаемости\n",
        "category_map = {\n",
        "    'Office Supplies': 'Office & Supplies',\n",
        "    'Furniture': 'Furniture & Decor',\n",
        "    'Technology': 'Electronics & Tech'\n",
        "}\n",
        "\n",
        "segment_map = {\n",
        "    'Home Office': 'Remote Worker',\n",
        "    'Consumer': 'Individual Buyer'\n",
        "}\n",
        "\n",
        "df_clean['Category'] = df_clean['Category'].replace(category_map)\n",
        "df_clean['Segment'] = df_clean['Segment'].replace(segment_map)\n",
        "\n",
        "print(\"После замены:\\n\", df_clean[['Category', 'Segment']].head(3))"
      ]
    },
    {
      "cell_type": "markdown",
      "id": "POvAMYZ--75r",
      "metadata": {
        "id": "POvAMYZ--75r"
      },
      "source": [
        "### Обработка выбросов (IQR-метод)"
      ]
    },
    {
      "cell_type": "code",
      "execution_count": 10,
      "id": "YeYKJVTR-75r",
      "metadata": {
        "id": "YeYKJVTR-75r"
      },
      "outputs": [
        {
          "name": "stdout",
          "output_type": "stream",
          "text": [
            "После удаления выбросов: 4203 строк\n"
          ]
        }
      ],
      "source": [
        "# Функция удаления выбросов\n",
        "def remove_outliers_iqr(df, col):\n",
        "    Q1 = df[col].quantile(0.25)\n",
        "    Q3 = df[col].quantile(0.75)\n",
        "    IQR = Q3 - Q1\n",
        "    lower = Q1 - 1.5 * IQR\n",
        "    upper = Q3 + 1.5 * IQR\n",
        "    return df[(df[col] >= lower) & (df[col] <= upper)]\n",
        "\n",
        "df_clean = remove_outliers_iqr(df_clean, 'Sales_Target')\n",
        "print(f\"После удаления выбросов: {df_clean.shape[0]} строк\")"
      ]
    },
    {
      "cell_type": "markdown",
      "id": "rlB5KXbQ-75r",
      "metadata": {
        "id": "rlB5KXbQ-75r"
      },
      "source": [
        "### Валидация данных"
      ]
    },
    {
      "cell_type": "code",
      "execution_count": 11,
      "id": "dJZPr-ug-75r",
      "metadata": {
        "id": "dJZPr-ug-75r"
      },
      "outputs": [
        {
          "name": "stdout",
          "output_type": "stream",
          "text": [
            "Финальный размер: (4203, 4)\n"
          ]
        }
      ],
      "source": [
        "# Проверка диапазона Sales_Target\n",
        "invalid_sales = df_clean[(df_clean['Sales_Target'] <= 0)]\n",
        "if len(invalid_sales) > 0:\n",
        "    print(f\"Найдено {len(invalid_sales)} строк с некорректным Sales_Target\")\n",
        "    df_clean = df_clean[df_clean['Sales_Target'] > 0]\n",
        "\n",
        "# Проверка дат\n",
        "df_clean = df_clean[df_clean['Order Date'].dt.year.between(2010, 2025)]\n",
        "\n",
        "print(f\"Финальный размер: {df_clean.shape}\")"
      ]
    },
    {
      "cell_type": "markdown",
      "id": "d1mveC-q-75s",
      "metadata": {
        "id": "d1mveC-q-75s"
      },
      "source": [
        "## 3. Преобразование данных\n",
        "\n",
        "### О чём пойдёт речь:\n",
        "- Группировка и агрегация\n",
        "- Сводные таблицы\n",
        "- Создание новых столбцов\n",
        "- Условные вычисления\n",
        "- Фильтрация и сортировка\n",
        "- Изменение индекса"
      ]
    },
    {
      "cell_type": "markdown",
      "id": "75laT3fM-75s",
      "metadata": {
        "id": "75laT3fM-75s"
      },
      "source": [
        "### Группировка и агрегация"
      ]
    },
    {
      "cell_type": "code",
      "execution_count": 12,
      "id": "_thvHy_g-75s",
      "metadata": {
        "id": "_thvHy_g-75s"
      },
      "outputs": [
        {
          "name": "stdout",
          "output_type": "stream",
          "text": [
            "Сводка по категориям и сегментам:\n"
          ]
        },
        {
          "data": {
            "application/vnd.microsoft.datawrangler.viewer.v0+json": {
              "columns": [
                {
                  "name": "index",
                  "rawType": "int64",
                  "type": "integer"
                },
                {
                  "name": "Category",
                  "rawType": "string",
                  "type": "string"
                },
                {
                  "name": "Segment",
                  "rawType": "string",
                  "type": "string"
                },
                {
                  "name": "Sales_Target_sum",
                  "rawType": "int64",
                  "type": "integer"
                },
                {
                  "name": "Sales_Target_mean",
                  "rawType": "float64",
                  "type": "float"
                },
                {
                  "name": "Sales_Target_count",
                  "rawType": "int64",
                  "type": "integer"
                },
                {
                  "name": "Order Date_min",
                  "rawType": "datetime64[ns]",
                  "type": "datetime"
                }
              ],
              "ref": "1236ae26-d8c9-48cd-987c-076a71c2f3fe",
              "rows": [
                [
                  "0",
                  "Electronics & Tech",
                  "Corporate",
                  "105807",
                  "321.6",
                  "329",
                  "2017-01-14 00:00:00"
                ],
                [
                  "1",
                  "Electronics & Tech",
                  "Individual Buyer",
                  "172688",
                  "362.03",
                  "477",
                  "2017-01-10 00:00:00"
                ],
                [
                  "2",
                  "Electronics & Tech",
                  "Remote Worker",
                  "70497",
                  "329.43",
                  "214",
                  "2017-01-07 00:00:00"
                ],
                [
                  "3",
                  "Furniture & Decor",
                  "Corporate",
                  "130572",
                  "346.34",
                  "377",
                  "2017-01-11 00:00:00"
                ],
                [
                  "4",
                  "Furniture & Decor",
                  "Individual Buyer",
                  "192250",
                  "362.05",
                  "531",
                  "2017-01-08 00:00:00"
                ],
                [
                  "5",
                  "Furniture & Decor",
                  "Remote Worker",
                  "73056",
                  "294.58",
                  "248",
                  "2017-01-27 00:00:00"
                ],
                [
                  "6",
                  "Office & Supplies",
                  "Corporate",
                  "141005",
                  "207.06",
                  "681",
                  "2017-01-07 00:00:00"
                ],
                [
                  "7",
                  "Office & Supplies",
                  "Individual Buyer",
                  "209787",
                  "241.97",
                  "867",
                  "2017-01-04 00:00:00"
                ],
                [
                  "8",
                  "Office & Supplies",
                  "Remote Worker",
                  "80713",
                  "168.5",
                  "479",
                  "2017-01-05 00:00:00"
                ]
              ],
              "shape": {
                "columns": 6,
                "rows": 9
              }
            },
            "text/html": [
              "<div>\n",
              "<style scoped>\n",
              "    .dataframe tbody tr th:only-of-type {\n",
              "        vertical-align: middle;\n",
              "    }\n",
              "\n",
              "    .dataframe tbody tr th {\n",
              "        vertical-align: top;\n",
              "    }\n",
              "\n",
              "    .dataframe thead th {\n",
              "        text-align: right;\n",
              "    }\n",
              "</style>\n",
              "<table border=\"1\" class=\"dataframe\">\n",
              "  <thead>\n",
              "    <tr style=\"text-align: right;\">\n",
              "      <th></th>\n",
              "      <th>Category</th>\n",
              "      <th>Segment</th>\n",
              "      <th>Sales_Target_sum</th>\n",
              "      <th>Sales_Target_mean</th>\n",
              "      <th>Sales_Target_count</th>\n",
              "      <th>Order Date_min</th>\n",
              "    </tr>\n",
              "  </thead>\n",
              "  <tbody>\n",
              "    <tr>\n",
              "      <th>0</th>\n",
              "      <td>Electronics &amp; Tech</td>\n",
              "      <td>Corporate</td>\n",
              "      <td>105807</td>\n",
              "      <td>321.60</td>\n",
              "      <td>329</td>\n",
              "      <td>2017-01-14</td>\n",
              "    </tr>\n",
              "    <tr>\n",
              "      <th>1</th>\n",
              "      <td>Electronics &amp; Tech</td>\n",
              "      <td>Individual Buyer</td>\n",
              "      <td>172688</td>\n",
              "      <td>362.03</td>\n",
              "      <td>477</td>\n",
              "      <td>2017-01-10</td>\n",
              "    </tr>\n",
              "    <tr>\n",
              "      <th>2</th>\n",
              "      <td>Electronics &amp; Tech</td>\n",
              "      <td>Remote Worker</td>\n",
              "      <td>70497</td>\n",
              "      <td>329.43</td>\n",
              "      <td>214</td>\n",
              "      <td>2017-01-07</td>\n",
              "    </tr>\n",
              "    <tr>\n",
              "      <th>3</th>\n",
              "      <td>Furniture &amp; Decor</td>\n",
              "      <td>Corporate</td>\n",
              "      <td>130572</td>\n",
              "      <td>346.34</td>\n",
              "      <td>377</td>\n",
              "      <td>2017-01-11</td>\n",
              "    </tr>\n",
              "    <tr>\n",
              "      <th>4</th>\n",
              "      <td>Furniture &amp; Decor</td>\n",
              "      <td>Individual Buyer</td>\n",
              "      <td>192250</td>\n",
              "      <td>362.05</td>\n",
              "      <td>531</td>\n",
              "      <td>2017-01-08</td>\n",
              "    </tr>\n",
              "    <tr>\n",
              "      <th>5</th>\n",
              "      <td>Furniture &amp; Decor</td>\n",
              "      <td>Remote Worker</td>\n",
              "      <td>73056</td>\n",
              "      <td>294.58</td>\n",
              "      <td>248</td>\n",
              "      <td>2017-01-27</td>\n",
              "    </tr>\n",
              "    <tr>\n",
              "      <th>6</th>\n",
              "      <td>Office &amp; Supplies</td>\n",
              "      <td>Corporate</td>\n",
              "      <td>141005</td>\n",
              "      <td>207.06</td>\n",
              "      <td>681</td>\n",
              "      <td>2017-01-07</td>\n",
              "    </tr>\n",
              "    <tr>\n",
              "      <th>7</th>\n",
              "      <td>Office &amp; Supplies</td>\n",
              "      <td>Individual Buyer</td>\n",
              "      <td>209787</td>\n",
              "      <td>241.97</td>\n",
              "      <td>867</td>\n",
              "      <td>2017-01-04</td>\n",
              "    </tr>\n",
              "    <tr>\n",
              "      <th>8</th>\n",
              "      <td>Office &amp; Supplies</td>\n",
              "      <td>Remote Worker</td>\n",
              "      <td>80713</td>\n",
              "      <td>168.50</td>\n",
              "      <td>479</td>\n",
              "      <td>2017-01-05</td>\n",
              "    </tr>\n",
              "  </tbody>\n",
              "</table>\n",
              "</div>"
            ],
            "text/plain": [
              "             Category           Segment  Sales_Target_sum  Sales_Target_mean  \\\n",
              "0  Electronics & Tech         Corporate            105807             321.60   \n",
              "1  Electronics & Tech  Individual Buyer            172688             362.03   \n",
              "2  Electronics & Tech     Remote Worker             70497             329.43   \n",
              "3   Furniture & Decor         Corporate            130572             346.34   \n",
              "4   Furniture & Decor  Individual Buyer            192250             362.05   \n",
              "5   Furniture & Decor     Remote Worker             73056             294.58   \n",
              "6   Office & Supplies         Corporate            141005             207.06   \n",
              "7   Office & Supplies  Individual Buyer            209787             241.97   \n",
              "8   Office & Supplies     Remote Worker             80713             168.50   \n",
              "\n",
              "   Sales_Target_count Order Date_min  \n",
              "0                 329     2017-01-14  \n",
              "1                 477     2017-01-10  \n",
              "2                 214     2017-01-07  \n",
              "3                 377     2017-01-11  \n",
              "4                 531     2017-01-08  \n",
              "5                 248     2017-01-27  \n",
              "6                 681     2017-01-07  \n",
              "7                 867     2017-01-04  \n",
              "8                 479     2017-01-05  "
            ]
          },
          "execution_count": 12,
          "metadata": {},
          "output_type": "execute_result"
        }
      ],
      "source": [
        "grouped = df_clean.groupby(['Category', 'Segment']).agg({\n",
        "    'Sales_Target': ['sum', 'mean', 'count'],\n",
        "    'Order Date': 'min'\n",
        "}).round(2)\n",
        "\n",
        "grouped.columns = ['_'.join(col).strip() for col in grouped.columns]\n",
        "grouped = grouped.reset_index()\n",
        "\n",
        "print(\"Сводка по категориям и сегментам:\")\n",
        "grouped"
      ]
    },
    {
      "cell_type": "markdown",
      "id": "bgiG8E03-75s",
      "metadata": {
        "id": "bgiG8E03-75s"
      },
      "source": [
        "### Сводные таблицы"
      ]
    },
    {
      "cell_type": "code",
      "execution_count": 14,
      "id": "1ZB_H7o5-75s",
      "metadata": {
        "id": "1ZB_H7o5-75s"
      },
      "outputs": [
        {
          "name": "stdout",
          "output_type": "stream",
          "text": [
            "Сводная таблица по годам:\n"
          ]
        },
        {
          "data": {
            "application/vnd.microsoft.datawrangler.viewer.v0+json": {
              "columns": [
                {
                  "name": "Category",
                  "rawType": "string",
                  "type": "string"
                },
                {
                  "name": "2017",
                  "rawType": "int64",
                  "type": "integer"
                },
                {
                  "name": "2018",
                  "rawType": "int64",
                  "type": "integer"
                },
                {
                  "name": "2019",
                  "rawType": "int64",
                  "type": "integer"
                },
                {
                  "name": "2020",
                  "rawType": "int64",
                  "type": "integer"
                }
              ],
              "ref": "c2b056d8-e7ce-4f2f-9185-a4657cb84bfe",
              "rows": [
                [
                  "Electronics & Tech",
                  "69225",
                  "84048",
                  "87358",
                  "108361"
                ],
                [
                  "Furniture & Decor",
                  "87638",
                  "84420",
                  "106921",
                  "116899"
                ],
                [
                  "Office & Supplies",
                  "82007",
                  "89928",
                  "117503",
                  "142067"
                ]
              ],
              "shape": {
                "columns": 4,
                "rows": 3
              }
            },
            "text/html": [
              "<div>\n",
              "<style scoped>\n",
              "    .dataframe tbody tr th:only-of-type {\n",
              "        vertical-align: middle;\n",
              "    }\n",
              "\n",
              "    .dataframe tbody tr th {\n",
              "        vertical-align: top;\n",
              "    }\n",
              "\n",
              "    .dataframe thead th {\n",
              "        text-align: right;\n",
              "    }\n",
              "</style>\n",
              "<table border=\"1\" class=\"dataframe\">\n",
              "  <thead>\n",
              "    <tr style=\"text-align: right;\">\n",
              "      <th>Order_Year</th>\n",
              "      <th>2017</th>\n",
              "      <th>2018</th>\n",
              "      <th>2019</th>\n",
              "      <th>2020</th>\n",
              "    </tr>\n",
              "    <tr>\n",
              "      <th>Category</th>\n",
              "      <th></th>\n",
              "      <th></th>\n",
              "      <th></th>\n",
              "      <th></th>\n",
              "    </tr>\n",
              "  </thead>\n",
              "  <tbody>\n",
              "    <tr>\n",
              "      <th>Electronics &amp; Tech</th>\n",
              "      <td>69225</td>\n",
              "      <td>84048</td>\n",
              "      <td>87358</td>\n",
              "      <td>108361</td>\n",
              "    </tr>\n",
              "    <tr>\n",
              "      <th>Furniture &amp; Decor</th>\n",
              "      <td>87638</td>\n",
              "      <td>84420</td>\n",
              "      <td>106921</td>\n",
              "      <td>116899</td>\n",
              "    </tr>\n",
              "    <tr>\n",
              "      <th>Office &amp; Supplies</th>\n",
              "      <td>82007</td>\n",
              "      <td>89928</td>\n",
              "      <td>117503</td>\n",
              "      <td>142067</td>\n",
              "    </tr>\n",
              "  </tbody>\n",
              "</table>\n",
              "</div>"
            ],
            "text/plain": [
              "Order_Year           2017   2018    2019    2020\n",
              "Category                                        \n",
              "Electronics & Tech  69225  84048   87358  108361\n",
              "Furniture & Decor   87638  84420  106921  116899\n",
              "Office & Supplies   82007  89928  117503  142067"
            ]
          },
          "execution_count": 14,
          "metadata": {},
          "output_type": "execute_result"
        }
      ],
      "source": [
        "# Добавим год\n",
        "df_clean['Order_Year'] = df_clean['Order Date'].dt.year\n",
        "\n",
        "pivot = pd.pivot_table(df_clean,\n",
        "                       values='Sales_Target',\n",
        "                       index='Category',\n",
        "                       columns='Order_Year',\n",
        "                       aggfunc='sum',\n",
        "                       fill_value=0)\n",
        "\n",
        "print(\"Сводная таблица по годам:\")\n",
        "pivot"
      ]
    },
    {
      "cell_type": "markdown",
      "id": "qCkgvVz_-75t",
      "metadata": {
        "id": "qCkgvVz_-75t"
      },
      "source": [
        "### Создание новых столбцов"
      ]
    },
    {
      "cell_type": "code",
      "execution_count": 15,
      "id": "uhPgwBJ7-75t",
      "metadata": {
        "id": "uhPgwBJ7-75t"
      },
      "outputs": [
        {
          "name": "stdout",
          "output_type": "stream",
          "text": [
            "Новый столбец 'Sales_Category':\n",
            "   Sales_Target Sales_Category\n",
            "0            15            Low\n",
            "1           300            Low\n",
            "2            21            Low\n"
          ]
        }
      ],
      "source": [
        "df_clean['Sales_Category'] = df_clean['Sales_Target'].apply(\n",
        "    lambda x: 'High' if x > 500 else 'Low'\n",
        ")\n",
        "\n",
        "print(\"Новый столбец 'Sales_Category':\")\n",
        "print(df_clean[['Sales_Target', 'Sales_Category']].head(3))"
      ]
    },
    {
      "cell_type": "markdown",
      "id": "GPOUB8BO-75t",
      "metadata": {
        "id": "GPOUB8BO-75t"
      },
      "source": [
        "### Условные вычисления"
      ]
    },
    {
      "cell_type": "code",
      "execution_count": 16,
      "id": "qxWyF83w-75u",
      "metadata": {
        "id": "qxWyF83w-75u"
      },
      "outputs": [
        {
          "name": "stdout",
          "output_type": "stream",
          "text": [
            "Столбец 'Bonus' добавлен:\n",
            "   Sales_Target  Bonus\n",
            "0            15   0.75\n",
            "1           300  30.00\n",
            "2            21   1.05\n"
          ]
        }
      ],
      "source": [
        "df_clean['Bonus'] = np.where(\n",
        "    df_clean['Sales_Target'] > 200,\n",
        "    df_clean['Sales_Target'] * 0.1,\n",
        "    df_clean['Sales_Target'] * 0.05\n",
        ")\n",
        "\n",
        "print(\"Столбец 'Bonus' добавлен:\")\n",
        "print(df_clean[['Sales_Target', 'Bonus']].head(3))"
      ]
    },
    {
      "cell_type": "markdown",
      "id": "LlKpRlhn-75u",
      "metadata": {
        "id": "LlKpRlhn-75u"
      },
      "source": [
        "### Фильтрация и сортировка"
      ]
    },
    {
      "cell_type": "code",
      "execution_count": 17,
      "id": "aeP8EYgL-75u",
      "metadata": {
        "id": "aeP8EYgL-75u"
      },
      "outputs": [
        {
          "name": "stdout",
          "output_type": "stream",
          "text": [
            "Отфильтровано и отсортировано:\n"
          ]
        },
        {
          "data": {
            "application/vnd.microsoft.datawrangler.viewer.v0+json": {
              "columns": [
                {
                  "name": "index",
                  "rawType": "int64",
                  "type": "integer"
                },
                {
                  "name": "Category",
                  "rawType": "string",
                  "type": "string"
                },
                {
                  "name": "Order Date",
                  "rawType": "datetime64[ns]",
                  "type": "datetime"
                },
                {
                  "name": "Segment",
                  "rawType": "string",
                  "type": "string"
                },
                {
                  "name": "Sales_Target",
                  "rawType": "int64",
                  "type": "integer"
                },
                {
                  "name": "Order_Year",
                  "rawType": "int32",
                  "type": "integer"
                },
                {
                  "name": "Sales_Category",
                  "rawType": "object",
                  "type": "string"
                },
                {
                  "name": "Bonus",
                  "rawType": "float64",
                  "type": "float"
                }
              ],
              "ref": "e642aeed-ba67-4946-9b8a-58dd220d57b8",
              "rows": [
                [
                  "3016",
                  "Office & Supplies",
                  "2019-11-25 00:00:00",
                  "Individual Buyer",
                  "1287",
                  "2019",
                  "High",
                  "128.70000000000002"
                ],
                [
                  "3067",
                  "Office & Supplies",
                  "2019-12-04 00:00:00",
                  "Individual Buyer",
                  "1287",
                  "2019",
                  "High",
                  "128.70000000000002"
                ],
                [
                  "3073",
                  "Office & Supplies",
                  "2019-12-06 00:00:00",
                  "Individual Buyer",
                  "1283",
                  "2019",
                  "High",
                  "128.3"
                ]
              ],
              "shape": {
                "columns": 7,
                "rows": 3
              }
            },
            "text/html": [
              "<div>\n",
              "<style scoped>\n",
              "    .dataframe tbody tr th:only-of-type {\n",
              "        vertical-align: middle;\n",
              "    }\n",
              "\n",
              "    .dataframe tbody tr th {\n",
              "        vertical-align: top;\n",
              "    }\n",
              "\n",
              "    .dataframe thead th {\n",
              "        text-align: right;\n",
              "    }\n",
              "</style>\n",
              "<table border=\"1\" class=\"dataframe\">\n",
              "  <thead>\n",
              "    <tr style=\"text-align: right;\">\n",
              "      <th></th>\n",
              "      <th>Category</th>\n",
              "      <th>Order Date</th>\n",
              "      <th>Segment</th>\n",
              "      <th>Sales_Target</th>\n",
              "      <th>Order_Year</th>\n",
              "      <th>Sales_Category</th>\n",
              "      <th>Bonus</th>\n",
              "    </tr>\n",
              "  </thead>\n",
              "  <tbody>\n",
              "    <tr>\n",
              "      <th>3016</th>\n",
              "      <td>Office &amp; Supplies</td>\n",
              "      <td>2019-11-25</td>\n",
              "      <td>Individual Buyer</td>\n",
              "      <td>1287</td>\n",
              "      <td>2019</td>\n",
              "      <td>High</td>\n",
              "      <td>128.7</td>\n",
              "    </tr>\n",
              "    <tr>\n",
              "      <th>3067</th>\n",
              "      <td>Office &amp; Supplies</td>\n",
              "      <td>2019-12-04</td>\n",
              "      <td>Individual Buyer</td>\n",
              "      <td>1287</td>\n",
              "      <td>2019</td>\n",
              "      <td>High</td>\n",
              "      <td>128.7</td>\n",
              "    </tr>\n",
              "    <tr>\n",
              "      <th>3073</th>\n",
              "      <td>Office &amp; Supplies</td>\n",
              "      <td>2019-12-06</td>\n",
              "      <td>Individual Buyer</td>\n",
              "      <td>1283</td>\n",
              "      <td>2019</td>\n",
              "      <td>High</td>\n",
              "      <td>128.3</td>\n",
              "    </tr>\n",
              "  </tbody>\n",
              "</table>\n",
              "</div>"
            ],
            "text/plain": [
              "               Category Order Date           Segment  Sales_Target  \\\n",
              "3016  Office & Supplies 2019-11-25  Individual Buyer          1287   \n",
              "3067  Office & Supplies 2019-12-04  Individual Buyer          1287   \n",
              "3073  Office & Supplies 2019-12-06  Individual Buyer          1283   \n",
              "\n",
              "      Order_Year Sales_Category  Bonus  \n",
              "3016        2019           High  128.7  \n",
              "3067        2019           High  128.7  \n",
              "3073        2019           High  128.3  "
            ]
          },
          "execution_count": 17,
          "metadata": {},
          "output_type": "execute_result"
        }
      ],
      "source": [
        "filtered = df_clean[\n",
        "    (df_clean['Category'] == 'Office & Supplies') &\n",
        "    (df_clean['Sales_Target'] > 100)\n",
        "]\n",
        "\n",
        "sorted_df = filtered.sort_values(by='Sales_Target', ascending=False)\n",
        "\n",
        "print(\"Отфильтровано и отсортировано:\")\n",
        "sorted_df.head(3)"
      ]
    },
    {
      "cell_type": "markdown",
      "id": "OyO0fDWg-75v",
      "metadata": {
        "id": "OyO0fDWg-75v"
      },
      "source": [
        "### Изменение индекса"
      ]
    },
    {
      "cell_type": "code",
      "execution_count": 18,
      "id": "I1O2JiJ_-75v",
      "metadata": {
        "id": "I1O2JiJ_-75v"
      },
      "outputs": [
        {
          "name": "stdout",
          "output_type": "stream",
          "text": [
            "Индекс изменён и восстановлен.\n"
          ]
        }
      ],
      "source": [
        "df_indexed = df_clean.set_index('Order Date')\n",
        "df_reset = df_indexed.reset_index()\n",
        "\n",
        "print(\"Индекс изменён и восстановлен.\")"
      ]
    },
    {
      "cell_type": "markdown",
      "id": "bxUuufMA-75v",
      "metadata": {
        "id": "bxUuufMA-75v"
      },
      "source": [
        "## Заключение\n",
        "\n",
        "Этот конспект охватывает полный цикл предварительной обработки данных:\n",
        "- Загрузка с обработкой пробелов и типов\n",
        "- Глубокая очистка: NaN, дубли, строки, выбросы\n",
        "- Преобразование: группировка, сводные таблицы, условия, новые столбцы\n",
        "\n",
        "Все операции выполнены безопасно, без предупреждений, с использованием современных практик `pandas`.\n",
        "\n",
        "📌 **Совет**: Всегда используйте `.copy()` после фильтрации и `astype('string')` для строк с NaN."
      ]
    }
  ],
  "metadata": {
    "colab": {
      "provenance": []
    },
    "kernelspec": {
      "display_name": "Python 3",
      "language": "python",
      "name": "python3"
    },
    "language_info": {
      "codemirror_mode": {
        "name": "ipython",
        "version": 3
      },
      "file_extension": ".py",
      "mimetype": "text/x-python",
      "name": "python",
      "nbconvert_exporter": "python",
      "pygments_lexer": "ipython3",
      "version": "3.13.5"
    }
  },
  "nbformat": 4,
  "nbformat_minor": 5
}
