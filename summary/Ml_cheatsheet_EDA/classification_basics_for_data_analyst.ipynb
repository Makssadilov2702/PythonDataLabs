{
  "cells": [
    {
      "cell_type": "markdown",
      "metadata": {},
      "source": [
        "# Классификация для аналитика\n",
        "\n",
        "В этом ноутбуке мы разберём:\n",
        "1. Логистическую регрессию\n",
        "2. Деревья решений\n",
        "3. Случайный лес (Random Forest)\n",
        "4. Метрики качества (accuracy, precision, recall, F1, ROC-AUC)\n",
        "5. Пример на синтетических и реальных данных"
      ]
    },
    {
      "cell_type": "markdown",
      "metadata": {},
      "source": [
        "## 1. Что такое классификация\n",
        "Классификация — это задача машинного обучения, в которой мы предсказываем категорию объекта.\n",
        "\n",
        "**Примеры задач:**\n",
        "- Определить, купит ли клиент товар (да/нет)\n",
        "- Определить, спам ли письмо (да/нет)\n",
        "- Классификация изображений (кот/собака)\n",
        "\n",
        "В отличие от регрессии, мы предсказываем **метки классов**, а не числа."
      ]
    },
    {
      "cell_type": "markdown",
      "metadata": {},
      "source": [
        "## 2. Логистическая регрессия\n",
        "Это простая и быстрая модель для бинарной классификации.\n",
        "\n",
        "Идея: вместо того чтобы предсказывать число, модель оценивает вероятность принадлежности к классу, используя **логистическую функцию (сигмоиду)**:\n",
        "\n",
        "$$\n",
        "\\sigma(z) = \\frac{1}{1 + e^{-z}}\n",
        "$$\n",
        "\n",
        "Если вероятность > 0.5 — присваиваем класс 1, иначе 0."
      ]
    },
    {
      "cell_type": "code",
      "execution_count": 3,
      "metadata": {},
      "outputs": [
        {
          "name": "stdout",
          "output_type": "stream",
          "text": [
            "Accuracy: 1.0\n"
          ]
        }
      ],
      "source": [
        "import pandas as pd\n",
        "from sklearn.model_selection import train_test_split\n",
        "from sklearn.linear_model import LogisticRegression\n",
        "from sklearn.metrics import accuracy_score\n",
        "\n",
        "# Синтетические данные\n",
        "df = pd.DataFrame({\n",
        "    'age': [22, 25, 47, 52, 46, 56],\n",
        "    'salary': [20000, 30000, 40000, 50000, 60000, 80000],\n",
        "    'bought': [0, 0, 1, 1, 1, 1]\n",
        "})\n",
        "\n",
        "X = df[['age', 'salary']]\n",
        "y = df['bought']\n",
        "\n",
        "X_train, X_test, y_train, y_test = train_test_split(X, y, test_size=0.3, random_state=42, stratify=y)\n",
        "\n",
        "model = LogisticRegression()\n",
        "model.fit(X_train, y_train)\n",
        "\n",
        "y_pred = model.predict(X_test)\n",
        "\n",
        "print('Accuracy:', accuracy_score(y_test, y_pred))"
      ]
    },
    {
      "cell_type": "markdown",
      "metadata": {},
      "source": [
        "## 3. Деревья решений\n",
        "Модель строит дерево, где в каждой вершине — проверка условия, а на концах — предсказание.\n",
        "\n",
        "**Плюсы:**\n",
        "- Легко интерпретировать\n",
        "- Работает с числовыми и категориальными признаками\n",
        "\n",
        "**Минусы:**\n",
        "- Может переобучаться на шумных данных"
      ]
    },
    {
      "cell_type": "code",
      "execution_count": 4,
      "metadata": {},
      "outputs": [
        {
          "name": "stdout",
          "output_type": "stream",
          "text": [
            "Accuracy (Tree): 1.0\n"
          ]
        }
      ],
      "source": [
        "from sklearn.tree import DecisionTreeClassifier\n",
        "\n",
        "tree_model = DecisionTreeClassifier(max_depth=3, random_state=42)\n",
        "tree_model.fit(X_train, y_train)\n",
        "\n",
        "y_pred_tree = tree_model.predict(X_test)\n",
        "print('Accuracy (Tree):', accuracy_score(y_test, y_pred_tree))"
      ]
    },
    {
      "cell_type": "markdown",
      "metadata": {},
      "source": [
        "## 4. Случайный лес (Random Forest)\n",
        "Это ансамблевая модель: строит много деревьев и усредняет их прогнозы.\n",
        "\n",
        "**Плюсы:**\n",
        "- Уменьшает переобучение\n",
        "- Хорошо работает «из коробки»\n",
        "\n",
        "**Минусы:**\n",
        "- Медленнее, чем одно дерево"
      ]
    },
    {
      "cell_type": "code",
      "execution_count": 5,
      "metadata": {},
      "outputs": [
        {
          "name": "stdout",
          "output_type": "stream",
          "text": [
            "Accuracy (Random Forest): 1.0\n"
          ]
        }
      ],
      "source": [
        "from sklearn.ensemble import RandomForestClassifier\n",
        "\n",
        "rf_model = RandomForestClassifier(n_estimators=100, random_state=42)\n",
        "rf_model.fit(X_train, y_train)\n",
        "\n",
        "y_pred_rf = rf_model.predict(X_test)\n",
        "print('Accuracy (Random Forest):', accuracy_score(y_test, y_pred_rf))"
      ]
    },
    {
      "cell_type": "markdown",
      "metadata": {},
      "source": [
        "## 5. Метрики классификации\n",
        "- **Accuracy** — доля правильных предсказаний.\n",
        "- **Precision** — точность: доля верных положительных среди всех предсказанных положительных.\n",
        "- **Recall** — полнота: доля верных положительных среди всех реальных положительных.\n",
        "- **F1-score** — гармоническое среднее Precision и Recall.\n",
        "- **ROC-AUC** — площадь под ROC-кривой, измеряет качество ранжирования."
      ]
    },
    {
      "cell_type": "code",
      "execution_count": 6,
      "metadata": {},
      "outputs": [
        {
          "name": "stdout",
          "output_type": "stream",
          "text": [
            "Precision: 1.0\n",
            "Recall: 1.0\n",
            "F1: 1.0\n",
            "ROC-AUC: 1.0\n"
          ]
        }
      ],
      "source": [
        "from sklearn.metrics import precision_score, recall_score, f1_score, roc_auc_score\n",
        "\n",
        "print('Precision:', precision_score(y_test, y_pred_rf))\n",
        "print('Recall:', recall_score(y_test, y_pred_rf))\n",
        "print('F1:', f1_score(y_test, y_pred_rf))\n",
        "\n",
        "# Для ROC-AUC нужно получить вероятности\n",
        "y_proba_rf = rf_model.predict_proba(X_test)[:, 1]\n",
        "print('ROC-AUC:', roc_auc_score(y_test, y_proba_rf))"
      ]
    },
    {
      "cell_type": "markdown",
      "metadata": {},
      "source": [
        "## 6. Пример на реальных данных (Iris dataset)\n",
        "Классическая задача — определить вид цветка по его размерам."
      ]
    },
    {
      "cell_type": "code",
      "execution_count": 7,
      "metadata": {},
      "outputs": [
        {
          "name": "stdout",
          "output_type": "stream",
          "text": [
            "Accuracy (Iris): 1.0\n"
          ]
        }
      ],
      "source": [
        "from sklearn.datasets import load_iris\n",
        "\n",
        "iris = load_iris()\n",
        "X_iris = iris.data\n",
        "y_iris = iris.target\n",
        "\n",
        "X_train_i, X_test_i, y_train_i, y_test_i = train_test_split(X_iris, y_iris, test_size=0.3, random_state=42)\n",
        "\n",
        "rf_model_iris = RandomForestClassifier(n_estimators=100, random_state=42)\n",
        "rf_model_iris.fit(X_train_i, y_train_i)\n",
        "\n",
        "y_pred_iris = rf_model_iris.predict(X_test_i)\n",
        "print('Accuracy (Iris):', accuracy_score(y_test_i, y_pred_iris))"
      ]
    },
    {
      "cell_type": "markdown",
      "metadata": {},
      "source": [
        "## Задания для практики\n",
        "1. Объясните разницу между логистической регрессией и деревом решений.\n",
        "2. Постройте модель логистической регрессии на своём датасете.\n",
        "3. Вычислите Precision, Recall и F1-score для своей модели.\n",
        "4. Постройте случайный лес и сравните метрики с логистической регрессией.\n",
        "5. Нарисуйте ROC-кривую для своей модели."
      ]
    }
  ],
  "metadata": {
    "kernelspec": {
      "display_name": "Python 3",
      "name": "python3"
    },
    "language_info": {
      "codemirror_mode": {
        "name": "ipython",
        "version": 3
      },
      "file_extension": ".py",
      "mimetype": "text/x-python",
      "name": "python",
      "nbconvert_exporter": "python",
      "pygments_lexer": "ipython3",
      "version": "3.13.5"
    }
  },
  "nbformat": 4,
  "nbformat_minor": 5
}
