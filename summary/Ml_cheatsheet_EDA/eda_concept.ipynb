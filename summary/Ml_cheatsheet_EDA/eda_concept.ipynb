{
  "cells": [
    {
      "cell_type": "markdown",
      "metadata": {},
      "source": [
        "# Exploratory Data Analysis (EDA)\n",
        "\n",
        "Подробный конспект по теме EDA, от основ до продвинутого уровня.\n"
      ]
    },
    {
      "cell_type": "markdown",
      "metadata": {},
      "source": [
        "## 1. Что такое EDA и зачем он нужен\n",
        "Exploratory Data Analysis (EDA) — это этап анализа данных, направленный на первичное исследование и понимание структуры, особенностей и качества данных.\n",
        "- Понимание распределения данных и основных характеристик\n",
        "- Обнаружение выбросов и аномалий\n",
        "- Выявление пропущенных значений\n",
        "- Определение взаимосвязей между переменными\n",
        "- Подготовка данных для последующего моделирования\n",
        "\n",
        "**Упрощённо:** EDA — это как осмотр автомобиля перед покупкой: проверяем основные параметры, ищем дефекты, чтобы принимать правильные решения."
      ]
    },
    {
      "cell_type": "markdown",
      "metadata": {},
      "source": [
        "## 2. Описательная статистика\n",
        "- Среднее, медиана, мода, дисперсия, стандартное отклонение\n",
        "- Среднее — арифметическое всех значений\n",
        "- Медиана — значение, делящее данные пополам\n",
        "- Мода — наиболее часто встречающееся значение\n",
        "- Дисперсия и стандартное отклонение — меры разброса данных\n",
        "\n",
        "Формулы:\n",
        "```\n",
        "mean = (1/n) * sum(x_i)\n",
        "variance = (1/(n-1)) * sum((x_i - mean)^2)\n",
        "std_dev = sqrt(variance)\n",
        "```\n",
        "\n",
        "**Пример:**"
      ]
    },
    {
      "cell_type": "code",
      "execution_count": 1,
      "metadata": {},
      "outputs": [
        {
          "name": "stdout",
          "output_type": "stream",
          "text": [
            "Среднее: 12.666666666666666\n",
            "Медиана: 12.0\n",
            "Мода: 12\n",
            "Дисперсия: 2.7499999999999996\n",
            "Стандартное отклонение: 1.6583123951776997\n"
          ]
        }
      ],
      "source": [
        "import pandas as pd\n",
        "data = [10, 12, 12, 13, 12, 14, 16, 12, 13]\n",
        "series = pd.Series(data)\n",
        "print(\"Среднее:\", series.mean())\n",
        "print(\"Медиана:\", series.median())\n",
        "print(\"Мода:\", series.mode()[0])\n",
        "print(\"Дисперсия:\", series.var())\n",
        "print(\"Стандартное отклонение:\", series.std())"
      ]
    },
    {
      "cell_type": "markdown",
      "metadata": {},
      "source": [
        "## 3. Методы выявления выбросов\n",
        "- Выброс — значение, сильно отклоняющееся от остальных данных\n",
        "- Методы: boxplot, z-score, IQR\n",
        "\n",
        "**Пример вычисления выбросов с помощью IQR:**"
      ]
    },
    {
      "cell_type": "code",
      "execution_count": 2,
      "metadata": {},
      "outputs": [
        {
          "name": "stdout",
          "output_type": "stream",
          "text": [
            "Выбросы (IQR): [10, 16]\n"
          ]
        }
      ],
      "source": [
        "import numpy as np\n",
        "data = [10, 12, 12, 13, 12, 14, 16, 12, 13]\n",
        "Q1 = np.percentile(data, 25)\n",
        "Q3 = np.percentile(data, 75)\n",
        "IQR = Q3 - Q1\n",
        "lower_bound = Q1 - 1.5 * IQR\n",
        "upper_bound = Q3 + 1.5 * IQR\n",
        "outliers = [x for x in data if x < lower_bound or x > upper_bound]\n",
        "print(\"Выбросы (IQR):\", outliers)"
      ]
    },
    {
      "cell_type": "markdown",
      "metadata": {},
      "source": [
        "## 4. Работа с пропущенными значениями\n",
        "- Удаление (dropna)\n",
        "- Заполнение (fillna) средним, медианой, константой\n",
        "- Методы ffill и bfill для заполнения вперед и назад\n",
        "\n",
        "**Пример:**"
      ]
    },
    {
      "cell_type": "code",
      "execution_count": 3,
      "metadata": {},
      "outputs": [
        {
          "name": "stdout",
          "output_type": "stream",
          "text": [
            "Оригинал:\n",
            "      A    B\n",
            "0  1.0  5.0\n",
            "1  2.0  NaN\n",
            "2  NaN  NaN\n",
            "3  4.0  8.0\n",
            "Удаление пропусков:\n",
            "      A    B\n",
            "0  1.0  5.0\n",
            "3  4.0  8.0\n",
            "Заполнение средним:\n",
            "           A    B\n",
            "0  1.000000  5.0\n",
            "1  2.000000  6.5\n",
            "2  2.333333  6.5\n",
            "3  4.000000  8.0\n"
          ]
        }
      ],
      "source": [
        "import pandas as pd\n",
        "import numpy as np\n",
        "df = pd.DataFrame({'A': [1, 2, np.nan, 4], 'B': [5, np.nan, np.nan, 8]})\n",
        "df_drop = df.dropna()\n",
        "df_fill = df.fillna(df.mean())\n",
        "print(\"Оригинал:\\n\", df)\n",
        "print(\"Удаление пропусков:\\n\", df_drop)\n",
        "print(\"Заполнение средним:\\n\", df_fill)"
      ]
    },
    {
      "cell_type": "markdown",
      "metadata": {},
      "source": [
        "## 5. Первичная визуализация распределений\n",
        "- Гистограмма\n",
        "- KDE (Kernel Density Estimate)\n",
        "- Boxplot\n",
        "\n",
        "**Пример:**"
      ]
    },
    {
      "cell_type": "code",
      "execution_count": 4,
      "metadata": {},
      "outputs": [
        {
          "data": {
            "image/png": "[encoded data removed]",
            "text/plain": [
              "<Figure size 1500x400 with 3 Axes>"
            ]
          },
          "metadata": {},
          "output_type": "display_data"
        }
      ],
      "source": [
        "import matplotlib.pyplot as plt\n",
        "import seaborn as sns\n",
        "data = [10, 12, 12, 13, 12, 14, 16, 12, 13]\n",
        "plt.figure(figsize=(15,4))\n",
        "plt.subplot(1,3,1)\n",
        "plt.hist(data, bins=5, color='skyblue')\n",
        "plt.title('Гистограмма')\n",
        "plt.subplot(1,3,2)\n",
        "sns.kdeplot(data)\n",
        "plt.title('KDE')\n",
        "plt.subplot(1,3,3)\n",
        "sns.boxplot(data=data)\n",
        "plt.title('Boxplot')\n",
        "plt.show()"
      ]
    },
    {
      "cell_type": "markdown",
      "metadata": {},
      "source": [
        "## 6. Современные библиотеки для EDA\n",
        "- ydata-profiling\n",
        "- Sweetviz\n",
        "\n",
        "**Примеры:**"
      ]
    },
    {
      "cell_type": "code",
      "execution_count": null,
      "id": "a938b089",
      "metadata": {},
      "outputs": [],
      "source": [
        "import sweetviz as sv\n",
        "import pandas as pd\n",
        "\n",
        "df = pd.read_csv('SalesTarget.csv')\n",
        "# Генерация отчёта\n",
        "report = sv.analyze(df)\n",
        "# Для отображения в Jupyter:\n",
        "report.show_notebook()\n",
        "# Или сохранить в HTML-файл:\n",
        "# report.show_html('report.html')"
      ]
    },
    {
      "cell_type": "code",
      "execution_count": null,
      "metadata": {},
      "outputs": [],
      "source": [
        "from ydata_profiling import ProfileReport\n",
        "import pandas as pd\n",
        "# df = pd.read_csv('data.csv')\n",
        "# profile = ProfileReport(df, title=\"Отчет EDA\", explorative=True)\n",
        "# profile.to_notebook_iframe()"
      ]
    },
    {
      "cell_type": "code",
      "execution_count": null,
      "metadata": {},
      "outputs": [],
      "source": [
        "import sweetviz as sv\n",
        "# report = sv.analyze(df)\n",
        "# report.show_notebook()"
      ]
    },
    {
      "cell_type": "markdown",
      "metadata": {},
      "source": [
        "## 7. Классические и новые подходы с примерами\n",
        "- Классика: Pandas + Matplotlib + Seaborn (ручной код)\n",
        "- Новые: ydata-profiling, Sweetviz (автоматические отчеты)\n",
        "\n",
        "**Упрощённо:** Можно делать анализ вручную или использовать готовые инструменты — зависит от задачи и времени."
      ]
    },
    {
      "cell_type": "markdown",
      "metadata": {},
      "source": [
        "# Практические задания\n",
        "1. Загрузите любой датасет (например, titanic.csv). Выведите описательную статистику для числовых столбцов.\n",
        "2. Постройте boxplot для одного числового признака и найдите выбросы с помощью IQR.\n",
        "3. Найдите и обработайте пропущенные значения в датасете, используя удаление и заполнение.\n",
        "4. Визуализируйте распределение одного признака с помощью гистограммы и KDE-графика.\n",
        "5. Создайте автоматический отчет с помощью ydata-profiling или sweetviz и проанализируйте ключевые моменты."
      ]
    }
  ],
  "metadata": {
    "kernelspec": {
      "display_name": "Python 3",
      "language": "python",
      "name": "python3"
    },
    "language_info": {
      "codemirror_mode": {
        "name": "ipython",
        "version": 3
      },
      "file_extension": ".py",
      "mimetype": "text/x-python",
      "name": "python",
      "nbconvert_exporter": "python",
      "pygments_lexer": "ipython3",
      "version": "3.13.5"
    }
  },
  "nbformat": 4,
  "nbformat_minor": 5
}
