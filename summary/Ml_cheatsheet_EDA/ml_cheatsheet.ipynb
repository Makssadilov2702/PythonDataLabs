{
  "cells": [
    {
      "cell_type": "markdown",
      "metadata": {
        "id": "WSTkG47HDYHk"
      },
      "source": [
        "# 📘 Практический конспект по машинному обучению\n",
        "\n",
        "Автор: [Ваше имя]\n",
        "\n",
        "Этот Jupyter Notebook — ваш **рабочий инструмент** для быстрого доступа к:\n",
        "- Основным алгоритмам ML\n",
        "- Метрикам качества\n",
        "- Настройке гиперпараметров\n",
        "- Сравнению моделей\n",
        "\n",
        "Все примеры работают с `sklearn`, `xgboost`, `catboost`, `lightgbm`.\n",
        "\n",
        "📌 **Цель**: иметь под рукой готовые шаблоны кода, которые можно копировать и адаптировать.\n",
        "\n",
        "---"
      ]
    },
    {
      "cell_type": "code",
      "execution_count": 1,
      "metadata": {
        "id": "nXh4J7qSDYHm"
      },
      "outputs": [
        {
          "name": "stderr",
          "output_type": "stream",
          "text": [
            "\n",
            "[notice] A new release of pip is available: 25.1.1 -> 25.2\n",
            "[notice] To update, run: python.exe -m pip install --upgrade pip\n"
          ]
        }
      ],
      "source": [
        "# === Установка библиотек (если нужно) ===\n",
        "!pip install -q catboost lightgbm xgboost"
      ]
    },
    {
      "cell_type": "code",
      "execution_count": 2,
      "metadata": {
        "id": "i2t0fg5SDYHm"
      },
      "outputs": [],
      "source": [
        "# === Импорты ===\n",
        "import numpy as np\n",
        "import pandas as pd\n",
        "import matplotlib.pyplot as plt\n",
        "import seaborn as sns\n",
        "\n",
        "from sklearn.datasets import load_diabetes, load_breast_cancer\n",
        "from sklearn.model_selection import (\n",
        "    train_test_split, GridSearchCV, RandomizedSearchCV,\n",
        "    KFold, StratifiedKFold, cross_val_score\n",
        ")\n",
        "from sklearn.preprocessing import StandardScaler\n",
        "from sklearn.metrics import (\n",
        "    mean_squared_error, mean_absolute_error, r2_score,\n",
        "    accuracy_score, precision_score, recall_score, f1_score, roc_auc_score\n",
        ")\n",
        "\n",
        "# Модели\n",
        "from sklearn.linear_model import LinearRegression, LogisticRegression\n",
        "from sklearn.tree import DecisionTreeRegressor\n",
        "from sklearn.ensemble import RandomForestRegressor, GradientBoostingRegressor\n",
        "from xgboost import XGBRegressor\n",
        "from catboost import CatBoostRegressor\n",
        "import lightgbm as lgb\n",
        "from sklearn.svm import SVR\n",
        "from sklearn.neighbors import KNeighborsRegressor\n",
        "\n",
        "%matplotlib inline\n",
        "plt.style.use('seaborn-v0_8')"
      ]
    },
    {
      "cell_type": "markdown",
      "metadata": {
        "id": "JGwro_8oDYHn"
      },
      "source": [
        "## 📥 Данные\n",
        "\n",
        "Используем:\n",
        "- `diabetes` — для задачи **регрессии** (прогрессирование диабета)\n",
        "- `breast_cancer` — для **классификации** (доброкачественный/злокачественный)\n",
        "\n",
        "Разделение: 80% обучение, 20% тест. Фиксируем `random_state=42` для воспроизводимости."
      ]
    },
    {
      "cell_type": "code",
      "execution_count": 3,
      "metadata": {
        "id": "R3NDJxavDYHn"
      },
      "outputs": [],
      "source": [
        "# Загрузка данных\n",
        "diabetes = load_diabetes()\n",
        "X_reg, y_reg = diabetes.data, diabetes.target\n",
        "\n",
        "cancer = load_breast_cancer()\n",
        "X_cls, y_cls = cancer.data, cancer.target\n",
        "\n",
        "# Разделение\n",
        "X_train_reg, X_test_reg, y_train_reg, y_test_reg = train_test_split(\n",
        "    X_reg, y_reg, test_size=0.2, random_state=42\n",
        ")\n",
        "X_train_cls, X_test_cls, y_train_cls, y_test_cls = train_test_split(\n",
        "    X_cls, y_cls, test_size=0.2, random_state=42\n",
        ")"
      ]
    },
    {
      "cell_type": "markdown",
      "metadata": {
        "id": "19M04NnIDYHn"
      },
      "source": [
        "## 🧠 Основные алгоритмы машинного обучения\n",
        "\n",
        "Кратко о каждом алгоритме: математика, ключевые параметры, когда использовать."
      ]
    },
    {
      "cell_type": "markdown",
      "metadata": {
        "id": "UKvnVKRqDYHn"
      },
      "source": [
        "### 1. Линейная регрессия\n",
        "\n",
        "**Математика**: $ y = w_0 + w_1 x_1 + \\dots + w_n x_n $. Коэффициенты находятся методом наименьших квадратов.\n",
        "\n",
        "**Параметры**:\n",
        "- Нет гиперпараметров (в базовой версии)\n",
        "- Чувствителен к масштабу\n",
        "\n",
        "**Когда использовать**: Когда зависимость линейная, данные чистые, нужна интерпретируемость."
      ]
    },
    {
      "cell_type": "code",
      "execution_count": 4,
      "metadata": {
        "id": "7QY61ulCDYHn"
      },
      "outputs": [
        {
          "name": "stdout",
          "output_type": "stream",
          "text": [
            "R²: 0.453\n"
          ]
        }
      ],
      "source": [
        "model = LinearRegression()\n",
        "model.fit(X_train_reg, y_train_reg)\n",
        "y_pred = model.predict(X_test_reg)\n",
        "\n",
        "print(\"R²:\", round(r2_score(y_test_reg, y_pred), 3))"
      ]
    },
    {
      "cell_type": "markdown",
      "metadata": {
        "id": "5kCwKJoKDYHo"
      },
      "source": [
        "### 2. Логистическая регрессия\n",
        "\n",
        "**Математика**: $ P(y=1) = \\frac{1}{1 + e^{-(w_0 + w_1 x_1 + \\dots)}} $. Оптимизирует лог. правдоподобие.\n",
        "\n",
        "**Параметры**:\n",
        "- `C` — сила регуляризации (меньше = сильнее)\n",
        "- `penalty` — 'l1', 'l2', 'elasticnet'\n",
        "\n",
        "**Когда использовать**: Для бинарной классификации, когда нужны вероятности и интерпретация."
      ]
    },
    {
      "cell_type": "code",
      "execution_count": 5,
      "metadata": {
        "id": "S8KiFrSsDYHo"
      },
      "outputs": [
        {
          "name": "stdout",
          "output_type": "stream",
          "text": [
            "Accuracy: 0.956\n"
          ]
        },
        {
          "name": "stderr",
          "output_type": "stream",
          "text": [
            "c:\\Users\\maksi\\AppData\\Local\\Programs\\Python\\Python313\\Lib\\site-packages\\sklearn\\linear_model\\_logistic.py:473: ConvergenceWarning: lbfgs failed to converge after 1000 iteration(s) (status=1):\n",
            "STOP: TOTAL NO. OF ITERATIONS REACHED LIMIT\n",
            "\n",
            "Increase the number of iterations to improve the convergence (max_iter=1000).\n",
            "You might also want to scale the data as shown in:\n",
            "    https://scikit-learn.org/stable/modules/preprocessing.html\n",
            "Please also refer to the documentation for alternative solver options:\n",
            "    https://scikit-learn.org/stable/modules/linear_model.html#logistic-regression\n",
            "  n_iter_i = _check_optimize_result(\n"
          ]
        }
      ],
      "source": [
        "model = LogisticRegression(C=1.0, penalty='l2', max_iter=1000, random_state=42)\n",
        "model.fit(X_train_cls, y_train_cls)\n",
        "y_pred = model.predict(X_test_cls)\n",
        "\n",
        "print(\"Accuracy:\", round(accuracy_score(y_test_cls, y_pred), 3))"
      ]
    },
    {
      "cell_type": "markdown",
      "metadata": {
        "id": "pgXqULJHDYHo"
      },
      "source": [
        "### 3. Decision Tree\n",
        "\n",
        "**Математика**: Рекурсивно делит данные по признакам, минимизируя неоднородность (MSE для регрессии).\n",
        "\n",
        "**Параметры**:\n",
        "- `max_depth` — глубина дерева\n",
        "- `min_samples_split` — минимум объектов для разбиения\n",
        "- `min_samples_leaf` — минимум в листе\n",
        "\n",
        "**Когда использовать**: Когда нужна интерпретируемость, есть нелинейности, выбросы."
      ]
    },
    {
      "cell_type": "code",
      "execution_count": 6,
      "metadata": {
        "id": "wrR676j9DYHo"
      },
      "outputs": [
        {
          "name": "stdout",
          "output_type": "stream",
          "text": [
            "R²: 0.352\n"
          ]
        }
      ],
      "source": [
        "model = DecisionTreeRegressor(max_depth=5, min_samples_split=10, random_state=42)\n",
        "model.fit(X_train_reg, y_train_reg)\n",
        "y_pred = model.predict(X_test_reg)\n",
        "\n",
        "print(\"R²:\", round(r2_score(y_test_reg, y_pred), 3))"
      ]
    },
    {
      "cell_type": "markdown",
      "metadata": {
        "id": "eza85-ooDYHo"
      },
      "source": [
        "### 4. Random Forest\n",
        "\n",
        "**Математика**: Ансамбль деревьев, обученных на случайных подвыборках. Итог — усреднение.\n",
        "\n",
        "**Параметры**:\n",
        "- `n_estimators` — число деревьев\n",
        "- `max_features` — сколько признаков учитывать при разбиении\n",
        "\n",
        "**Когда использовать**: Универсальный алгоритм, хорошо работает «из коробки»."
      ]
    },
    {
      "cell_type": "code",
      "execution_count": 7,
      "metadata": {
        "id": "GkhaN6I0DYHo"
      },
      "outputs": [
        {
          "name": "stdout",
          "output_type": "stream",
          "text": [
            "R²: 0.445\n"
          ]
        }
      ],
      "source": [
        "model = RandomForestRegressor(n_estimators=100, max_depth=7, random_state=42)\n",
        "model.fit(X_train_reg, y_train_reg)\n",
        "y_pred = model.predict(X_test_reg)\n",
        "\n",
        "print(\"R²:\", round(r2_score(y_test_reg, y_pred), 3))"
      ]
    },
    {
      "cell_type": "markdown",
      "metadata": {
        "id": "gxFeZHinDYHo"
      },
      "source": [
        "### 5. Gradient Boosting (sklearn)\n",
        "\n",
        "**Математика**: Деревья строятся последовательно, каждое исправляет ошибки предыдущего.\n",
        "\n",
        "**Параметры**:\n",
        "- `n_estimators`\n",
        "- `learning_rate`\n",
        "- `max_depth`\n",
        "\n",
        "**Когда использовать**: Когда нужна высокая точность и можно потратить время на настройку."
      ]
    },
    {
      "cell_type": "code",
      "execution_count": 8,
      "metadata": {
        "id": "qXhn6SUgDYHp"
      },
      "outputs": [
        {
          "name": "stdout",
          "output_type": "stream",
          "text": [
            "R²: 0.453\n"
          ]
        }
      ],
      "source": [
        "model = GradientBoostingRegressor(n_estimators=100, learning_rate=0.1, max_depth=3, random_state=42)\n",
        "model.fit(X_train_reg, y_train_reg)\n",
        "y_pred = model.predict(X_test_reg)\n",
        "\n",
        "print(\"R²:\", round(r2_score(y_test_reg, y_pred), 3))"
      ]
    },
    {
      "cell_type": "markdown",
      "metadata": {
        "id": "IrAhE0HcDYHp"
      },
      "source": [
        "### 6. XGBoost\n",
        "\n",
        "**Особенности**: Быстрый, регуляризованный, поддерживает параллелизм.\n",
        "\n",
        "**Параметры**:\n",
        "- `reg_alpha`, `reg_lambda` — L1/L2 регуляризация\n",
        "- `subsample`, `colsample_bytree` — доля данных и признаков\n",
        "\n",
        "**Когда использовать**: Когда нужна максимальная точность и скорость."
      ]
    },
    {
      "cell_type": "code",
      "execution_count": 9,
      "metadata": {
        "id": "934m2a6xDYHp"
      },
      "outputs": [
        {
          "name": "stdout",
          "output_type": "stream",
          "text": [
            "R²: 0.441\n"
          ]
        }
      ],
      "source": [
        "model = XGBRegressor(n_estimators=100, learning_rate=0.1, max_depth=3, random_state=42)\n",
        "model.fit(X_train_reg, y_train_reg)\n",
        "y_pred = model.predict(X_test_reg)\n",
        "\n",
        "print(\"R²:\", round(r2_score(y_test_reg, y_pred), 3))"
      ]
    },
    {
      "cell_type": "markdown",
      "metadata": {
        "id": "ovunqLfPDYHp"
      },
      "source": [
        "### 7. CatBoost\n",
        "\n",
        "**Особенности**: Устойчив к категориальным признакам, не требует предобработки.\n",
        "\n",
        "**Параметры**:\n",
        "- `iterations` — число деревьев\n",
        "- `l2_leaf_reg` — аналог регуляризации\n",
        "\n",
        "**Когда использовать**: Если есть категориальные признаки или нужно меньше предобработки."
      ]
    },
    {
      "cell_type": "code",
      "execution_count": 10,
      "metadata": {
        "id": "4r3mpMABDYHp"
      },
      "outputs": [
        {
          "name": "stdout",
          "output_type": "stream",
          "text": [
            "R²: 0.488\n"
          ]
        }
      ],
      "source": [
        "model = CatBoostRegressor(iterations=100, learning_rate=0.1, depth=3, verbose=0, random_state=42)\n",
        "model.fit(X_train_reg, y_train_reg, verbose=False)\n",
        "y_pred = model.predict(X_test_reg)\n",
        "\n",
        "print(\"R²:\", round(r2_score(y_test_reg, y_pred), 3))"
      ]
    },
    {
      "cell_type": "markdown",
      "metadata": {
        "id": "lhQAVH15DYHp"
      },
      "source": [
        "### 8. LightGBM\n",
        "\n",
        "**Особенности**: Очень быстро, использует leaf-wise рост деревьев.\n",
        "\n",
        "**Параметры**:\n",
        "- `num_leaves` — число листьев (важнее, чем `max_depth`)\n",
        "- `min_data_in_leaf` — устойчивость к шуму\n",
        "\n",
        "**Когда использовать**: Когда важна скорость и работа с большими данными."
      ]
    },
    {
      "cell_type": "code",
      "execution_count": 11,
      "metadata": {
        "id": "6syRh0bwDYHp"
      },
      "outputs": [
        {
          "name": "stdout",
          "output_type": "stream",
          "text": [
            "[LightGBM] [Info] Auto-choosing col-wise multi-threading, the overhead of testing was 0.000135 seconds.\n",
            "You can set `force_col_wise=true` to remove the overhead.\n",
            "[LightGBM] [Info] Total Bins 595\n",
            "[LightGBM] [Info] Number of data points in the train set: 353, number of used features: 10\n",
            "[LightGBM] [Info] Start training from score 153.736544\n",
            "[LightGBM] [Warning] No further splits with positive gain, best gain: -inf\n",
            "[LightGBM] [Warning] No further splits with positive gain, best gain: -inf\n",
            "[LightGBM] [Warning] No further splits with positive gain, best gain: -inf\n",
            "[LightGBM] [Warning] No further splits with positive gain, best gain: -inf\n",
            "[LightGBM] [Warning] No further splits with positive gain, best gain: -inf\n",
            "[LightGBM] [Warning] No further splits with positive gain, best gain: -inf\n",
            "[LightGBM] [Warning] No further splits with positive gain, best gain: -inf\n",
            "[LightGBM] [Warning] No further splits with positive gain, best gain: -inf\n",
            "[LightGBM] [Warning] No further splits with positive gain, best gain: -inf\n",
            "[LightGBM] [Warning] No further splits with positive gain, best gain: -inf\n",
            "[LightGBM] [Warning] No further splits with positive gain, best gain: -inf\n",
            "[LightGBM] [Warning] No further splits with positive gain, best gain: -inf\n",
            "[LightGBM] [Warning] No further splits with positive gain, best gain: -inf\n",
            "[LightGBM] [Warning] No further splits with positive gain, best gain: -inf\n",
            "[LightGBM] [Warning] No further splits with positive gain, best gain: -inf\n",
            "[LightGBM] [Warning] No further splits with positive gain, best gain: -inf\n",
            "[LightGBM] [Warning] No further splits with positive gain, best gain: -inf\n",
            "[LightGBM] [Warning] No further splits with positive gain, best gain: -inf\n",
            "[LightGBM] [Warning] No further splits with positive gain, best gain: -inf\n",
            "[LightGBM] [Warning] No further splits with positive gain, best gain: -inf\n",
            "[LightGBM] [Warning] No further splits with positive gain, best gain: -inf\n",
            "[LightGBM] [Warning] No further splits with positive gain, best gain: -inf\n",
            "[LightGBM] [Warning] No further splits with positive gain, best gain: -inf\n",
            "[LightGBM] [Warning] No further splits with positive gain, best gain: -inf\n",
            "[LightGBM] [Warning] No further splits with positive gain, best gain: -inf\n",
            "[LightGBM] [Warning] No further splits with positive gain, best gain: -inf\n",
            "[LightGBM] [Warning] No further splits with positive gain, best gain: -inf\n",
            "[LightGBM] [Warning] No further splits with positive gain, best gain: -inf\n",
            "[LightGBM] [Warning] No further splits with positive gain, best gain: -inf\n",
            "[LightGBM] [Warning] No further splits with positive gain, best gain: -inf\n",
            "[LightGBM] [Warning] No further splits with positive gain, best gain: -inf\n",
            "[LightGBM] [Warning] No further splits with positive gain, best gain: -inf\n",
            "[LightGBM] [Warning] No further splits with positive gain, best gain: -inf\n",
            "[LightGBM] [Warning] No further splits with positive gain, best gain: -inf\n",
            "[LightGBM] [Warning] No further splits with positive gain, best gain: -inf\n",
            "[LightGBM] [Warning] No further splits with positive gain, best gain: -inf\n",
            "[LightGBM] [Warning] No further splits with positive gain, best gain: -inf\n",
            "[LightGBM] [Warning] No further splits with positive gain, best gain: -inf\n",
            "[LightGBM] [Warning] No further splits with positive gain, best gain: -inf\n",
            "[LightGBM] [Warning] No further splits with positive gain, best gain: -inf\n",
            "[LightGBM] [Warning] No further splits with positive gain, best gain: -inf\n",
            "[LightGBM] [Warning] No further splits with positive gain, best gain: -inf\n",
            "[LightGBM] [Warning] No further splits with positive gain, best gain: -inf\n",
            "[LightGBM] [Warning] No further splits with positive gain, best gain: -inf\n",
            "[LightGBM] [Warning] No further splits with positive gain, best gain: -inf\n",
            "[LightGBM] [Warning] No further splits with positive gain, best gain: -inf\n",
            "[LightGBM] [Warning] No further splits with positive gain, best gain: -inf\n",
            "[LightGBM] [Warning] No further splits with positive gain, best gain: -inf\n",
            "[LightGBM] [Warning] No further splits with positive gain, best gain: -inf\n",
            "[LightGBM] [Warning] No further splits with positive gain, best gain: -inf\n",
            "[LightGBM] [Warning] No further splits with positive gain, best gain: -inf\n",
            "[LightGBM] [Warning] No further splits with positive gain, best gain: -inf\n",
            "[LightGBM] [Warning] No further splits with positive gain, best gain: -inf\n",
            "[LightGBM] [Warning] No further splits with positive gain, best gain: -inf\n",
            "[LightGBM] [Warning] No further splits with positive gain, best gain: -inf\n",
            "[LightGBM] [Warning] No further splits with positive gain, best gain: -inf\n",
            "[LightGBM] [Warning] No further splits with positive gain, best gain: -inf\n",
            "[LightGBM] [Warning] No further splits with positive gain, best gain: -inf\n",
            "[LightGBM] [Warning] No further splits with positive gain, best gain: -inf\n",
            "[LightGBM] [Warning] No further splits with positive gain, best gain: -inf\n",
            "[LightGBM] [Warning] No further splits with positive gain, best gain: -inf\n",
            "[LightGBM] [Warning] No further splits with positive gain, best gain: -inf\n",
            "[LightGBM] [Warning] No further splits with positive gain, best gain: -inf\n",
            "[LightGBM] [Warning] No further splits with positive gain, best gain: -inf\n",
            "[LightGBM] [Warning] No further splits with positive gain, best gain: -inf\n",
            "[LightGBM] [Warning] No further splits with positive gain, best gain: -inf\n",
            "[LightGBM] [Warning] No further splits with positive gain, best gain: -inf\n",
            "[LightGBM] [Warning] No further splits with positive gain, best gain: -inf\n",
            "[LightGBM] [Warning] No further splits with positive gain, best gain: -inf\n",
            "[LightGBM] [Warning] No further splits with positive gain, best gain: -inf\n",
            "[LightGBM] [Warning] No further splits with positive gain, best gain: -inf\n",
            "[LightGBM] [Warning] No further splits with positive gain, best gain: -inf\n",
            "[LightGBM] [Warning] No further splits with positive gain, best gain: -inf\n",
            "[LightGBM] [Warning] No further splits with positive gain, best gain: -inf\n",
            "[LightGBM] [Warning] No further splits with positive gain, best gain: -inf\n",
            "[LightGBM] [Warning] No further splits with positive gain, best gain: -inf\n",
            "[LightGBM] [Warning] No further splits with positive gain, best gain: -inf\n",
            "[LightGBM] [Warning] No further splits with positive gain, best gain: -inf\n",
            "[LightGBM] [Warning] No further splits with positive gain, best gain: -inf\n",
            "[LightGBM] [Warning] No further splits with positive gain, best gain: -inf\n",
            "[LightGBM] [Warning] No further splits with positive gain, best gain: -inf\n",
            "[LightGBM] [Warning] No further splits with positive gain, best gain: -inf\n",
            "[LightGBM] [Warning] No further splits with positive gain, best gain: -inf\n",
            "[LightGBM] [Warning] No further splits with positive gain, best gain: -inf\n",
            "[LightGBM] [Warning] No further splits with positive gain, best gain: -inf\n",
            "[LightGBM] [Warning] No further splits with positive gain, best gain: -inf\n",
            "[LightGBM] [Warning] No further splits with positive gain, best gain: -inf\n",
            "[LightGBM] [Warning] No further splits with positive gain, best gain: -inf\n",
            "[LightGBM] [Warning] No further splits with positive gain, best gain: -inf\n",
            "[LightGBM] [Warning] No further splits with positive gain, best gain: -inf\n",
            "[LightGBM] [Warning] No further splits with positive gain, best gain: -inf\n",
            "[LightGBM] [Warning] No further splits with positive gain, best gain: -inf\n",
            "[LightGBM] [Warning] No further splits with positive gain, best gain: -inf\n",
            "[LightGBM] [Warning] No further splits with positive gain, best gain: -inf\n",
            "[LightGBM] [Warning] No further splits with positive gain, best gain: -inf\n",
            "[LightGBM] [Warning] No further splits with positive gain, best gain: -inf\n",
            "[LightGBM] [Warning] No further splits with positive gain, best gain: -inf\n",
            "[LightGBM] [Warning] No further splits with positive gain, best gain: -inf\n",
            "[LightGBM] [Warning] No further splits with positive gain, best gain: -inf\n",
            "[LightGBM] [Warning] No further splits with positive gain, best gain: -inf\n",
            "R²: 0.466\n"
          ]
        },
        {
          "name": "stderr",
          "output_type": "stream",
          "text": [
            "c:\\Users\\maksi\\AppData\\Local\\Programs\\Python\\Python313\\Lib\\site-packages\\sklearn\\utils\\validation.py:2749: UserWarning: X does not have valid feature names, but LGBMRegressor was fitted with feature names\n",
            "  warnings.warn(\n"
          ]
        }
      ],
      "source": [
        "model = lgb.LGBMRegressor(n_estimators=100, learning_rate=0.1, max_depth=3, random_state=42)\n",
        "model.fit(X_train_reg, y_train_reg)\n",
        "y_pred = model.predict(X_test_reg)\n",
        "\n",
        "print(\"R²:\", round(r2_score(y_test_reg, y_pred), 3))"
      ]
    },
    {
      "cell_type": "markdown",
      "metadata": {
        "id": "o1fYSbYcDYHp"
      },
      "source": [
        "### 9. SVM\n",
        "\n",
        "**Математика**: Находит разделяющую гиперплоскость с максимальным зазором.\n",
        "\n",
        "**Параметры**:\n",
        "- `C` — штраф за нарушение зазора\n",
        "- `gamma` — масштаб ядра (RBF)\n",
        "\n",
        "**Когда использовать**: Когда данные хорошо разделимы, или нужно ядро для нелинейности."
      ]
    },
    {
      "cell_type": "code",
      "execution_count": 12,
      "metadata": {
        "id": "o7Luxd3tDYHq"
      },
      "outputs": [
        {
          "name": "stdout",
          "output_type": "stream",
          "text": [
            "R²: 0.182\n"
          ]
        }
      ],
      "source": [
        "scaler = StandardScaler()\n",
        "X_train_scaled = scaler.fit_transform(X_train_reg)\n",
        "X_test_scaled = scaler.transform(X_test_reg)\n",
        "\n",
        "model = SVR(C=1.0, kernel='rbf', gamma='scale')\n",
        "model.fit(X_train_scaled, y_train_reg)\n",
        "y_pred = model.predict(X_test_scaled)\n",
        "\n",
        "print(\"R²:\", round(r2_score(y_test_reg, y_pred), 3))"
      ]
    },
    {
      "cell_type": "markdown",
      "metadata": {
        "id": "G510T3m1DYHq"
      },
      "source": [
        "### 10. k-NN\n",
        "\n",
        "**Математика**: Предсказывает по среднему k ближайших соседей.\n",
        "\n",
        "**Параметры**:\n",
        "- `n_neighbors` — число соседей\n",
        "- `weights` — 'uniform' или 'distance'\n",
        "\n",
        "**Когда использовать**: Когда данные локально гладкие, и размер выборки невелик."
      ]
    },
    {
      "cell_type": "code",
      "execution_count": 13,
      "metadata": {
        "id": "xl_oaVHiDYHq"
      },
      "outputs": [
        {
          "name": "stdout",
          "output_type": "stream",
          "text": [
            "R²: 0.425\n"
          ]
        }
      ],
      "source": [
        "model = KNeighborsRegressor(n_neighbors=5, weights='uniform')\n",
        "model.fit(X_train_scaled, y_train_reg)\n",
        "y_pred = model.predict(X_test_scaled)\n",
        "\n",
        "print(\"R²:\", round(r2_score(y_test_reg, y_pred), 3))"
      ]
    },
    {
      "cell_type": "markdown",
      "metadata": {
        "id": "hN9Ad0zKDYHq"
      },
      "source": [
        "## 📊 Сравнение моделей\n",
        "\n",
        "Сравним 5 моделей на задаче регрессии. Все обучены на одинаковом разбиении."
      ]
    },
    {
      "cell_type": "code",
      "execution_count": 14,
      "metadata": {
        "id": "INH4NMjCDYHq"
      },
      "outputs": [
        {
          "name": "stdout",
          "output_type": "stream",
          "text": [
            "[LightGBM] [Info] Auto-choosing col-wise multi-threading, the overhead of testing was 0.000071 seconds.\n",
            "You can set `force_col_wise=true` to remove the overhead.\n",
            "[LightGBM] [Info] Total Bins 595\n",
            "[LightGBM] [Info] Number of data points in the train set: 353, number of used features: 10\n",
            "[LightGBM] [Info] Start training from score 153.736544\n",
            "[LightGBM] [Warning] No further splits with positive gain, best gain: -inf\n",
            "[LightGBM] [Warning] No further splits with positive gain, best gain: -inf\n",
            "[LightGBM] [Warning] No further splits with positive gain, best gain: -inf\n",
            "[LightGBM] [Warning] No further splits with positive gain, best gain: -inf\n",
            "[LightGBM] [Warning] No further splits with positive gain, best gain: -inf\n",
            "[LightGBM] [Warning] No further splits with positive gain, best gain: -inf\n",
            "[LightGBM] [Warning] No further splits with positive gain, best gain: -inf\n",
            "[LightGBM] [Warning] No further splits with positive gain, best gain: -inf\n",
            "[LightGBM] [Warning] No further splits with positive gain, best gain: -inf\n",
            "[LightGBM] [Warning] No further splits with positive gain, best gain: -inf\n",
            "[LightGBM] [Warning] No further splits with positive gain, best gain: -inf\n",
            "[LightGBM] [Warning] No further splits with positive gain, best gain: -inf\n",
            "[LightGBM] [Warning] No further splits with positive gain, best gain: -inf\n",
            "[LightGBM] [Warning] No further splits with positive gain, best gain: -inf\n",
            "[LightGBM] [Warning] No further splits with positive gain, best gain: -inf\n",
            "[LightGBM] [Warning] No further splits with positive gain, best gain: -inf\n",
            "[LightGBM] [Warning] No further splits with positive gain, best gain: -inf\n",
            "[LightGBM] [Warning] No further splits with positive gain, best gain: -inf\n",
            "[LightGBM] [Warning] No further splits with positive gain, best gain: -inf\n",
            "[LightGBM] [Warning] No further splits with positive gain, best gain: -inf\n",
            "[LightGBM] [Warning] No further splits with positive gain, best gain: -inf\n",
            "[LightGBM] [Warning] No further splits with positive gain, best gain: -inf\n",
            "[LightGBM] [Warning] No further splits with positive gain, best gain: -inf\n",
            "[LightGBM] [Warning] No further splits with positive gain, best gain: -inf\n",
            "[LightGBM] [Warning] No further splits with positive gain, best gain: -inf\n",
            "[LightGBM] [Warning] No further splits with positive gain, best gain: -inf\n",
            "[LightGBM] [Warning] No further splits with positive gain, best gain: -inf\n",
            "[LightGBM] [Warning] No further splits with positive gain, best gain: -inf\n",
            "[LightGBM] [Warning] No further splits with positive gain, best gain: -inf\n",
            "[LightGBM] [Warning] No further splits with positive gain, best gain: -inf\n",
            "[LightGBM] [Warning] No further splits with positive gain, best gain: -inf\n",
            "[LightGBM] [Warning] No further splits with positive gain, best gain: -inf\n",
            "[LightGBM] [Warning] No further splits with positive gain, best gain: -inf\n",
            "[LightGBM] [Warning] No further splits with positive gain, best gain: -inf\n",
            "[LightGBM] [Warning] No further splits with positive gain, best gain: -inf\n",
            "[LightGBM] [Warning] No further splits with positive gain, best gain: -inf\n",
            "[LightGBM] [Warning] No further splits with positive gain, best gain: -inf\n",
            "[LightGBM] [Warning] No further splits with positive gain, best gain: -inf\n",
            "[LightGBM] [Warning] No further splits with positive gain, best gain: -inf\n",
            "[LightGBM] [Warning] No further splits with positive gain, best gain: -inf\n",
            "[LightGBM] [Warning] No further splits with positive gain, best gain: -inf\n",
            "[LightGBM] [Warning] No further splits with positive gain, best gain: -inf\n",
            "[LightGBM] [Warning] No further splits with positive gain, best gain: -inf\n",
            "[LightGBM] [Warning] No further splits with positive gain, best gain: -inf\n",
            "[LightGBM] [Warning] No further splits with positive gain, best gain: -inf\n",
            "[LightGBM] [Warning] No further splits with positive gain, best gain: -inf\n",
            "[LightGBM] [Warning] No further splits with positive gain, best gain: -inf\n",
            "[LightGBM] [Warning] No further splits with positive gain, best gain: -inf\n",
            "[LightGBM] [Warning] No further splits with positive gain, best gain: -inf\n",
            "[LightGBM] [Warning] No further splits with positive gain, best gain: -inf\n",
            "[LightGBM] [Warning] No further splits with positive gain, best gain: -inf\n",
            "[LightGBM] [Warning] No further splits with positive gain, best gain: -inf\n",
            "[LightGBM] [Warning] No further splits with positive gain, best gain: -inf\n",
            "[LightGBM] [Warning] No further splits with positive gain, best gain: -inf\n",
            "[LightGBM] [Warning] No further splits with positive gain, best gain: -inf\n",
            "[LightGBM] [Warning] No further splits with positive gain, best gain: -inf\n",
            "[LightGBM] [Warning] No further splits with positive gain, best gain: -inf\n",
            "[LightGBM] [Warning] No further splits with positive gain, best gain: -inf\n",
            "[LightGBM] [Warning] No further splits with positive gain, best gain: -inf\n",
            "[LightGBM] [Warning] No further splits with positive gain, best gain: -inf\n",
            "[LightGBM] [Warning] No further splits with positive gain, best gain: -inf\n",
            "[LightGBM] [Warning] No further splits with positive gain, best gain: -inf\n",
            "[LightGBM] [Warning] No further splits with positive gain, best gain: -inf\n",
            "[LightGBM] [Warning] No further splits with positive gain, best gain: -inf\n",
            "[LightGBM] [Warning] No further splits with positive gain, best gain: -inf\n",
            "[LightGBM] [Warning] No further splits with positive gain, best gain: -inf\n",
            "[LightGBM] [Warning] No further splits with positive gain, best gain: -inf\n",
            "[LightGBM] [Warning] No further splits with positive gain, best gain: -inf\n",
            "[LightGBM] [Warning] No further splits with positive gain, best gain: -inf\n",
            "[LightGBM] [Warning] No further splits with positive gain, best gain: -inf\n",
            "[LightGBM] [Warning] No further splits with positive gain, best gain: -inf\n",
            "[LightGBM] [Warning] No further splits with positive gain, best gain: -inf\n",
            "[LightGBM] [Warning] No further splits with positive gain, best gain: -inf\n",
            "[LightGBM] [Warning] No further splits with positive gain, best gain: -inf\n",
            "[LightGBM] [Warning] No further splits with positive gain, best gain: -inf\n",
            "[LightGBM] [Warning] No further splits with positive gain, best gain: -inf\n",
            "[LightGBM] [Warning] No further splits with positive gain, best gain: -inf\n",
            "[LightGBM] [Warning] No further splits with positive gain, best gain: -inf\n",
            "[LightGBM] [Warning] No further splits with positive gain, best gain: -inf\n",
            "[LightGBM] [Warning] No further splits with positive gain, best gain: -inf\n",
            "[LightGBM] [Warning] No further splits with positive gain, best gain: -inf\n",
            "[LightGBM] [Warning] No further splits with positive gain, best gain: -inf\n",
            "[LightGBM] [Warning] No further splits with positive gain, best gain: -inf\n",
            "[LightGBM] [Warning] No further splits with positive gain, best gain: -inf\n",
            "[LightGBM] [Warning] No further splits with positive gain, best gain: -inf\n",
            "[LightGBM] [Warning] No further splits with positive gain, best gain: -inf\n",
            "[LightGBM] [Warning] No further splits with positive gain, best gain: -inf\n",
            "[LightGBM] [Warning] No further splits with positive gain, best gain: -inf\n",
            "[LightGBM] [Warning] No further splits with positive gain, best gain: -inf\n",
            "[LightGBM] [Warning] No further splits with positive gain, best gain: -inf\n",
            "[LightGBM] [Warning] No further splits with positive gain, best gain: -inf\n",
            "[LightGBM] [Warning] No further splits with positive gain, best gain: -inf\n",
            "[LightGBM] [Warning] No further splits with positive gain, best gain: -inf\n",
            "[LightGBM] [Warning] No further splits with positive gain, best gain: -inf\n",
            "[LightGBM] [Warning] No further splits with positive gain, best gain: -inf\n",
            "[LightGBM] [Warning] No further splits with positive gain, best gain: -inf\n",
            "[LightGBM] [Warning] No further splits with positive gain, best gain: -inf\n",
            "[LightGBM] [Warning] No further splits with positive gain, best gain: -inf\n",
            "[LightGBM] [Warning] No further splits with positive gain, best gain: -inf\n",
            "[LightGBM] [Warning] No further splits with positive gain, best gain: -inf\n",
            "Модель   R²      RMSE   \n",
            "-------------------------\n",
            "Linear   0.453   53.85  \n",
            "RF       0.443   54.33  \n",
            "GB       0.453   53.84  \n",
            "XGB      0.359   58.25  \n",
            "LGBM     0.395   56.6   \n"
          ]
        },
        {
          "name": "stderr",
          "output_type": "stream",
          "text": [
            "c:\\Users\\maksi\\AppData\\Local\\Programs\\Python\\Python313\\Lib\\site-packages\\sklearn\\utils\\validation.py:2749: UserWarning: X does not have valid feature names, but LGBMRegressor was fitted with feature names\n",
            "  warnings.warn(\n"
          ]
        }
      ],
      "source": [
        "models = {\n",
        "    \"Linear\": LinearRegression(),\n",
        "    \"RF\": RandomForestRegressor(n_estimators=100, random_state=42),\n",
        "    \"GB\": GradientBoostingRegressor(n_estimators=100, random_state=42),\n",
        "    \"XGB\": XGBRegressor(n_estimators=100, learning_rate=0.1, random_state=42),\n",
        "    \"LGBM\": lgb.LGBMRegressor(n_estimators=100, learning_rate=0.1, random_state=42)\n",
        "}\n",
        "\n",
        "results = {}\n",
        "for name, model in models.items():\n",
        "    model.fit(X_train_reg, y_train_reg)\n",
        "    y_pred = model.predict(X_test_reg)\n",
        "    r2 = round(r2_score(y_test_reg, y_pred), 3)\n",
        "    rmse = np.sqrt(mean_squared_error(y_test_reg, y_pred))\n",
        "    results[name] = {\"R²\": r2, \"RMSE\": round(rmse, 2)}\n",
        "\n",
        "# Вывод таблицы\n",
        "print(f\"{'Модель':<8} {'R²':<7} {'RMSE':<7}\")\n",
        "print(\"-\" * 25)\n",
        "for name, metrics in results.items():\n",
        "    print(f\"{name:<8} {metrics['R²']:<7} {metrics['RMSE']:<7}\")"
      ]
    },
    {
      "cell_type": "markdown",
      "metadata": {
        "id": "y-XR4L8CDYHq"
      },
      "source": [
        "### 📈 Визуализация результатов"
      ]
    },
    {
      "cell_type": "code",
      "execution_count": 15,
      "metadata": {
        "id": "gNRBAXBUDYHq"
      },
      "outputs": [
        {
          "data": {
            "image/png": "[encoded data removed]",
            "text/plain": [
              "<Figure size 1000x600 with 1 Axes>"
            ]
          },
          "metadata": {},
          "output_type": "display_data"
        }
      ],
      "source": [
        "names = list(results.keys())\n",
        "r2_scores = [results[name]['R²'] for name in names]\n",
        "rmse_scores = [results[name]['RMSE'] for name in names]\n",
        "\n",
        "x = np.arange(len(names))\n",
        "width = 0.35\n",
        "\n",
        "fig, ax = plt.subplots(figsize=(10, 6))\n",
        "bars1 = ax.bar(x - width/2, r2_scores, width, label='R²', color='skyblue')\n",
        "bars2 = ax.bar(x + width/2, rmse_scores, width, label='RMSE', color='salmon')\n",
        "\n",
        "ax.set_ylabel('Значение')\n",
        "ax.set_title('Сравнение моделей')\n",
        "ax.set_xticks(x)\n",
        "ax.set_xticklabels(names)\n",
        "ax.legend()\n",
        "\n",
        "for bar in bars1:\n",
        "    height = bar.get_height()\n",
        "    ax.annotate(f'{height:.3f}',\n",
        "                xy=(bar.get_x() + bar.get_width() / 2, height),\n",
        "                xytext=(0, 3), textcoords=\"offset points\",\n",
        "                ha='center', va='bottom', fontsize=9)\n",
        "\n",
        "for bar in bars2:\n",
        "    height = bar.get_height()\n",
        "    ax.annotate(f'{height:.1f}',\n",
        "                xy=(bar.get_x() + bar.get_width() / 2, height),\n",
        "                xytext=(0, 3), textcoords=\"offset points\",\n",
        "                ha='center', va='bottom', fontsize=9)\n",
        "\n",
        "plt.tight_layout()\n",
        "plt.show()"
      ]
    },
    {
      "cell_type": "markdown",
      "metadata": {
        "id": "NqtUvsLiDYHq"
      },
      "source": [
        "## 📌 Где и когда использовать каждую модель?\n",
        "\n",
        "| Модель | Когда использовать |\n",
        "|-------|-------------------|\n",
        "| **Линейная регрессия** | Простота, интерпретация, линейные зависимости |\n",
        "| **Логистическая регрессия** | Бинарная классификация, вероятности, интерпретация |\n",
        "| **Decision Tree** | Интерпретация, нелинейности, выбросы |\n",
        "| **Random Forest** | Универсальный алгоритм, устойчив к переобучению |\n",
        "| **Gradient Boosting** | Высокая точность, время на настройку |\n",
        "| **XGBoost** | Максимальная точность, скорость, стабильность |\n",
        "| **CatBoost** | Есть категориальные признаки, мало предобработки |\n",
        "| **LightGBM** | Большие данные, высокая скорость |\n",
        "| **SVM** | Хорошо разделимые данные, нелинейности через ядро |\n",
        "| **k-NN** | Локальные зависимости, малые выборки |\n",
        "\n",
        "✅ **Совет**: Начинайте с `Random Forest` или `XGBoost` — они редко подводят."
      ]
    },
    {
      "cell_type": "markdown",
      "metadata": {
        "id": "3QtQIXueDYHq"
      },
      "source": [
        "## 🧰 Оптимизация гиперпараметров\n",
        "\n",
        "Примеры `GridSearchCV`, `RandomizedSearchCV`, `Early Stopping`."
      ]
    },
    {
      "cell_type": "code",
      "execution_count": 16,
      "metadata": {
        "id": "hciLJb2LDYHr"
      },
      "outputs": [
        {
          "name": "stdout",
          "output_type": "stream",
          "text": [
            "Лучшие параметры: {'learning_rate': 0.05, 'max_depth': 3, 'n_estimators': 50}\n"
          ]
        }
      ],
      "source": [
        "# GridSearchCV\n",
        "param_grid = {\n",
        "    'n_estimators': [50, 100],\n",
        "    'max_depth': [3, 5],\n",
        "    'learning_rate': [0.05, 0.1]\n",
        "}\n",
        "\n",
        "grid = GridSearchCV(XGBRegressor(random_state=42), param_grid, cv=3, scoring='r2', n_jobs=-1)\n",
        "grid.fit(X_train_reg, y_train_reg)\n",
        "print(\"Лучшие параметры:\", grid.best_params_)"
      ]
    },
    {
      "cell_type": "code",
      "execution_count": 17,
      "metadata": {
        "id": "FdPeDrTwDYHr"
      },
      "outputs": [
        {
          "name": "stdout",
          "output_type": "stream",
          "text": [
            "Лучшие параметры: {'learning_rate': np.float64(0.14606150771755597), 'max_depth': 3, 'n_estimators': 67}\n"
          ]
        }
      ],
      "source": [
        "# RandomizedSearchCV\n",
        "from scipy.stats import randint, uniform\n",
        "\n",
        "param_dist = {\n",
        "    'n_estimators': randint(50, 200),\n",
        "    'max_depth': randint(3, 10),\n",
        "    'learning_rate': uniform(0.01, 0.2)\n",
        "}\n",
        "\n",
        "random_search = RandomizedSearchCV(\n",
        "    XGBRegressor(random_state=42), param_dist, n_iter=20, cv=3, scoring='r2', n_jobs=-1, random_state=42\n",
        ")\n",
        "random_search.fit(X_train_reg, y_train_reg)\n",
        "print(\"Лучшие параметры:\", random_search.best_params_)"
      ]
    },
    {
      "cell_type": "code",
      "execution_count": 25,
      "metadata": {},
      "outputs": [
        {
          "name": "stdout",
          "output_type": "stream",
          "text": [
            "Оптимальное число деревьев: 33\n"
          ]
        }
      ],
      "source": [
        "from xgboost import XGBRegressor\n",
        "\n",
        "model = XGBRegressor(\n",
        "    n_estimators=1000,\n",
        "    learning_rate=0.05,\n",
        "    random_state=42,\n",
        "    early_stopping_rounds=10  \n",
        ")\n",
        "\n",
        "# eval_set передаётся в fit(), как обычно\n",
        "model.fit(\n",
        "    X_train_reg, y_train_reg,\n",
        "    eval_set=[(X_test_reg, y_test_reg)],\n",
        "    verbose=False\n",
        ")\n",
        "\n",
        "print(\"Оптимальное число деревьев:\", model.best_iteration)"
      ]
    }
  ],
  "metadata": {
    "colab": {
      "provenance": []
    },
    "kernelspec": {
      "display_name": "Python 3",
      "language": "python",
      "name": "python3"
    },
    "language_info": {
      "codemirror_mode": {
        "name": "ipython",
        "version": 3
      },
      "file_extension": ".py",
      "mimetype": "text/x-python",
      "name": "python",
      "nbconvert_exporter": "python",
      "pygments_lexer": "ipython3",
      "version": "3.13.5"
    }
  },
  "nbformat": 4,
  "nbformat_minor": 0
}
