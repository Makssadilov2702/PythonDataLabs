{
  "cells": [
    {
      "cell_type": "markdown",
      "metadata": {},
      "source": [
        "# Регрессия для аналитика\n",
        "\n",
        "В этом ноутбуке мы разберём:\n",
        "1. Линейную регрессию\n",
        "2. Множественную регрессию\n",
        "3. Полиномиальную регрессию\n",
        "4. Математику модели\n",
        "5. Интерпретацию коэффициентов\n",
        "6. Метрики качества (MAE, MSE, R²)\n",
        "7. Пример на синтетических и реальных данных"
      ]
    },
    {
      "cell_type": "markdown",
      "metadata": {},
      "source": [
        "## 1. Что такое регрессия\n",
        "Регрессия — это метод машинного обучения, который используется для **прогнозирования числовых значений**.\n",
        "\n",
        "**Примеры задач:**\n",
        "- Предсказание цены квартиры\n",
        "- Прогнозирование объёма продаж\n",
        "- Оценка времени доставки\n",
        "\n",
        "Регрессия помогает найти зависимость между признаками (X) и целевой переменной (y)."
      ]
    },
    {
      "cell_type": "markdown",
      "metadata": {},
      "source": [
        "## 2. Виды регрессии\n",
        "  \n",
        "**Линейная регрессия** — простая зависимость вида: \n",
        "$ y = b_0 + b_1x $  \n",
        "где:  \n",
        "- $ b_0$ — свободный член (intercept)  \n",
        "- $ b_1$ — коэффициент наклона  \n",
        "\n",
        "**Множественная регрессия** — зависимость с несколькими признаками:  \n",
        "$y = b_0 + b_1x_1 + b_2x_2 + ... + b_nx_n $  \n",
        "\n",
        "**Полиномиальная регрессия** — когда добавляем степени признаков:  \n",
        "$y = b_0 + b_1x + b_2x^2 + ... + b_mx^m $  \n",
        "Это позволяет моделировать кривые зависимости."
      ]
    },
    {
      "cell_type": "markdown",
      "metadata": {},
      "source": [
        "## 3. Математика модели\n",
        "Цель обучения — найти такие коэффициенты $b_0, b_1, ..., b_n$, которые минимизируют ошибку между предсказанными значениями и реальными.\n",
        "\n",
        "Метод наименьших квадратов (OLS) минимизирует сумму квадратов ошибок:\n",
        "$$\\min \\sum_{i=1}^n (y_i - \\hat{y_i})^2$$\n",
        "\n",
        "где:\n",
        "- $y_i$ — реальное значение\n",
        "- $\\hat{y_i}$ — предсказанное значение"
      ]
    },
    {
      "cell_type": "markdown",
      "metadata": {},
      "source": [
        "## 4. Интерпретация коэффициентов\n",
        "- **$b_0$ (intercept)** — значение y, когда все X равны 0.\n",
        "- **$b_i$ (slope)** — на сколько изменится y при изменении соответствующего X на 1 единицу, при прочих равных.\n",
        "\n",
        "Например, если $b_1 = 2$, то увеличение признака x1 на 1 увеличит прогноз на 2."
      ]
    },
    {
      "cell_type": "markdown",
      "metadata": {},
      "source": [
        "## 5. Метрики качества регрессии\n",
        "- **MAE** (Mean Absolute Error) — средняя абсолютная ошибка.\n",
        "- **MSE** (Mean Squared Error) — средний квадрат ошибки.\n",
        "- **R²** (коэффициент детерминации) — доля дисперсии, объяснённая моделью.\n",
        "\n",
        "R² ближе к 1 — модель лучше объясняет данные."
      ]
    },
    {
      "cell_type": "code",
      "execution_count": 1,
      "metadata": {},
      "outputs": [
        {
          "name": "stdout",
          "output_type": "stream",
          "text": [
            "Коэффициент наклона: 0.6\n",
            "Intercept: 2.2\n",
            "MAE: 0.6399999999999999\n",
            "MSE: 0.47999999999999987\n",
            "R²: 0.6000000000000001\n"
          ]
        }
      ],
      "source": [
        "# Пример: Линейная регрессия на синтетических данных\n",
        "import numpy as np\n",
        "import pandas as pd\n",
        "from sklearn.linear_model import LinearRegression\n",
        "from sklearn.metrics import mean_absolute_error, mean_squared_error, r2_score\n",
        "\n",
        "# Синтетические данные\n",
        "X = np.array([1, 2, 3, 4, 5]).reshape(-1, 1)\n",
        "y = np.array([2, 4, 5, 4, 5])\n",
        "\n",
        "# Модель\n",
        "model = LinearRegression()\n",
        "model.fit(X, y)\n",
        "\n",
        "y_pred = model.predict(X)\n",
        "\n",
        "print('Коэффициент наклона:', model.coef_[0])\n",
        "print('Intercept:', model.intercept_)\n",
        "print('MAE:', mean_absolute_error(y, y_pred))\n",
        "print('MSE:', mean_squared_error(y, y_pred))\n",
        "print('R²:', r2_score(y, y_pred))"
      ]
    },
    {
      "cell_type": "markdown",
      "metadata": {},
      "source": [
        "## 6. Пример на реальных данных (Boston Housing)\n",
        "Мы будем предсказывать цену жилья по набору признаков.\n",
        "\n",
        "📌 **Важно:** датасет Boston в scikit-learn считается устаревшим и заменён на California Housing, мы возьмём California."
      ]
    },
    {
      "cell_type": "code",
      "execution_count": 2,
      "metadata": {},
      "outputs": [
        {
          "name": "stdout",
          "output_type": "stream",
          "text": [
            "MAE: 0.5332001304956558\n",
            "MSE: 0.555891598695244\n",
            "R²: 0.5757877060324511\n"
          ]
        }
      ],
      "source": [
        "from sklearn.datasets import fetch_california_housing\n",
        "from sklearn.model_selection import train_test_split\n",
        "\n",
        "# Загружаем данные\n",
        "data = fetch_california_housing()\n",
        "X = pd.DataFrame(data.data, columns=data.feature_names)\n",
        "y = data.target\n",
        "\n",
        "# Разделяем\n",
        "X_train, X_test, y_train, y_test = train_test_split(X, y, test_size=0.2, random_state=42)\n",
        "\n",
        "# Модель\n",
        "model = LinearRegression()\n",
        "model.fit(X_train, y_train)\n",
        "\n",
        "y_pred = model.predict(X_test)\n",
        "\n",
        "print('MAE:', mean_absolute_error(y_test, y_pred))\n",
        "print('MSE:', mean_squared_error(y_test, y_pred))\n",
        "print('R²:', r2_score(y_test, y_pred))"
      ]
    },
    {
      "cell_type": "markdown",
      "metadata": {},
      "source": [
        "## 7. Полиномиальная регрессия\n",
        "Иногда зависимость между X и y нелинейная, и мы можем добавить степени признаков.\n",
        "\n",
        "Это даёт больше гибкости модели, но может привести к переобучению."
      ]
    },
    {
      "cell_type": "code",
      "execution_count": 3,
      "metadata": {},
      "outputs": [
        {
          "name": "stdout",
          "output_type": "stream",
          "text": [
            "R² полиномиальной модели: 0.683297629331749\n"
          ]
        }
      ],
      "source": [
        "from sklearn.preprocessing import PolynomialFeatures\n",
        "\n",
        "# Полиномиальные признаки степени 2\n",
        "poly = PolynomialFeatures(degree=2)\n",
        "X_poly = poly.fit_transform(X)\n",
        "\n",
        "# Модель\n",
        "model_poly = LinearRegression()\n",
        "model_poly.fit(X_poly, y)\n",
        "y_poly_pred = model_poly.predict(X_poly)\n",
        "\n",
        "print('R² полиномиальной модели:', r2_score(y, y_poly_pred))"
      ]
    },
    {
      "cell_type": "markdown",
      "metadata": {},
      "source": [
        "## Задания для практики\n",
        "1. Приведите три примера задач, где уместна линейная регрессия, и три — где лучше полиномиальная.\n",
        "2. Возьмите свой датасет и постройте модель множественной регрессии.\n",
        "3. Вычислите и сравните MAE и MSE для своей модели.\n",
        "4. Интерпретируйте коэффициенты модели на своём примере.\n",
        "5. Постройте полиномиальную регрессию степени 3 и сравните R² с линейной моделью."
      ]
    }
  ],
  "metadata": {
    "kernelspec": {
      "display_name": "Python 3",
      "name": "python3"
    },
    "language_info": {
      "codemirror_mode": {
        "name": "ipython",
        "version": 3
      },
      "file_extension": ".py",
      "mimetype": "text/x-python",
      "name": "python",
      "nbconvert_exporter": "python",
      "pygments_lexer": "ipython3",
      "version": "3.13.5"
    }
  },
  "nbformat": 4,
  "nbformat_minor": 5
}
