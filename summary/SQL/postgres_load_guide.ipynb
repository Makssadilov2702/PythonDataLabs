{
  "cells": [
    {
      "cell_type": "markdown",
      "metadata": {},
      "source": [
        "# 📥 Как загрузить CSV в PostgreSQL — Просто и по делу\n",
        "\n",
        "Все команды, которые нужно знать. Только практика. Никакой воды."
      ]
    },
    {
      "cell_type": "markdown",
      "metadata": {},
      "source": [
        "## 1. Подготовка: создание таблицы\n",
        "\n",
        "Сначала создайте таблицу с нужной структурой."
      ]
    },
    {
      "cell_type": "code",
      "execution_count": null,
      "metadata": {},
      "outputs": [],
      "source": [
        "%%sql\n",
        "CREATE TABLE employees (\n",
        "    id SERIAL PRIMARY KEY,\n",
        "    name VARCHAR(100),\n",
        "    department VARCHAR(50),\n",
        "    salary NUMERIC(10,2),\n",
        "    hire_date DATE\n",
        ");"
      ]
    },
    {
      "cell_type": "markdown",
      "metadata": {},
      "source": [
        "## 2. Загрузка CSV через `COPY` (внутри PostgreSQL)\n",
        "\n",
        "Файл должен быть **на сервере** (обычно ваш компьютер, если вы локально).\n",
        "\n",
        "```sql\n",
        "COPY таблица FROM 'путь/к/файлу.csv' DELIMITER ',' CSV HEADER;\n",
        "```"
      ]
    },
    {
      "cell_type": "code",
      "execution_count": null,
      "metadata": {},
      "outputs": [],
      "source": [
        "%%sql\n",
        "COPY employees FROM '/Users/ваше_имя/sql_analytics_handbook/data/employees.csv'\n",
        "DELIMITER ','\n",
        "CSV\n",
        "HEADER;"
      ]
    },
    {
      "cell_type": "markdown",
      "metadata": {},
      "source": [
        "## 3. Загрузка через `\\COPY` (в psql, клиентская команда)\n",
        "\n",
        "Используйте, если файл **на вашем компьютере**, и вы работаете через `psql`.\n",
        "\n",
        "Запустите в терминале:"
      ]
    },
    {
      "cell_type": "code",
      "execution_count": null,
      "metadata": {},
      "outputs": [],
      "source": [
        "# В терминале (не в Jupyter!)\n",
        "psql -U ваш_пользователь -d ваша_бд -c \"\\\\COPY employees FROM 'data/employees.csv' DELIMITER ',' CSV HEADER\""
      ]
    },
    {
      "cell_type": "markdown",
      "metadata": {},
      "source": [
        "## 4. Проверка\n",
        "\n",
        "Убедитесь, что данные загружены."
      ]
    },
    {
      "cell_type": "code",
      "execution_count": null,
      "metadata": {},
      "outputs": [],
      "source": [
        "%%sql\n",
        "SELECT * FROM employees LIMIT 10;"
      ]
    },
    {
      "cell_type": "markdown",
      "metadata": {},
      "source": [
        "## 5. Частые ошибки и как их исправить\n",
        "\n",
        "- **`File not found`** → Укажите полный путь (`/Users/...` или `C:\\\\...`).\n",
        "- **`Permission denied`** → Файл должен быть читаемым.\n",
        "- **`CSV header row missing`** → Уберите `HEADER`, если в файле нет заголовков.\n",
        "- **`Wrong delimiter`** → Попробуйте `DELIMITER ';'` или `\\t` для TSV."
      ]
    }
  ],
  "metadata": {
    "kernelspec": {
      "display_name": "Python 3",
      "language": "python",
      "name": "python3"
    },
    "language_info": {
      "name": "python",
      "version": "3.10"
    }
  },
  "nbformat": 4,
  "nbformat_minor": 5
}
